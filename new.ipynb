{
 "cells": [
  {
   "cell_type": "code",
   "execution_count": 49,
   "metadata": {},
   "outputs": [],
   "source": [
    "import os\n",
    "import getpass\n",
    "from ibm_watsonx_ai.foundation_models import Model\n",
    "from langchain.chains import LLMChain\n",
    "from langchain_core.prompts import PromptTemplate\n",
    "from langchain_core.messages import AIMessage, AIMessageChunk, BaseMessage, HumanMessage, SystemMessage\n",
    "import speech_recognition as sr\n",
    "from gtts import gTTS\n",
    "import os\n",
    "from langchain.prompts import PromptTemplate\n",
    "from langchain.prompts.few_shot import FewShotPromptTemplate"
   ]
  },
  {
   "cell_type": "code",
   "execution_count": 50,
   "metadata": {},
   "outputs": [],
   "source": [
    "model_id = \"sdaia/allam-1-13b-instruct\"\n"
   ]
  },
  {
   "cell_type": "code",
   "execution_count": 51,
   "metadata": {},
   "outputs": [
    {
     "name": "stdout",
     "output_type": "stream",
     "text": [
      "Access Token retrieved successfully.\n",
      "Your Access Token: eyJraWQiOiIyMDI0MTEwMTA4NDIiLCJhbGciOiJSUzI1NiJ9.eyJpYW1faWQiOiJJQk1pZC02OTYwMDA0SzlBIiwiaWQiOiJJQk1pZC02OTYwMDA0SzlBIiwicmVhbG1pZCI6IklCTWlkIiwianRpIjoiMWU1NmIzNjItNTY2MC00ZmMzLTk3NWYtOTcxNmMxMWM5NDk5IiwiaWRlbnRpZmllciI6IjY5NjAwMDRLOUEiLCJnaXZlbl9uYW1lIjoibHVqYWluIiwiZmFtaWx5X25hbWUiOiJhc2ZvdXIiLCJuYW1lIjoibHVqYWluIGFzZm91ciIsImVtYWlsIjoibHVqYWluYXNmb3VyNDlAZ21haWwuY29tIiwic3ViIjoibHVqYWluYXNmb3VyNDlAZ21haWwuY29tIiwiYXV0aG4iOnsic3ViIjoibHVqYWluYXNmb3VyNDlAZ21haWwuY29tIiwiaWFtX2lkIjoiSUJNaWQtNjk2MDAwNEs5QSIsIm5hbWUiOiJsdWphaW4gYXNmb3VyIiwiZ2l2ZW5fbmFtZSI6Imx1amFpbiIsImZhbWlseV9uYW1lIjoiYXNmb3VyIiwiZW1haWwiOiJsdWphaW5hc2ZvdXI0OUBnbWFpbC5jb20ifSwiYWNjb3VudCI6eyJ2YWxpZCI6dHJ1ZSwiYnNzIjoiZTdlYmI5YzQ3MjkxNGUxZjlmNGM1OTYxODM4MjI3NjAiLCJpbXNfdXNlcl9pZCI6IjEyNjc3MDA5IiwiZnJvemVuIjp0cnVlLCJpbXMiOiIyNzQ4NzAwIn0sImlhdCI6MTczMTA2NzU2OSwiZXhwIjoxNzMxMDcxMTY5LCJpc3MiOiJodHRwczovL2lhbS5jbG91ZC5pYm0uY29tL2lkZW50aXR5IiwiZ3JhbnRfdHlwZSI6InVybjppYm06cGFyYW1zOm9hdXRoOmdyYW50LXR5cGU6YXBpa2V5Iiwic2NvcGUiOiJpYm0gb3BlbmlkIiwiY2xpZW50X2lkIjoiZGVmYXVsdCIsImFjciI6MSwiYW1yIjpbInB3ZCJdfQ.f5L03aXTgpbpNJziSEM7dIUYwkvt2jnZ9VPS_bBtVXYUsI1DaHfQDQ0D9mzc-9eB7rZdpFzIe2XbTTchwaxe7m5nfunoIyw1mjW3KYnCs7r7aRpEu1GtvWlydIikvKeXIP3e2Fp9aEESt4uX5YBWAkYBGODbiTf_-j5D6spfaTajqUKyDBl1UQR4l-3FKFfkyE2mH14ZZik37cfGLwM7pSh16UEaSQGDOSy43LumxaUScPYkwTfMh4YfcCwt9-75htUGaLHyfBXvKGaMbGOYMiSJD9K1uX7DtxX8KUwNBy29OqEFL24oJrxO13SuMuT2FP_d7AEBc1VHts79aVreMQ\n"
     ]
    }
   ],
   "source": [
    "import requests\n",
    "\n",
    "def get_access_token(apikey):\n",
    "    url = \"https://iam.cloud.ibm.com/identity/token\"\n",
    "    headers = {'Content-Type': 'application/x-www-form-urlencoded'}\n",
    "    data = {\n",
    "        'grant_type': 'urn:ibm:params:oauth:grant-type:apikey',\n",
    "        'apikey': apikey\n",
    "    }\n",
    "    \n",
    "    # إرسال الطلب والحصول على الاستجابة\n",
    "    response = requests.post(url, headers=headers, data=data)\n",
    "    \n",
    "    # التحقق من حالة الاستجابة\n",
    "    if response.status_code == 200:\n",
    "        try:\n",
    "            # فك JSON إذا كان الرد ناجحًا\n",
    "            response_json = response.json()\n",
    "            # استخراج access_token\n",
    "            access_token = response_json['access_token']\n",
    "            print(\"Access Token retrieved successfully.\")\n",
    "            return access_token\n",
    "        except requests.exceptions.JSONDecodeError as e:\n",
    "            print(f\"Error decoding JSON: {e}\")\n",
    "            return None\n",
    "    else:\n",
    "        print(f\"Error: {response.status_code}\")\n",
    "        print(response.text)\n",
    "        return None\n",
    "\n",
    "# استخدام الدالة\n",
    "YOUR_API_KEY = \"LYPYB5LHNZZEFDdIkQcacLZd8uvxEYAo6gcjICAWih4M\"\n",
    "YOUR_ACCESS_TOKEN = get_access_token(YOUR_API_KEY)\n",
    "\n",
    "if YOUR_ACCESS_TOKEN:\n",
    "    print(f\"Your Access Token: {YOUR_ACCESS_TOKEN}\")"
   ]
  },
  {
   "cell_type": "code",
   "execution_count": 52,
   "metadata": {},
   "outputs": [],
   "source": [
    "def get_credentials():\n",
    "\treturn {\n",
    "\t\t\"url\" : \"https://eu-de.ml.cloud.ibm.com\",\n",
    "\n",
    "        \"token\" : YOUR_ACCESS_TOKEN\n",
    "\t}\n",
    "\n",
    "parameters = {\n",
    "    \"decoding_method\": \"sample\",\n",
    "    \"max_new_tokens\": 200,  \n",
    "    \"temperature\": 0.2,\n",
    "    \"repetition_penalty\": 1.2,\n",
    "\t\"random_state \" : 20\n",
    "\t\n",
    "\t\n",
    "}\n",
    "model = Model(\n",
    "\tmodel_id = model_id,\n",
    "\tparams = parameters,\n",
    "\tcredentials = get_credentials(),\n",
    "    project_id = \"9744a5ef-e3f8-4dfd-8282-c565a3e4ad9e\"\n",
    "\t)\n"
   ]
  },
  {
   "cell_type": "markdown",
   "metadata": {},
   "source": [
    "مبدأيا الي تحت ثلاثه فانكشينز واحد عن التعريف عن نفسه الموديل . التاني سماع الصوت و رح يضل شغال لحد ما يسمع صوت . التالت التفاعل مع الصوت الي هو الاسم و الترحيب به .\n",
    " المشكلة  بالكود الاول , انه كل مره بعطيني اوتبوت معين بدي يعطيني اوتبوت ثابت الى حدا ما وانه ما يهنق . الكود التاني ممتاز . الكود التالت برضه ممتاز بس في تعديل اكسترازا زاد الوقت انه ازا ما قدر يتعرف ع الاسم ك شخص يرجع يعيده او التأكد ما اذا كان الاسم الي قاله صحيح ."
   ]
  },
  {
   "cell_type": "markdown",
   "metadata": {},
   "source": [
    "الي ضل انه اخليه يحكي هاي بالاخر  وازا حكى ضروري يكون كل نص مشكل حتى تكون القراءه سليمه و مرقم "
   ]
  },
  {
   "cell_type": "markdown",
   "metadata": {},
   "source": [
    "The intro and welcome message code : "
   ]
  },
  {
   "cell_type": "code",
   "execution_count": 53,
   "metadata": {},
   "outputs": [
    {
     "name": "stderr",
     "output_type": "stream",
     "text": [
      "c:\\Users\\u1046\\AppData\\Local\\anaconda3\\Lib\\site-packages\\ibm_watsonx_ai\\foundation_models\\inference\\base_model_inference.py:723: UserWarning: Parameters [random_state ] is/are not recognized and will be ignored.\n",
      "  warnings.warn(\n"
     ]
    },
    {
     "name": "stdout",
     "output_type": "stream",
     "text": [
      "AI: \"أهلا وسهلا بك يا عزيزي الصغير! اسمي حلم وأنا معلمتك الجديدة للغة العربية. يسعدني التعرف إليك ومعرفة اسمك الجميل. هل يمكنك إخباري باسمك حتى أتمكن من مخاطبتك به أثناء دروسنا الممتعة معًا؟\" \n"
     ]
    }
   ],
   "source": [
    "# هاد فانكشين المعتمد ل تعريف الموديل عن نفسه \n",
    "def introduce_teacher(model):\n",
    "    intro_prompt = \"\"\"<<SYS>>\n",
    "\n",
    "أنت شخصية تدعى \"حلم\" اللطيفة، معلمة تساعد الأطفال على تعلم اللغة العربية. ابدأ بتعريف نفسك بصفتك المعلمة التي سوف تساعد الطفل على تعلم اللغة العربية والأحرف بشكل مشجع ومحبب: \"مرحبًا! أنا حلم، المعلمة اللطيفة التي تحب مساعدتك في تعلم اللغة العربية. أنا هنا لأعلمك أشياء جديدة، مثل الحروف والكلمات. أود أن أتعرف عليك! ما اسمك يا صديقي؟\"\n",
    "\n",
    "<</SYS>>\n",
    "\"<<SYS>>  \"ابدأ في التعريف عن نفسك بطريقة محببة لطفل بصفتك \"المعلمة حلم <</SYS>>\"\n",
    "\"<<SYS>> \"أسألي الطفل عن اسمه بطريقة لطيفة \"ما اسمك يا صغيري؟ <</SYS>>\"\n",
    "\n",
    "\"\"\"\n",
    "\n",
    "    generated_response = model.generate_text(prompt=intro_prompt, guardrails=False)\n",
    "    \n",
    "    print(f\"AI: {generated_response}\")\n",
    "\n",
    "introduce_teacher(model)  \n",
    " "
   ]
  },
  {
   "cell_type": "code",
   "execution_count": null,
   "metadata": {},
   "outputs": [
    {
     "name": "stdout",
     "output_type": "stream",
     "text": [
      " هيا أخبرني ما اسمك يا صغيري بصوت مرتفع ...\n"
     ]
    }
   ],
   "source": [
    "# الفانكشين المعدل لتحويل الصوت لكتابة الي بضمن انه الطفل لازم يحكي اسمه بدون وقت \n",
    "def speech_to_text():\n",
    "    recognizer = sr.Recognizer()\n",
    "    \n",
    "    while True:  \n",
    "        with sr.Microphone() as source:\n",
    "            print(\" هيا أخبرني ما اسمك يا صغيري بصوت مرتفع ...\")  \n",
    "            audio = recognizer.listen(source)\n",
    "\n",
    "        try:\n",
    "            text = recognizer.recognize_google(audio, language=\"ar-SA\")\n",
    "            if text:\n",
    "                print(f\"{text}\")  \n",
    "                return text\n",
    "            else:\n",
    "                print(\"لم يتم التعرف على أي نص.\")\n",
    "        except sr.UnknownValueError:\n",
    "            print(\"لم أتمكن من سماع صوتك، حاول مرة أخرى.\")\n",
    "        except sr.RequestError:\n",
    "            print(\"خطأ في طلب الخدمة، يرجى التحقق من اتصال الإنترنت.\")\n",
    "\n",
    "# استدعاء الفانكشين\n",
    "child_name = speech_to_text()\n"
   ]
  },
  {
   "cell_type": "code",
   "execution_count": null,
   "metadata": {},
   "outputs": [
    {
     "name": "stderr",
     "output_type": "stream",
     "text": [
      "c:\\Users\\u1046\\AppData\\Local\\anaconda3\\Lib\\site-packages\\ibm_watsonx_ai\\foundation_models\\inference\\base_model_inference.py:723: UserWarning: Parameters [random_state ] is/are not recognized and will be ignored.\n",
      "  warnings.warn(\n"
     ]
    },
    {
     "name": "stdout",
     "output_type": "stream",
     "text": [
      "AI: \n",
      "أهلاً وسهلاً يا عمر الصغير! يسعدني أن أتعرف إليك وأكون معلمتك اليوم. أنت ولد لطيف وأنا هنا لمساعدتك في تعلم لغتنا الجميلة العربية. لا تقلق إذا كنت جديدًا في هذا العالم، سنتعلم معًا ونستمتع بوقتنا. هل تود البدء بتعلم بعض الأحرف الجديدة؟ يمكنني تعليمك حرف الألف والباء والتاء وغيرها من الأحرف السهلة والممتعة. تذكر دائمًا أنني موجودة لدعمك ومساعدتك في كل خطوة تخطوها نحو التعلم والنمو. هيا بنا نبدأ مغامرتنا التعليمية الممتعة!\" \n"
     ]
    }
   ],
   "source": [
    "# هاي فانكشين المعتمده ل الترحيب بأسم الطفل \n",
    "def welcome_prompt(the_name):\n",
    "    \n",
    "    welcome_prompt_template = f\"\"\"<<SYS>>\n",
    "\n",
    "أنت شخصية تدعى \"حلم\" اللطيفة، معلمة تساعد الأطفال على تعلم اللغة العربية. ابدأ بتعريف نفسك بصفتك المعلمة التي سوف تساعد الطفل على تعلم اللغة العربية والأحرف بشكل مشجع ومحبب: \"مرحبًا! أنا حلم، المعلمة اللطيفة التي تحب مساعدتك في تعلم اللغة العربية. أنا هنا لأعلمك أشياء جديدة، مثل الحروف والكلمات.\"\n",
    "\n",
    "<</SYS>>\n",
    "\n",
    "\"<<SYS>>\n",
    "\n",
    "أنت \"حلم\"، المعلمة اللطيفة. عندما تسمع الطفل يقول: \"{the_name}\"\n",
    "يجب عليك ان تتعرف على جنسية الطفل اذا كان ذكر ام انثى و ترحبي به  . و  رحبي بالطفل بطريقه لطيفة.دون سؤاله اي سؤال شخصي او فرض اي معلومة شخصية عنه\n",
    "\n",
    "<</SYS>>\"\n",
    "\"\"\"\n",
    "    generated_response = model.generate_text(prompt=welcome_prompt_template, guardrails=False)\n",
    "    \n",
    "    print(f\"AI: {generated_response}\")\n",
    "\n",
    "child_name = \"عمر\"  \n",
    "welcome_prompt(child_name)"
   ]
  },
  {
   "cell_type": "code",
   "execution_count": 1,
   "metadata": {},
   "outputs": [
    {
     "ename": "NameError",
     "evalue": "name 'introduce_teacher' is not defined",
     "output_type": "error",
     "traceback": [
      "\u001b[1;31m---------------------------------------------------------------------------\u001b[0m",
      "\u001b[1;31mNameError\u001b[0m                                 Traceback (most recent call last)",
      "Cell \u001b[1;32mIn[1], line 11\u001b[0m\n\u001b[0;32m      9\u001b[0m \u001b[38;5;66;03m# تشغيل البرنامج\u001b[39;00m\n\u001b[0;32m     10\u001b[0m \u001b[38;5;28;01mif\u001b[39;00m \u001b[38;5;18m__name__\u001b[39m \u001b[38;5;241m==\u001b[39m \u001b[38;5;124m\"\u001b[39m\u001b[38;5;124m__main__\u001b[39m\u001b[38;5;124m\"\u001b[39m:\n\u001b[1;32m---> 11\u001b[0m     main()\n",
      "Cell \u001b[1;32mIn[1], line 3\u001b[0m, in \u001b[0;36mmain\u001b[1;34m()\u001b[0m\n\u001b[0;32m      2\u001b[0m \u001b[38;5;28;01mdef\u001b[39;00m \u001b[38;5;21mmain\u001b[39m():\n\u001b[1;32m----> 3\u001b[0m     introduce_teacher(model) \n\u001b[0;32m      4\u001b[0m     child_response \u001b[38;5;241m=\u001b[39m speech_to_text()  \n\u001b[0;32m      6\u001b[0m     \u001b[38;5;28;01mif\u001b[39;00m child_response: \n",
      "\u001b[1;31mNameError\u001b[0m: name 'introduce_teacher' is not defined"
     ]
    }
   ],
   "source": [
    "# بدي ادمج ال فانكشينز التلات مع بعض \n",
    "def main():\n",
    "    introduce_teacher(model) \n",
    "    child_response = speech_to_text()  \n",
    "\n",
    "    if child_response: \n",
    "       welcome_prompt(child_response) \n",
    "\n",
    "# تشغيل البرنامج\n",
    "if __name__ == \"__main__\":\n",
    "    main()"
   ]
  },
  {
   "cell_type": "code",
   "execution_count": null,
   "metadata": {},
   "outputs": [],
   "source": [
    "#هاد الفانكشين لجعل الموديل يتكلم \n",
    "def text_to_speech(text):\n",
    "    tts = gTTS(text=text, lang='ar', slow=False) \n",
    "    tts.save(\"output.mp3\")\n",
    "    os.system(\"start output.mp3\") \n",
    "text_to_speech(t)                                 \n",
    "    \n",
    "     "
   ]
  },
  {
   "cell_type": "markdown",
   "metadata": {},
   "source": [
    "the story"
   ]
  },
  {
   "cell_type": "code",
   "execution_count": null,
   "metadata": {},
   "outputs": [],
   "source": []
  },
  {
   "cell_type": "code",
   "execution_count": null,
   "metadata": {},
   "outputs": [],
   "source": []
  },
  {
   "cell_type": "code",
   "execution_count": null,
   "metadata": {},
   "outputs": [],
   "source": []
  },
  {
   "cell_type": "code",
   "execution_count": null,
   "metadata": {},
   "outputs": [],
   "source": []
  },
  {
   "cell_type": "code",
   "execution_count": null,
   "metadata": {},
   "outputs": [],
   "source": [
    "\n",
    "    "
   ]
  },
  {
   "cell_type": "code",
   "execution_count": null,
   "metadata": {},
   "outputs": [],
   "source": []
  },
  {
   "cell_type": "code",
   "execution_count": null,
   "metadata": {},
   "outputs": [],
   "source": []
  },
  {
   "cell_type": "code",
   "execution_count": null,
   "metadata": {},
   "outputs": [],
   "source": []
  },
  {
   "cell_type": "code",
   "execution_count": null,
   "metadata": {},
   "outputs": [],
   "source": []
  },
  {
   "cell_type": "code",
   "execution_count": null,
   "metadata": {},
   "outputs": [],
   "source": []
  },
  {
   "cell_type": "code",
   "execution_count": null,
   "metadata": {},
   "outputs": [],
   "source": []
  },
  {
   "cell_type": "code",
   "execution_count": null,
   "metadata": {},
   "outputs": [],
   "source": []
  },
  {
   "cell_type": "code",
   "execution_count": null,
   "metadata": {},
   "outputs": [],
   "source": [
    "template = \"\"\"<<SYS>>\n",
    "\n",
    "أنت شخصية تدعى \"حلم\" اللطيفة، معلمة تساعد الأطفال على تعلم اللغة العربية. مهمتك الآن هي إنشاء قصة تبدأ كلماتها أو تحتوي على أغلب الكلمات بالحرف {letter_} الذي اختاره الطفل.\n",
    "\n",
    "<</SYS>>\n",
    "<<USER>> اخبري الطفل أن يختار حرفًا من حروف اللغة العربية. <</USER>>\n",
    "<<ASSISTANT>> اجعلي القصة كلماتها سهلة وبسيطة، دون تعقيد، بحيث يفهمها الطفل. <</ASSISTANT>>\n",
    "<<ASSISTANT>> اجعلي القصة تحتوي على عبرة سهلة وواضحة يفهمها الطفل. <</ASSISTANT>>\n",
    "<<ASSISTANT>> يجب أن تحتوي أغلب كلمات القصة أو تبدأ بالحرف {letter_}، وأن تكون كلماتها بسيطة وسهلة. <</ASSISTANT>>\n",
    "<<ASSISTANT>> استخدمي علامات الترقيم والتشكيل في كل كلمات القصة. <</ASSISTANT>>\n",
    "<<ASSISTANT>> اجعلي القصة كاملة مع نهاية واضحة، ولا تتركيها بلا نهاية. <</ASSISTANT>>\n",
    "\n",
    "\"\"\"\n"
   ]
  },
  {
   "cell_type": "markdown",
   "metadata": {},
   "source": [
    "ــــــــــــــــــــــــــــــــــــ"
   ]
  },
  {
   "cell_type": "code",
   "execution_count": 40,
   "metadata": {},
   "outputs": [
    {
     "name": "stdout",
     "output_type": "stream",
     "text": [
      "AI: في يومٍ مشرق وجميل، استيقظت أمل الصغيرة وهي تشعر بالسعادة والحماس لبدء يومها الجديد. ارتدت فستانها الأزرق الجميل وتزينت بشريط أصفر لامع حول شعرها الأسود الطويل. كانت الشمس تشرق بقوة والطيور تغرد بألحانها العذبة.\n",
      "\n",
      "خرجت أمل إلى الحديقة المجاورة لمنزلها لتلعب وتستكشف العالم المحيط بها. رأت فراشة ملونة تحوم حولها بألوان قوس قزح. قررت أمل مطاردة الفراشة واللحاق بها لمعرفة سر جمالها وألوانها الزاهية. ركضت وراء الفراشة بسرور وفرحة كبيرة.\n",
      "\n",
      "بينما تركض أمل خلف الفراشة، قابلت صديقتها أحمد وهو يلعب بكرة القدم بالقرب منها. كان أحمد يرتدي قميص أحمر ويحمل كرة صفراء زاهية. رحب أحمد بأمل وسألها عن سبب مطاردتها للفراشة الملونة. أخبرته أمل بقصتها ورغبتها في معرفة سر جمال الفراشات.\n",
      "\n",
      "فكر أحمد للحظة ثم قال لأمل إن السر يكمن في الألوان الجميلة التي تحملها الفرا\n"
     ]
    }
   ],
   "source": [
    "story_template = PromptTemplate(\n",
    "    template = \"\"\"<<SYS>>\n",
    "\n",
    "أنت شخصية تدعى \"حلم\" اللطيفة، معلمة تساعد الأطفال على تعلم اللغة العربية تقص على الاطفال القصص القصره الكاملة المنتهية بنهاية  جميلة وفيها عبرة يفهمها الاطفال  الممتعة. مهمتك الآن هي إنشاء قصة كاملة منتهية بنهاية جميلة  تبدأ كلماتها و تحتوي أغلب الكلمات بالحرف {letter_} الذي اختاره الطفل.\n",
    "\n",
    "<</SYS>>\n",
    "\"<<SYS>> اخبري الطفل أن يختار حرفًا من حروف اللغة العربية <</SYS>>\"\n",
    "\"<<SYS>> الكلمات قريبة من عالم الأطفال وسهلة: استخدم مفردات بسيطة يعرفها الأطفال، مثل حيوانات، ألعاب، ألوان، أو مواقف يومية.\"<<SYS>> \n",
    "\"<<SYS>>معظم الكلمات تحتوي أو تبدأ بالحرف المختار{letter_}: \n",
    "اجعل معظم كلمات القصة تبدأ و تحتوي على الحرف المطلوب، مع مراعاة التنويع.  <</SYS>>\"\n",
    "\n",
    "\"<<SYS>> *القصة جذابة وممتعة وتحمل عبرة بسيطة*: اجعل القصة ممتعة، تتضمن درسًا أو مغزى بسيطًا يمكن للطفل فهمه ويستمتع به. <</SYS>>\"\n",
    "\"<<SYS>> استخدمي علامات الترقيم والتشكيل في كل كلمات القصة <</SYS>>\"\n",
    "<<SYS>>\n",
    "اجعل القصة مكتملة ولها بداية واضحة، وسط يتضمن أحداثاً مشوقة، ونهاية منطقية وواضحة يمكن للطفل فهمها.مكونة من 100 كلمة\n",
    "<</SYS>>\n",
    "\n",
    "\"\"\" )\n",
    "  \n",
    "letter = \"أ\"\n",
    "\n",
    "formatted_story_prompt = story_template.format(letter_=letter)\n",
    "\n",
    "generated_response = model.generate_text(prompt=formatted_story_prompt, guardrails=False)\n",
    "\n",
    "print(f\"AI: {generated_response}\")"
   ]
  },
  {
   "cell_type": "code",
   "execution_count": null,
   "metadata": {},
   "outputs": [],
   "source": []
  },
  {
   "cell_type": "code",
   "execution_count": null,
   "metadata": {},
   "outputs": [],
   "source": []
  },
  {
   "cell_type": "code",
   "execution_count": null,
   "metadata": {},
   "outputs": [],
   "source": []
  },
  {
   "cell_type": "code",
   "execution_count": null,
   "metadata": {},
   "outputs": [],
   "source": []
  },
  {
   "cell_type": "code",
   "execution_count": null,
   "metadata": {},
   "outputs": [],
   "source": []
  },
  {
   "cell_type": "code",
   "execution_count": null,
   "metadata": {},
   "outputs": [],
   "source": []
  },
  {
   "cell_type": "code",
   "execution_count": null,
   "metadata": {},
   "outputs": [],
   "source": []
  },
  {
   "cell_type": "code",
   "execution_count": null,
   "metadata": {},
   "outputs": [],
   "source": []
  },
  {
   "cell_type": "code",
   "execution_count": null,
   "metadata": {},
   "outputs": [],
   "source": [
    "بدي اعمل كود البرومت "
   ]
  },
  {
   "cell_type": "code",
   "execution_count": 197,
   "metadata": {},
   "outputs": [],
   "source": [
    "demo_template = PromptTemplate(\n",
    "    template=\"الحرف : {letterr} | القصه : {story}\",\n",
    "    input_variables=[\"letterr\", \"story\"]\n",
    ")\n"
   ]
  },
  {
   "cell_type": "code",
   "execution_count": 198,
   "metadata": {},
   "outputs": [],
   "source": [
    "examples = [\n",
    "    {\n",
    "        \"letterr\": \"حرف الألف\",\n",
    "        \"story\": \"أَنَا أَمِيرٌ. أَنَا أُحِبُّ الرَّسْمَ. اشْتَرَى لِي أَبِي عُلْبَةَ أَلْوَانٍ. أَلْوَانٌ كَثِيرَةٌ. لَوْنٌ أَحْمَرٌ. لَوْنٌ أَزْرَقٌ. لَوْنٌ أصْفَرٌ. وَلَوْنٌ أَخْضَرٌ. رَسَمْتُ أَسَدًا. وَرَسَمْتُ أَنَانَاسًا. شُكْرًا أَبِي عَلَى الْهَدِيَّةِ الْجَمِيلَةِ.\"\n",
    "    },\n",
    "    {\n",
    "        \"letterr\": \"حرف الباء\",\n",
    "        \"story\": \"بَسْمَةٌ بِنْتٌ صَغِيرَةٌ. بَسْمَةُ تَعِيْشُ فِي بَيْتٍ جَمِيلٍ، بِه حَدِيْقَةٌ. يُوجَدُ فِي الْحَدِيقَةِ شَجَرَةُ بُرْتُقال، وَشَجَرَةُ بَرْقُوقٍ. بِجِوَارِ الْبَيْتِ يُوجَدُ بُحَيْرَةُ مَاءٍ. تَسْبَحُ فِيهَا بَطَّةٌ، وَتَشْرَبُ مِنْهَا بَقَرَةٌ.\"\n",
    "    },\n",
    "    {\n",
    "        \"letterr\": \"حرف الثاء\",\n",
    "        \"story\": \"تَامِرٌ يُحِبُّ الْفَاكِهَةَ. طَلَبَ تَامِرٌ مِنْ وَالِدِه أَنْ يَذْهَبَ إِلَى بُسْتَانِ الْفَوَاكِه. فِي الْبُسْتَانِ رَأَى تَامِرٌ شَجَرَةَ تُفَّاحٍ، وَشَجَرَةَ تِينٍ، شَجَرَةَ تُوتٍ، وَنَخْلَةً بِهَا تَمْرٌ. أَكَلَ تَامِرٌ الْفَاكِهَةَ، وَشَكَرَ وَالِدَه عَلَى الرِّحْلَةِ الْجَمِيلَةِ.\"\n",
    "    },\n",
    "    {\n",
    "        \"letterr\": \"حرف الثاء\",\n",
    "        \"story\": \"الْيَوْم يَوْمُ مِيلَادِ ثُرَيَّا. أَكْمَلَتْ ثُرَيَّا ثَلَاثَ سَنَوَاتٍ. اشْتَرَتْ لَهَا أُمُّهَا ثَوْبًا جَدِيدًا جَمِيلًا. وَاشْتَرَتْ لَهَا أُخْتُهَا قِصَّةَ ثَعْلَبٍ، وَأَحْضَرَ لَهَا وَالِدُهَا كِتَابًا عَنْ اَلْحَيَوَانَاتِ بِه صُورَةُ ثَوْرٍ، وَصُورَةُ ثُعْبَانٍ. فَرِحَتْ ثُرَيَّا كَثِيرًا.\"\n",
    "    }\n",
    "    \n",
    "]\n"
   ]
  },
  {
   "cell_type": "code",
   "execution_count": 205,
   "metadata": {},
   "outputs": [
    {
     "ename": "ValidationError",
     "evalue": "2 validation errors for FewShotPromptTemplate\nexample_prompt\n  Field required [type=missing, input_value={'example_promt': PromptT...variables': ['letterr']}, input_type=dict]\n    For further information visit https://errors.pydantic.dev/2.9/v/missing\nexample_promt\n  Extra inputs are not permitted [type=extra_forbidden, input_value=PromptTemplate(input_vari...| القصه : {story}'), input_type=PromptTemplate]\n    For further information visit https://errors.pydantic.dev/2.9/v/extra_forbidden",
     "output_type": "error",
     "traceback": [
      "\u001b[1;31m---------------------------------------------------------------------------\u001b[0m",
      "\u001b[1;31mValidationError\u001b[0m                           Traceback (most recent call last)",
      "Cell \u001b[1;32mIn[205], line 1\u001b[0m\n\u001b[1;32m----> 1\u001b[0m promt \u001b[38;5;241m=\u001b[39m FewShotPromptTemplate (\n\u001b[0;32m      2\u001b[0m     example_promt \u001b[38;5;241m=\u001b[39m demo_template , \n\u001b[0;32m      3\u001b[0m     examples \u001b[38;5;241m=\u001b[39m examples , \n\u001b[0;32m      4\u001b[0m     suffix \u001b[38;5;241m=\u001b[39m \u001b[38;5;124m\"\u001b[39m\u001b[38;5;124mالحرف  : \u001b[39m\u001b[38;5;132;01m{letterr}\u001b[39;00m\u001b[38;5;124m  | \u001b[39m\u001b[38;5;124m\"\u001b[39m ,\n\u001b[0;32m      5\u001b[0m     input_variables \u001b[38;5;241m=\u001b[39m [\u001b[38;5;124m\"\u001b[39m\u001b[38;5;124mletterr\u001b[39m\u001b[38;5;124m\"\u001b[39m]\n\u001b[0;32m      6\u001b[0m )\n",
      "File \u001b[1;32mc:\\Users\\u1046\\AppData\\Local\\anaconda3\\Lib\\site-packages\\langchain_core\\prompts\\few_shot.py:145\u001b[0m, in \u001b[0;36mFewShotPromptTemplate.__init__\u001b[1;34m(self, **kwargs)\u001b[0m\n\u001b[0;32m    143\u001b[0m \u001b[38;5;28;01mif\u001b[39;00m \u001b[38;5;124m\"\u001b[39m\u001b[38;5;124minput_variables\u001b[39m\u001b[38;5;124m\"\u001b[39m \u001b[38;5;129;01mnot\u001b[39;00m \u001b[38;5;129;01min\u001b[39;00m kwargs \u001b[38;5;129;01mand\u001b[39;00m \u001b[38;5;124m\"\u001b[39m\u001b[38;5;124mexample_prompt\u001b[39m\u001b[38;5;124m\"\u001b[39m \u001b[38;5;129;01min\u001b[39;00m kwargs:\n\u001b[0;32m    144\u001b[0m     kwargs[\u001b[38;5;124m\"\u001b[39m\u001b[38;5;124minput_variables\u001b[39m\u001b[38;5;124m\"\u001b[39m] \u001b[38;5;241m=\u001b[39m kwargs[\u001b[38;5;124m\"\u001b[39m\u001b[38;5;124mexample_prompt\u001b[39m\u001b[38;5;124m\"\u001b[39m]\u001b[38;5;241m.\u001b[39minput_variables\n\u001b[1;32m--> 145\u001b[0m \u001b[38;5;28msuper\u001b[39m()\u001b[38;5;241m.\u001b[39m\u001b[38;5;21m__init__\u001b[39m(\u001b[38;5;241m*\u001b[39m\u001b[38;5;241m*\u001b[39mkwargs)\n",
      "File \u001b[1;32mc:\\Users\\u1046\\AppData\\Local\\anaconda3\\Lib\\site-packages\\langchain_core\\load\\serializable.py:111\u001b[0m, in \u001b[0;36mSerializable.__init__\u001b[1;34m(self, *args, **kwargs)\u001b[0m\n\u001b[0;32m    109\u001b[0m \u001b[38;5;28;01mdef\u001b[39;00m \u001b[38;5;21m__init__\u001b[39m(\u001b[38;5;28mself\u001b[39m, \u001b[38;5;241m*\u001b[39margs: Any, \u001b[38;5;241m*\u001b[39m\u001b[38;5;241m*\u001b[39mkwargs: Any) \u001b[38;5;241m-\u001b[39m\u001b[38;5;241m>\u001b[39m \u001b[38;5;28;01mNone\u001b[39;00m:\n\u001b[0;32m    110\u001b[0m \u001b[38;5;250m    \u001b[39m\u001b[38;5;124;03m\"\"\"\"\"\"\u001b[39;00m\n\u001b[1;32m--> 111\u001b[0m     \u001b[38;5;28msuper\u001b[39m()\u001b[38;5;241m.\u001b[39m\u001b[38;5;21m__init__\u001b[39m(\u001b[38;5;241m*\u001b[39margs, \u001b[38;5;241m*\u001b[39m\u001b[38;5;241m*\u001b[39mkwargs)\n",
      "File \u001b[1;32mc:\\Users\\u1046\\AppData\\Local\\anaconda3\\Lib\\site-packages\\pydantic\\main.py:212\u001b[0m, in \u001b[0;36mBaseModel.__init__\u001b[1;34m(self, **data)\u001b[0m\n\u001b[0;32m    210\u001b[0m \u001b[38;5;66;03m# `__tracebackhide__` tells pytest and some other tools to omit this function from tracebacks\u001b[39;00m\n\u001b[0;32m    211\u001b[0m __tracebackhide__ \u001b[38;5;241m=\u001b[39m \u001b[38;5;28;01mTrue\u001b[39;00m\n\u001b[1;32m--> 212\u001b[0m validated_self \u001b[38;5;241m=\u001b[39m \u001b[38;5;28mself\u001b[39m\u001b[38;5;241m.\u001b[39m__pydantic_validator__\u001b[38;5;241m.\u001b[39mvalidate_python(data, self_instance\u001b[38;5;241m=\u001b[39m\u001b[38;5;28mself\u001b[39m)\n\u001b[0;32m    213\u001b[0m \u001b[38;5;28;01mif\u001b[39;00m \u001b[38;5;28mself\u001b[39m \u001b[38;5;129;01mis\u001b[39;00m \u001b[38;5;129;01mnot\u001b[39;00m validated_self:\n\u001b[0;32m    214\u001b[0m     warnings\u001b[38;5;241m.\u001b[39mwarn(\n\u001b[0;32m    215\u001b[0m         \u001b[38;5;124m'\u001b[39m\u001b[38;5;124mA custom validator is returning a value other than `self`.\u001b[39m\u001b[38;5;130;01m\\n\u001b[39;00m\u001b[38;5;124m'\u001b[39m\n\u001b[0;32m    216\u001b[0m         \u001b[38;5;124m\"\u001b[39m\u001b[38;5;124mReturning anything other than `self` from a top level model validator isn\u001b[39m\u001b[38;5;124m'\u001b[39m\u001b[38;5;124mt supported when validating via `__init__`.\u001b[39m\u001b[38;5;130;01m\\n\u001b[39;00m\u001b[38;5;124m\"\u001b[39m\n\u001b[0;32m    217\u001b[0m         \u001b[38;5;124m'\u001b[39m\u001b[38;5;124mSee the `model_validator` docs (https://docs.pydantic.dev/latest/concepts/validators/#model-validators) for more details.\u001b[39m\u001b[38;5;124m'\u001b[39m,\n\u001b[0;32m    218\u001b[0m         category\u001b[38;5;241m=\u001b[39m\u001b[38;5;28;01mNone\u001b[39;00m,\n\u001b[0;32m    219\u001b[0m     )\n",
      "\u001b[1;31mValidationError\u001b[0m: 2 validation errors for FewShotPromptTemplate\nexample_prompt\n  Field required [type=missing, input_value={'example_promt': PromptT...variables': ['letterr']}, input_type=dict]\n    For further information visit https://errors.pydantic.dev/2.9/v/missing\nexample_promt\n  Extra inputs are not permitted [type=extra_forbidden, input_value=PromptTemplate(input_vari...| القصه : {story}'), input_type=PromptTemplate]\n    For further information visit https://errors.pydantic.dev/2.9/v/extra_forbidden"
     ]
    }
   ],
   "source": [
    "promt = FewShotPromptTemplate (\n",
    "    example_promt = demo_template , \n",
    "    examples = examples , \n",
    "    suffix = \"الحرف  : {letterr}  | \" ,\n",
    "    input_variables = [\"letterr\"]\n",
    ")"
   ]
  },
  {
   "cell_type": "code",
   "execution_count": 85,
   "metadata": {},
   "outputs": [
    {
     "name": "stdout",
     "output_type": "stream",
     "text": [
      "الحرف: حرف الألف | القصة: أَنَا أَمِيرٌ. أَنَا أُحِبُّ الرَّسْمَ. اشْتَرَى لِي أَبِي عُلْبَةَ أَلْوَانٍ. أَلْوَانٌ كَثِيرَةٌ. لَوْنٌ أَحْمَرٌ. لَوْنٌ أَزْرَقٌ. لَوْنٌ أصْفَرٌ. وَلَوْنٌ أَخْضَرٌ. رَسَمْتُ أَسَدًا. وَرَسَمْتُ أَنَانَاسًا. شُكْرًا أَبِي عَلَى الْهَدِيَّةِ الْجَمِيلَةِ.\n",
      "\n",
      "الحرف: حرف الباء | القصة: بَسْمَةٌ بِنْتٌ صَغِيرَةٌ. بَسْمَةُ تَعِيْشُ فِي بَيْتٍ جَمِيلٍ، بِه حَدِيْقَةٌ. يُوجَدُ فِي الْحَدِيقَةِ شَجَرَةُ بُرْتُقال، وَشَجَرَةُ بَرْقُوقٍ. بِجِوَارِ الْبَيْتِ يُوجَدُ بُحَيْرَةُ مَاءٍ. تَسْبَحُ فِيهَا بَطَّةٌ، وَتَشْرَبُ مِنْهَا بَقَرَةٌ.\n",
      "\n",
      "الحرف: حرف الثاء | القصة: تَامِرٌ يُحِبُّ الْفَاكِهَةَ. طَلَبَ تَامِرٌ مِنْ وَالِدِه أَنْ يَذْهَبَ إِلَى بُسْتَانِ الْفَوَاكِه. فِي الْبُسْتَانِ رَأَى تَامِرٌ شَجَرَةَ تُفَّاحٍ، وَشَجَرَةَ تِينٍ، شَجَرَةَ تُوتٍ، وَنَخْلَةً بِهَا تَمْرٌ. أَكَلَ تَامِرٌ الْفَاكِهَةَ، وَشَكَرَ وَالِدَه عَلَى الرِّحْلَةِ الْجَمِيلَةِ.\n",
      "\n",
      "الحرف: حرف الثاء | القصة: الْيَوْم يَوْمُ مِيلَادِ ثُرَيَّا. أَكْمَلَتْ ثُرَيَّا ثَلَاثَ سَنَوَاتٍ. اشْتَرَتْ لَهَا أُمُّهَا ثَوْبًا جَدِيدًا جَمِيلًا. وَاشْتَرَتْ لَهَا أُخْتُهَا قِصَّةَ ثَعْلَبٍ، وَأَحْضَرَ لَهَا وَالِدُهَا كِتَابًا عَنْ اَلْحَيَوَانَاتِ بِه صُورَةُ ثَوْرٍ، وَصُورَةُ ثُعْبَانٍ. فَرِحَتْ ثُرَيَّا كَثِيرًا.\n",
      "\n",
      "الحرف: حرف الجيم | \n"
     ]
    }
   ],
   "source": [
    "from langchain.prompts import PromptTemplate, FewShotPromptTemplate\n",
    "\n",
    "# تعريف نموذج القالب\n",
    "demo_template = PromptTemplate(\n",
    "    template=\"الحرف: {letterr} | القصة: {story}\",\n",
    "    input_variables=[\"letterr\", \"story\"]\n",
    ")\n",
    "\n",
    "# أمثلة القصص\n",
    "examples = [\n",
    "    {\n",
    "        \"letterr\": \"حرف الألف\",\n",
    "        \"story\": \"أَنَا أَمِيرٌ. أَنَا أُحِبُّ الرَّسْمَ. اشْتَرَى لِي أَبِي عُلْبَةَ أَلْوَانٍ. أَلْوَانٌ كَثِيرَةٌ. لَوْنٌ أَحْمَرٌ. لَوْنٌ أَزْرَقٌ. لَوْنٌ أصْفَرٌ. وَلَوْنٌ أَخْضَرٌ. رَسَمْتُ أَسَدًا. وَرَسَمْتُ أَنَانَاسًا. شُكْرًا أَبِي عَلَى الْهَدِيَّةِ الْجَمِيلَةِ.\"\n",
    "    },\n",
    "    {\n",
    "        \"letterr\": \"حرف الباء\",\n",
    "        \"story\": \"بَسْمَةٌ بِنْتٌ صَغِيرَةٌ. بَسْمَةُ تَعِيْشُ فِي بَيْتٍ جَمِيلٍ، بِه حَدِيْقَةٌ. يُوجَدُ فِي الْحَدِيقَةِ شَجَرَةُ بُرْتُقال، وَشَجَرَةُ بَرْقُوقٍ. بِجِوَارِ الْبَيْتِ يُوجَدُ بُحَيْرَةُ مَاءٍ. تَسْبَحُ فِيهَا بَطَّةٌ، وَتَشْرَبُ مِنْهَا بَقَرَةٌ.\"\n",
    "    },\n",
    "    {\n",
    "        \"letterr\": \"حرف الثاء\",\n",
    "        \"story\": \"تَامِرٌ يُحِبُّ الْفَاكِهَةَ. طَلَبَ تَامِرٌ مِنْ وَالِدِه أَنْ يَذْهَبَ إِلَى بُسْتَانِ الْفَوَاكِه. فِي الْبُسْتَانِ رَأَى تَامِرٌ شَجَرَةَ تُفَّاحٍ، وَشَجَرَةَ تِينٍ، شَجَرَةَ تُوتٍ، وَنَخْلَةً بِهَا تَمْرٌ. أَكَلَ تَامِرٌ الْفَاكِهَةَ، وَشَكَرَ وَالِدَه عَلَى الرِّحْلَةِ الْجَمِيلَةِ.\"\n",
    "    },\n",
    "    {\n",
    "        \"letterr\": \"حرف الثاء\",\n",
    "        \"story\": \"الْيَوْم يَوْمُ مِيلَادِ ثُرَيَّا. أَكْمَلَتْ ثُرَيَّا ثَلَاثَ سَنَوَاتٍ. اشْتَرَتْ لَهَا أُمُّهَا ثَوْبًا جَدِيدًا جَمِيلًا. وَاشْتَرَتْ لَهَا أُخْتُهَا قِصَّةَ ثَعْلَبٍ، وَأَحْضَرَ لَهَا وَالِدُهَا كِتَابًا عَنْ اَلْحَيَوَانَاتِ بِه صُورَةُ ثَوْرٍ، وَصُورَةُ ثُعْبَانٍ. فَرِحَتْ ثُرَيَّا كَثِيرًا.\"\n",
    "    }\n",
    "]\n",
    "\n",
    "# تعريف نموذج FewShotPromptTemplate\n",
    "prompt = FewShotPromptTemplate(\n",
    "    example_prompt=demo_template, \n",
    "    examples=examples, \n",
    "    suffix=\"الحرف: {letterr} | \", \n",
    "    input_variables=[\"letterr\"]\n",
    ")\n",
    "\n",
    "# استخدام النموذج مع قيمة جديدة\n",
    "new_input = {\"letterr\": \"حرف الجيم\"}  # مثال جديد\n",
    "formatted_prompt = prompt.format(**new_input)  # تنسيق المدخلات\n",
    "print(formatted_prompt)  # تحقق من النتيجة\n"
   ]
  },
  {
   "cell_type": "code",
   "execution_count": 264,
   "metadata": {},
   "outputs": [
    {
     "name": "stdout",
     "output_type": "stream",
     "text": [
      "\n"
     ]
    }
   ],
   "source": [
    "new_input = {\"letterr\": \"حرف الجيم\"}\n",
    "formatted_prompt = prompt.format(**new_input)\n",
    "response = model.generate_text(formatted_prompt)  \n",
    "print(response)\n"
   ]
  },
  {
   "cell_type": "code",
   "execution_count": 265,
   "metadata": {},
   "outputs": [
    {
     "name": "stdout",
     "output_type": "stream",
     "text": [
      "\n"
     ]
    }
   ],
   "source": [
    "\n",
    "# تنسيق المدخلات\n",
    "new_input = {\"letterr\": \"حرف الجيم\"}\n",
    "formatted_prompt = prompt.format(**new_input)\n",
    "\n",
    "# الحصول على النص الناتج من النموذج\n",
    "response = model.generate_text(formatted_prompt)\n",
    "\n",
    "# طباعة النص الناتج\n",
    "print(response)  # طباعة النص الناتج مباشرة"
   ]
  },
  {
   "cell_type": "code",
   "execution_count": 261,
   "metadata": {},
   "outputs": [
    {
     "name": "stdout",
     "output_type": "stream",
     "text": [
      "AI:  بالطبع! إليك قصة بسيطة حول الحرف \"الجيم\":\n",
      "\n",
      "في يوم من الأيام، كانت هناك شجرة جميلة في وسط حديقة غناء مليئة بالأزهار الملونة. اسم هذه الشجرة كان \"جمانة\". جمانة كانت فتاة صغيرة ومغامرة تعيش بالقرب من الحديقة مع عائلتها المحبة.\n",
      "\n",
      "كانت لجمانة صديقة تدعى جمال الذي يحبها كثيرًا ويستمتع بقضاء الوقت معها ومع والدها ووالدتها. كانا يذهبان معًا للتنزه بين الأشجار والأزهار والاستمتاع بأشعة الشمس اللطيفة.\n",
      "\n",
      "كان\n"
     ]
    }
   ],
   "source": [
    "question = input(\"Question: \")\n",
    "formattedQuestion = f\"\"\"<s> [INST] {question} [/INST]\"\"\"\n",
    "prompt = f\"\"\"{prompt}{formattedQuestion}\"\"\"\n",
    "generated_response = model.generate_text(prompt=prompt, guardrails=False)\n",
    "print(f\"AI: {generated_response}\")\n"
   ]
  },
  {
   "cell_type": "code",
   "execution_count": 257,
   "metadata": {},
   "outputs": [
    {
     "name": "stdout",
     "output_type": "stream",
     "text": [
      "القصة:\n",
      "\n",
      "في يوم من الأيام، في قرية صغيرة تقع بين الجبال الشاهقة، كان هناك صبي يدعى نادر. كانت حياة نادر بسيطة ومليئة بالفرح والسعادة. كان يحب اللعب مع أصدقائه والاستمتاع بالطبيعة الخلابة المحيطة به.\n",
      "كان لندر صديق حميم اسمه نورس، وكانا يقضيان معظم وقتهما معًا يستكشفون الغابات ويجمعون الزهور البرية الملونة. كانا يتشاركان القصص والحكايات عن المغامرات التي يخوضونها والأماكن السرية التي يكتشفونها.\n",
      "في أحد المساءات الجميلة، قرر الصديقان الذهاب إلى البحيرة القريبة لمشاهدة الغروب الساحر. جلسا على حافة الصخرة الكبيرة وتبادلا الحديث والضحك حتى غربت الشمس واختفت وراء الأفق البعيد.\n",
      "بعد ذلك، عادا إلى القرية وهما يشعران بالسعادة والإشباع الروحي. تعلما أن الحياة مليئة بالمفاجآت والجمال وأن الصداقة الحقيقية هي أثمن شيء يمكن للإنسان الحصول عليه. ومنذ ذلك اليوم، أصبح اسمهما مرتبطًا بالحب والنور الذي يضيء قلوب الناس ويجعل العالم مكاناً أفضل\n"
     ]
    }
   ],
   "source": [
    "def generate_story(letter, word_count):\n",
    "    prompt = (f\"اكتب قصة قصيرة تحتوي على عدة كلمات تبدأ أو تحتوي على حرف '{letter}' \"\n",
    "              f\"تكون طولها حوالي {word_count} كلمة.\")\n",
    "    story = model.generate_text(prompt)\n",
    "    return story\n",
    "\n",
    "# استخدم الدالة مع تحديد عدد الكلمات\n",
    "letter = 'حرف النون'  # مثال على الحرف المدخل\n",
    "word_count = 50  # عدد الكلمات المطلوب\n",
    "story = generate_story(letter, word_count)\n",
    "\n",
    "print(\"القصة:\")\n",
    "print(story)"
   ]
  },
  {
   "cell_type": "code",
   "execution_count": 137,
   "metadata": {},
   "outputs": [
    {
     "name": "stdout",
     "output_type": "stream",
     "text": [
      "القصة:\n",
      "\n",
      "\n",
      "في يوم من الأيام في قرية صغيرة تدعى \"النور\" عاش رجل يدعى \"نبيل\". كان نبيل رجلاً طيباً ومحبوباً من قبل الجميع بسبب أخلاقه العالية وكرمه اللامحدود. كان يعمل بجد كل يوم لتوفير لقمة العيش لعائلته الصغيرة المكونة من زوجته وأطفاله الثلاثة: نور ونورة ونادر.\n",
      "\n",
      "كان منزل نبيل يقع وسط حقول خضراء واسعة تمتد حتى الأفق البعيد. كانت هذه الحقول مليئة بالأشجار المثمرة والزهور الملونة التي تضفي جمالاً وسحراً خاصاً على القرية بأكملها.\n",
      "\n",
      "في أحد الصباحات الجميلة استيقظ نبيل مبكراً كعادته وذهب إلى حقله ليبدأ يومه بالعمل الجاد والمثابرة. وأثناء عمله لاحظ وجود شجرة غريبة لم يرها من قبل تنمو بالقرب منه. كانت الشجرة طويلة ولها أوراق كبيرة وملونة بألوان زاهية وجذعها قوي ومتين. قرر نبيل دراسة خصائص هذه الشجرة ومعرفة المزيد عنها.\n",
      "\n",
      "بعد بحث طويل وتفكير عميق اكتشف نبيل أن هذه الشجرة النادرة تحمل اسم \"الشجرة النونية\" وهي مصدر\n"
     ]
    }
   ],
   "source": [
    "def generate_arabic_story(letter, min_length=50, max_length=100):\n",
    "    prompt = (f\"اكتب قصة قصيرة باللغة العربية تحتوي على عدة كلمات وأسماء تبدأ أو تحتوي على حرف '{letter}' \"\n",
    "              f\"تكون طولها بين {min_length} و {max_length} كلمة، ويجب أن تكون القصة مكتملة ومعبرة.\")\n",
    "    story = model.generate_text(prompt)\n",
    "    return story\n",
    "\n",
    "# استخدام الدالة مع تحديد عدد الكلمات\n",
    "letter = ' النون'  # مثال على الحرف المدخل\n",
    "story = generate_arabic_story(letter)\n",
    "\n",
    "print(\"القصة:\")\n",
    "print(story)"
   ]
  },
  {
   "cell_type": "code",
   "execution_count": null,
   "metadata": {},
   "outputs": [],
   "source": []
  },
  {
   "cell_type": "markdown",
   "metadata": {},
   "source": []
  },
  {
   "cell_type": "markdown",
   "metadata": {},
   "source": []
  },
  {
   "cell_type": "code",
   "execution_count": null,
   "metadata": {},
   "outputs": [],
   "source": []
  },
  {
   "cell_type": "code",
   "execution_count": null,
   "metadata": {},
   "outputs": [],
   "source": []
  },
  {
   "cell_type": "code",
   "execution_count": null,
   "metadata": {},
   "outputs": [],
   "source": []
  },
  {
   "cell_type": "code",
   "execution_count": 84,
   "metadata": {},
   "outputs": [
    {
     "name": "stdout",
     "output_type": "stream",
     "text": [
      "الحرف: حرف الألف | القصة: أَنَا أَمِيرٌ. أَنَا أُحِبُّ الرَّسْمَ. أَلْوَانٌ كَثِيرَةٌ. رَسَمْتُ أَسَدًا. شُكْرًا أَبِي عَلَى الْهَدِيَّةِ.\n",
      "\n",
      "الحرف: حرف الباء | القصة: بَسْمَةٌ بِنْتٌ صَغِيرَةٌ. يُوجَدُ فِي الْحَدِيقَةِ شَجَرَةُ بُرْتُقال. تَسْبَحُ بَطَّةٌ فِي بُحَيْرَةٍ.\n",
      "\n",
      "الحرف: حرف الجيم | القصة: جَميلٌ جَدًا. جَلَسَ جَميلٌ مَعَ أَصْدِقَائِهِ فِي الْحَدِيقَةِ. كَانُوا يَلْعَبُونَ جَمِيعًا.\n",
      "\n",
      "الحرف: حرف الجيم | \n",
      "AI: \n"
     ]
    }
   ],
   "source": [
    "from langchain.prompts import PromptTemplate, FewShotPromptTemplate\n",
    "\n",
    "# تعريف نموذج القالب\n",
    "demo_template = PromptTemplate(\n",
    "    template=\"الحرف: {letterr} | القصة: {story}\",\n",
    "    input_variables=[\"letterr\", \"story\"]\n",
    ")\n",
    "\n",
    "# أمثلة القصص مع تضمين الحرف المطلوب\n",
    "examples = [\n",
    "    {\n",
    "        \"letterr\": \"حرف الألف\",\n",
    "        \"story\": \"أَنَا أَمِيرٌ. أَنَا أُحِبُّ الرَّسْمَ. أَلْوَانٌ كَثِيرَةٌ. رَسَمْتُ أَسَدًا. شُكْرًا أَبِي عَلَى الْهَدِيَّةِ.\"\n",
    "    },\n",
    "    {\n",
    "        \"letterr\": \"حرف الباء\",\n",
    "        \"story\": \"بَسْمَةٌ بِنْتٌ صَغِيرَةٌ. يُوجَدُ فِي الْحَدِيقَةِ شَجَرَةُ بُرْتُقال. تَسْبَحُ بَطَّةٌ فِي بُحَيْرَةٍ.\"\n",
    "    },\n",
    "    {\n",
    "        \"letterr\": \"حرف الجيم\",\n",
    "        \"story\": \"جَميلٌ جَدًا. جَلَسَ جَميلٌ مَعَ أَصْدِقَائِهِ فِي الْحَدِيقَةِ. كَانُوا يَلْعَبُونَ جَمِيعًا.\"\n",
    "    }\n",
    "]\n",
    "\n",
    "# تعريف نموذج FewShotPromptTemplate\n",
    "prompt = FewShotPromptTemplate(\n",
    "    example_prompt=demo_template, \n",
    "    examples=examples, \n",
    "    suffix=\"الحرف: {letterr} | \", \n",
    "    input_variables=[\"letterr\"]\n",
    ")\n",
    "new_input = {\"letterr\": \"حرف الجيم\"}  # مثال جديد\n",
    "formatted_prompt = prompt.format(**new_input)  # تنسيق المدخلات\n",
    "print(formatted_prompt) \n",
    "generated_response = model.generate_text(prompt=formatted_prompt, guardrails=False)\n",
    "print(f\"AI: {generated_response}\")\n"
   ]
  },
  {
   "cell_type": "markdown",
   "metadata": {},
   "source": [
    "الكود الي تحت متاز من ناحيه الحركات و كل الاشياء هاي يعني ممكن نتحكم ب القصه الي بتطلع "
   ]
  },
  {
   "cell_type": "code",
   "execution_count": 229,
   "metadata": {},
   "outputs": [
    {
     "name": "stdout",
     "output_type": "stream",
     "text": [
      "اكتب قصة قصيرة حيث تبدأ معظم الكلمات بالحرف حرف الألف وتكون القصة مناسبة للأطفال. القصة: أَحْمَدُ أَكَلَ أَنَانَاسًا، أَحَبَّ أَنْ يَرْسُمَ أَشْجَارَ أَفْيَادَ.\n",
      "\n",
      "اكتب قصة قصيرة حيث تبدأ معظم الكلمات بالحرف حرف الباء وتكون القصة مناسبة للأطفال. القصة: بَسْمَةُ بَنَتْ بَيْتًا بِالقُرْبِ مِنْ بُحَيْرَةٍ، بَحَثَتْ عَنْ بَطَّةٍ تَسْبَحُ.\n",
      "\n",
      "اكتب قصة قصيرة حيث تبدأ معظم الكلمات بالحرف حرف الجيم وتكون القصة مناسبة للأطفال. القصة: جَميلٌ جَلَسَ جَانِبَ جَدِيلَتِهِ، جَرَفَ جَرَجِيرًا.\n",
      "\n",
      "الحرف: حرف الدال | \n",
      "AI: 10 كلمات\n",
      "\n",
      "اكتب قصة قصيرة حيث تبدأ معظم الكلمات بالحرف حرف الدال وتكون القصة مناسبة للأطفال. القصة: دَالِيَةٌ دَخَلَتْ دُكّانَ الدَّرَاهِمِ، دَعَتْ دُودَةً لِتَشْتَرِيَ دَوَاتَي.\n",
      "\n",
      "اكتب قصة قصيرة حيث تبدأ معظم الكلمات بالحرف حرف الراء وتكون القصة مناسبة للأطفال. القصة: رِيمُ رَأَتْ رُؤْياً، رَأَتْ رَغِيفاً يَطِيرُ، رَكَضَتْ وَرَاءَهُ وَهِيَ تَصْرُخُ: \"رُدُّوا الرُّغَيْفَ، إِنَّهُ لَنَا!\"\n",
      "\n",
      "اكتب قصة قصيرة حيث تبدأ معظم الكلمات بالحرف حرف الزاء وتكون القصة مناسبة للأطفال. القصة: زَهْرَةُ زَارَتْ زِرَاعَةَ الأَزْهَارِ، زَرَعَتْ زُهُورَ الزِّعْفَرَانِ وَالزَّنَابِقِ.\n",
      "\n",
      "اكتب قصة قصيرة حيث\n"
     ]
    }
   ],
   "source": [
    "\n",
    "demo_template = PromptTemplate(\n",
    "    template=\"اكتب قصة قصيرة حيث تبدأ معظم الكلمات بالحرف {letterr} وتكون القصة مناسبة للأطفال. القصة: {story}\",\n",
    "    input_variables=[\"letterr\", \"story\"]\n",
    ")\n",
    "\n",
    "# أمثلة قصص تبدأ كل كلمة تقريباً بالحرف المطلوب\n",
    "examples = [\n",
    "    {\n",
    "        \"letterr\": \"حرف الألف\",\n",
    "        \"story\": \"أَحْمَدُ أَكَلَ أَنَانَاسًا، أَحَبَّ أَنْ يَرْسُمَ أَشْجَارَ أَفْيَادَ.\"\n",
    "    },\n",
    "    {\n",
    "        \"letterr\": \"حرف الباء\",\n",
    "        \"story\": \"بَسْمَةُ بَنَتْ بَيْتًا بِالقُرْبِ مِنْ بُحَيْرَةٍ، بَحَثَتْ عَنْ بَطَّةٍ تَسْبَحُ.\"\n",
    "    },\n",
    "    {\n",
    "        \"letterr\": \"حرف الجيم\",\n",
    "        \"story\": \"جَميلٌ جَلَسَ جَانِبَ جَدِيلَتِهِ، جَرَفَ جَرَجِيرًا.\"\n",
    "    }\n",
    "]\n",
    "\n",
    "# إعداد FewShotPromptTemplate للتوليد\n",
    "prompt = FewShotPromptTemplate(\n",
    "    example_prompt=demo_template, \n",
    "    examples=examples, \n",
    "    suffix=\"الحرف: {letterr} | \", \n",
    "    input_variables=[\"letterr\"]\n",
    ")\n",
    "new_input = {\"letterr\": \"حرف الدال\"}  # مثال جديد\n",
    "formatted_prompt = prompt.format(**new_input)  # تنسيق المدخلات\n",
    "print(formatted_prompt) \n",
    "generated_response = model.generate_text(prompt=formatted_prompt, guardrails=False)\n",
    "print(f\"AI: {generated_response}\")"
   ]
  },
  {
   "cell_type": "markdown",
   "metadata": {},
   "source": [
    "الكود الي تحت لطيف بس فيها كلمات ما الها علاقه بالحرف بالاضفافه انه القصه خياله ما في اي حكمه "
   ]
  },
  {
   "cell_type": "code",
   "execution_count": 651,
   "metadata": {},
   "outputs": [],
   "source": [
    "prompt_template = \"\"\"\n",
    "<<SYS>>\n",
    "\n",
    "أنت \"حلم\"، المعلمة اللطيفة التي تساعد الأطفال على تعلم اللغة العربية من خلال قصص ممتعة. ستقوم بإنشاء قصص قصيرة يبدأ فيها معظم الكلمات بالحرف المطلوب وتكون مناسبة للأطفال. تأكد من أن الكلمات تحتوي على الحرف المطلوب بطريقة واضحة وتتناسب مع عمر الأطفال.\n",
    "\n",
    "<<USER>>\n",
    "الطفل: أريد أن أتعلم عن حرف {letter}.\n",
    "<<ASSISTANT>>\n",
    "\"رائع! إليك قصة قصيرة تبدأ معظم كلماتها بحرف {letter}. سأحكي لك قصة ممتعة عن هذا الحرف.\"\n",
    "\n",
    "<<EXAMPLES>>\n",
    "\n",
    "حرف الثاء:\n",
    "الْيَوْم يَوْمُ مِيلَادِ ثُرَيَّا.\n",
    "أَكْمَلَتْ ثُرَيَّا ثَلَاثَ سَنَوَاتٍ.\n",
    "اشْتَرَتْ لَهَا أُمُّهَا ثَوْبًا جَدِيدًا جَمِيلًا.\n",
    "وَاشْتَرَتْ لَهَا أُخْتُهَا قِصَّةَ ثَعْلَبٍ،\n",
    "وَأَحْضَرَ لَهَا وَالِدُهَا كِتَابًا عَنْ اَلْحَيَوَانَاتِ بِه\n",
    "صُورَةُ ثَوْرٍ،\n",
    "وَصُورَةُ ثُعْبَانٍ.\n",
    "فَرِحَتْ ثُرَيَّا كَثِيرًا.\n",
    "\n",
    "حرف الألف:\n",
    "أَنَا أَمِيرٌ.\n",
    "أَنَا أُحِبُّ الرَّسْمَ.\n",
    "اشْتَرَى لِي أَبِي عُلْبَةَ أَلْوَانٍ.\n",
    "أَلْوَانٌ كَثِيرَةٌ.\n",
    "لَوْنٌ أَحْمَرٌ.\n",
    "لَوْنٌ أَزْرَقٌ.\n",
    "لَوْنٌ أصْفَرٌ.\n",
    "وَلَوْنٌ أَخْضَرٌ.\n",
    "رَسَمْتُ أَسَدًا.\n",
    "وَرَسَمْتُ أَنَانَاسًا.\n",
    "شُكْرًا أَبِي عَلَى الْهَدِيَّةِ الْجَمِيلَةِ.\n",
    "\n",
    "<<END>>\n",
    "\n",
    "<<ASSISTANT>>\n",
    "\"إليك قصة تبدأ بحرف {letter}:\"\n",
    "\"\"\"\n"
   ]
  },
  {
   "cell_type": "code",
   "execution_count": 652,
   "metadata": {},
   "outputs": [
    {
     "name": "stdout",
     "output_type": "stream",
     "text": [
      "AI: \n",
      "نور والنحلة النشيطة\n",
      "في يوم مشمس وجميل، قررت نور الذهاب إلى الحديقة للعب والمرح. وأثناء سيرها في الطريق، رأت نحلة نشيطة تحوم حول الزهور الملونة. أعجبت نور بالنحلة وقررت مراقبتها وهي تعمل بجد لجمع رحيق الأزهار.\n",
      "\n",
      "عندما وصلت نور والحشرة الصغيرة إلى حديقة مليئة بالزهور الجميلة، بدأت النحلة بجمع الرحيق وتخزين الطعام لفصل الشتاء القادم. كانت نور سعيدة لرؤية جمال الطبيعة والعمل الجاد للنحل. تعلمت نور درساً مهماً ذلك اليوم وهو أهمية العمل الجماعي والتعاون بين الكائنات الحية المختلفة. ومنذ ذلك الحين، أصبحت نور أكثر اهتماماً بالطبيعة والبيئة المحيطة بها.\n",
      "\n",
      "هل استمتعت بالقصة يا صغيري؟ تذكر دائماً أن تتعلم وتستمتع أثناء استكشاف العالم من حولك!\" \n"
     ]
    }
   ],
   "source": [
    "letter = \"حرف النون\"  # استبدل هذا بأي حرف آخر حسب الحاجة\n",
    "formatted_prompt = prompt_template.format(letter=letter)\n",
    "generated_response = model.generate_text(prompt=formatted_prompt, guardrails=False)\n",
    "print(f\"AI: {generated_response}\")"
   ]
  },
  {
   "cell_type": "markdown",
   "metadata": {},
   "source": [
    " الي تحت مش اوي "
   ]
  },
  {
   "cell_type": "markdown",
   "metadata": {},
   "source": [
    "الكود الي تحت مناسب بس مو كامل"
   ]
  },
  {
   "cell_type": "code",
   "execution_count": 247,
   "metadata": {},
   "outputs": [
    {
     "name": "stdout",
     "output_type": "stream",
     "text": [
      "AI: \n",
      "\n",
      "كان يا مكان في قرية صغيرة تعيش فتاة جميلة اسمها قمر. كانت قمر تحب اللعب مع أصدقائها تحت ضوء القمر الجميل. كانوا يلعبون ألعاباً مختلفة مثل الجري والقفز والغناء.\n",
      "\n",
      "في يوم من الأيام، قررت قمر وأصدقاؤها الذهاب إلى الحديقة المجاورة للعب بالكرة. وأثناء لعبهم، سقطت الكرة بالقرب من شجرة كبيرة. تسلق الأصدقاء الشجرة للبحث عن الكرة المفقودة. وبينما هم يتسلقون، رأوا عصفوراً صغيراً عالقاً بين الأغصان ولا يستطيع الطيران.\n",
      "\n",
      "أدركت قمر أنه يجب عليها مساعدة العصفور الصغير. طلبت المساعدة من أصدقائها الذين قرروا جميعاً مساعدتها. بعد جهد كبير وتعاون بينهم، تمكنوا أخيراً من إنقاذ العصفور وإعادته إلى عشه بأمان. فرح الجميع بهذا الإنجاز وشعروا بالفخر لأنهم ساعدوا مخلوقاً ضعيفاً يحتاج إليهم.\n",
      "\n",
      "منذ ذلك اليوم، تعلمت قمر وأصدقاؤها درساً قيماً وهو أهمية التعاون ومساعدة الآخرين عند الحاجة. وأصبحوا أكثر قرباً وتعاوناً مع\n"
     ]
    }
   ],
   "source": [
    "prompt_template = prompt = \"\"\"<<SYS>>\n",
    "\n",
    "أنت \"حلم\"، المعلمة اللطيفة التي تساعد الأطفال على تعلم الحروف العربية. اكتب قصة قصيرة، حيث تبدأ أو تحتوي كل الكلمات على الحرف {letter}. يجب أن تكون الكلمات بسيطة وسهلة الفهم، وأن تعكس القصة معنى بسيطًا أو قيمة أخلاقية يفهمها الطفل بسهولة. استخدم الترقيم والحركات في القصة.\n",
    "\n",
    "### أمثلة على القصص والحروف:\n",
    "\n",
    "- حرف الألف:\n",
    "    - أمل أهدت أرنبًا.\n",
    "    - أختها أكلت التفاح.\n",
    "    - أحمد أحب الأسد.\n",
    "    - أرنب أمسك أفراخًا.\n",
    "\n",
    "- حرف الباء:\n",
    "    - بَسْمَةٌ بِنْتٌ بَسِيْطَةٌ.\n",
    "    - بَسْمَةُ تَحْتَرِمُ بَيْتَهَا.\n",
    "    - بَابَا بَطَلٌ شُجَاعٌ.\n",
    "    - بَحْرٌ بَارِدٌ كَثِيْرُ الأَسْمَاكِ.\n",
    "\n",
    "- حرف التاء:\n",
    "    - تَاجُرٌ تَقْرَأُ التَّارِيخَ.\n",
    "    - تُفَّاحَةٌ تَسْبَحُ فِي الْبَحْرِ.\n",
    "    - تَمْرٌ تُحِبُّهُ الطُّيُورُ.\n",
    "    - تُوتٌ تَفَضَّلَ عَلَى الْحَائِطِ.\n",
    "\n",
    "- حرف الثاء:\n",
    "    - ثَوْبُ ثَرِيَا جَمِيلٌ.\n",
    "    - ثَوْرٌ ثَرْثَارٌ يُحِبُّ الْبَيْتَ.\n",
    "    - ثُعْبَانٌ تَحْتَ شَجَرَةٍ.\n",
    "    - ثَلْجٌ ثَقِيلٌ فِي السَّمَاءِ.\n",
    "\n",
    "اكتب قصة قصيرة تحتوي على كلمات تبدأ أو تتضمن الحرف {letter}، بحيث تكون مشوقة للأطفال وبسيطة في معانيها.\n",
    "\n",
    "<<END>>\"\"\"\n",
    "\n",
    "letter = \"حرف القاف\"  # استبدل هذا بأي حرف آخر حسب الحاجة\n",
    "formatted_prompt = prompt_template.format(letter=letter)\n",
    "formatted_prompt = prompt_template.format(letter=letter)\n",
    "generated_response = model.generate_text(prompt=formatted_prompt, guardrails=False)\n",
    "print(f\"AI: {generated_response}\")\n"
   ]
  },
  {
   "cell_type": "code",
   "execution_count": null,
   "metadata": {},
   "outputs": [],
   "source": []
  },
  {
   "cell_type": "markdown",
   "metadata": {},
   "source": [
    " ممتاز من ناحيه القصه و العبره لكن حسيت الحرف موجود بس مو كامله لا مو اوي "
   ]
  },
  {
   "cell_type": "code",
   "execution_count": 696,
   "metadata": {},
   "outputs": [
    {
     "name": "stdout",
     "output_type": "stream",
     "text": [
      "AI: \n",
      "\n",
      "كان يا مكان في قرية صغيرة يعيش فيها صديقان مقربان هما فارس وفهد. كانا يحبان اللعب معًا وقضاء الوقت في استكشاف الغابة المحيطة بالقرية.\n",
      "\n",
      "في يوم مشمس، قرر الصديقان الذهاب إلى النهر لصيد الأسماك والاستمتاع بالمناظر الطبيعية الجميلة. وأثناء سيرهما بجانب النهر، لاحظ فهد فراشة جميلة تحوم حول الزهور الملونة. أعجب بها وأراد الإمساك بها ليتأمل تفاصيل جناحيها الرقيقة عن قرب. لكن عندما اقترب منها أكثر فأكثر، طارت الفراشة بعيدًا واختفت بين الأشجار.\n",
      "\n",
      "فارس الذي كان يلاحظ تصرفات صديقه منذ قليل قال له: \"لا تنسَ يا صديقي أن لكل مخلوق حي مكانه الخاص به وأن علينا احترامه وعدم التدخل فيما لا يعني لنا\". فهم فهد ما قاله صديقه وقرر الاعتذار للفراشة عما فعله.\n",
      "\n",
      "من ذلك اليوم، أصبح فارس وفهد أصدقاء أفضل وتعلمت القرية بأكملها درساً قيماً عن أهمية التعايش والاحترام المتبادل لجميع المخلوقات الحية. ومنذ ذلك الحين، لم يعد أحد يتطفل على حياة الآخرين\n"
     ]
    }
   ],
   "source": [
    "prompt_template = \"\"\"<<SYS>>\n",
    "\n",
    "أنت \"حلم\"، معلمة لطيفة تساعد الأطفال على تعلم اللغة العربية. اطلب من النموذج أن يكتب قصة قصيرة من ثلاثة محاور:\n",
    "\n",
    "1. **تركيز على الحرف**: استخدم معظم الكلمات التي تحتوي على الحرف {letter} سواء في البداية أو الوسط أو النهاية، بحيث يكرّر الطفل سماعه ويتعرف عليه بسهولة.\n",
    "2. **سهولة الكلمات**: استخدم كلمات قصيرة وبسيطة وسهلة الفهم، مع تكرار الحرف المطلوب بشكل طبيعي ومنطقي للطفل.\n",
    "3. **عبرة لطيفة**: اختتم القصة بفائدة أو قيمة يفهمها الطفل وتناسب مرحلته العمرية، مثل الاهتمام بالصداقة أو المحافظة على البيئة.\n",
    "\n",
    "**يجب أن تكون جميع الكلمات مشكّلة بالكامل** لإظهار الحركات التي تساعد الأطفال على النطق الصحيح.\n",
    "\n",
    "### أمثلة قصصية مع إشارات الترقيم والتشكيل:\n",
    "\n",
    "#### حرف اللام:\n",
    "\"لُولُو لَبِسَتْ لِبَاسًا لَوْنُهُ لَوْزِيٌّ. لَحِقَتْ لُعْبَتَهَا لِتَلْعَبَ فِي الْحَديقَةِ، وَلَكِنْ، لَمَّا لَمَسَتْ لُعْبَتَها، لَمْ تَجِدْها! فَتَعَلَّمَتْ أَنْ تَحافِظَ عَلَى أَشْيائِها.\"\n",
    "\n",
    "#### حرف الباء:\n",
    "\"بَسْمَةُ بَنَتْ بَيْتًا بِجَانِبِ بُحَيْرَةٍ، وَبَيْنَما كَانَتْ تَنْظُرُ إِلَى بَطَّتِها تَسْبَحُ فِي الْمَاءِ، تَعَلَّمَتْ أَنَّ الصَّداقةَ تَعْنِي الرِّعَايَةَ وَالْحِرْصَ.\"\n",
    "\n",
    "#### حرف السين:\n",
    "\"سَامِرٌ سَافَرَ إِلَى سُورِيَّا، وَسَكَنَ فِي سَفِينَةٍ صَغِيرَةٍ، فَتَعَلَّمَ كَيْفَ يُحَافِظُ عَلَى نَظافَةِ البَحْرِ وَأَنْ يُساعِدَ أَصْدِقاءَهُ.\"\n",
    "\n",
    "#### حرف الألف:\n",
    "\"أَحْمَدُ أَكَلَ أَنَانَاسًا، وَتَعَلَّمَ أَنَّ الفَوَاكِهَ تُعْطِي الطَّاقَةَ وَتُساعِدُ عَلَى النُّموِّ، فَشَكَرَ وَالِدَهُ عَلَى الهَدِيَّةِ اللَّذِيذَةِ.\"\n",
    "\n",
    "#### حرف الباء (مثال إضافي):\n",
    "\"بَسْمَةُ بَنَتْ بَيْتًا بِالقُرْبِ مِنْ بُحَيْرَةٍ، وَبَحَثَتْ عَنْ بَطَّةٍ تَسْبَحُ فِي الْمَاءِ، وَتَعَلَّمَتْ أَنَّ الرِّعَايَةَ تُساعِدُ فِي تَقْوِيَةِ الصَّداقةِ.\"\n",
    "\n",
    "اكتب قصة قصيرة جديدة بحيث تتضمن الحرف {letter}، وتكون الكلمات مشكّلة ومناسبة للأطفال، وتحتوي على عبرة بسيطة ومفيدة.\n",
    "\n",
    "<<END>>\"\"\"\n",
    "letter = \"حرف الفاء\"  # ا\n",
    "formatted_prompt = prompt_template.format(letter=letter)\n",
    "formatted_prompt = prompt_template.format(letter=letter)\n",
    "generated_response = model.generate_text(prompt=formatted_prompt, guardrails=False)\n",
    "print(f\"AI: {generated_response}\")"
   ]
  },
  {
   "cell_type": "code",
   "execution_count": null,
   "metadata": {},
   "outputs": [],
   "source": []
  },
  {
   "cell_type": "code",
   "execution_count": null,
   "metadata": {},
   "outputs": [],
   "source": []
  },
  {
   "cell_type": "code",
   "execution_count": null,
   "metadata": {},
   "outputs": [],
   "source": []
  },
  {
   "cell_type": "code",
   "execution_count": null,
   "metadata": {},
   "outputs": [],
   "source": []
  },
  {
   "cell_type": "code",
   "execution_count": null,
   "metadata": {},
   "outputs": [],
   "source": []
  },
  {
   "cell_type": "code",
   "execution_count": null,
   "metadata": {},
   "outputs": [],
   "source": []
  },
  {
   "cell_type": "code",
   "execution_count": null,
   "metadata": {},
   "outputs": [],
   "source": [
    "ممتاززززز بس بدي اضيف عليه انه تخليه يكتب الاحرف "
   ]
  },
  {
   "cell_type": "code",
   "execution_count": 13,
   "metadata": {},
   "outputs": [
    {
     "name": "stdout",
     "output_type": "stream",
     "text": [
      "AI: \n",
      "كان يا مكان في قرية صغيرة يعيش طفل اسمه عمر. كان عمر يحب اللعب خارج المنزل تحت أشعة الشمس الدافئة. كل يوم بعد المدرسة يذهب إلى الحديقة القريبة ليلعب بالكرة ويجري وراء الفراشات الملونة.\n",
      "\n",
      "في أحد الأيام وهو يلعب رأى مجموعة من الطيور تحلق فوق رأسه. قرر عمر تتبع هذه الطيور الجميلة ليرى أين تذهب. قادته رحلته عبر الحقول الخضراء والغابات الكثيفة حتى وصل إلى بحيرة هادئة. هناك وجد عش كبير معلق بين أغصان شجرة عالية.\n",
      "\n",
      "اقترب عمر بحذر من العش ورأى بداخله بيضة زرقاء جميلة. عرف أنها تعود لطائر نادر يسمى العندليب. انتظر عمر بصبر بجانب البحيرة ليأتي الطائر ويضع البيضة داخل العش بأمان مرة أخرى. وعندما حل المساء وغابت الشمس خلف الجبال البعيدة، عاد طائر العندليب ووضع البيضة بلطف داخل العش.\n",
      "\n",
      "منذ ذلك اليوم أصبح عمر صديقًا للعندليب وطير آخر يدعى العنقاء الذي يعيش بالقرب منه. تعلم عمر الكثير عن الطبيعة والطيور المختلفة التي تعيش حوله\n"
     ]
    }
   ],
   "source": [
    "prompt_template = \"\"\"\n",
    "<<SYS>>\n",
    "\n",
    "انت شخصية لطيفة تدعى \"حلم\"، معلمة للأطفال تساعدهم في تعلم اللغة العربية بطريقة ممتعة ومسليّة. مهمتك هي كتابة قصص قصيرة للأطفال تعتمد على الحروف الأبجدية، حيث تبدأ معظم كلمات القصة بالحرف المختار وتكون سهلة و بسيطة المفردات و بسيطة الفهم ومناسبة للأطفال. احرص على أن تشمل القصة الترقيم وحركات التشكيل لتسهيل القراءة على الأطفال.\n",
    "\n",
    "تأكد أن:\n",
    "1. *الكلمات قريبة من عالم الأطفال وسهلة*: استخدم مفردات بسيطة يعرفها الأطفال، مثل حيوانات، ألعاب، ألوان، أو مواقف يومية.\n",
    "2. *معظم الكلمات تحتوي أو تبدأ بالحرف المختار*: اجعل معظم كلمات القصة تبدأ و تحتوي على الحرف المطلوب، مع مراعاة التنويع.\n",
    "3. *القصة جذابة وممتعة وتحمل عبرة بسيطة*: اجعل القصة ممتعة، تتضمن درسًا أو مغزى بسيطًا يمكن للطفل فهمه ويستمتع به.\n",
    "4. *استخدم الترقيم وحركات التشكيل*: ليصبح النص أسهل للقراءة والفهم.\n",
    "<<SYS>>\n",
    "اجعل القصة مكتملة ولها بداية واضحة، وسط يتضمن أحداثاً مشوقة، ونهاية منطقية وواضحة يمكن للطفل فهمها.\n",
    "<</SYS>>\n",
    "\n",
    "\n",
    "<<EXAMPLES>>\n",
    "\n",
    "حرف الباء:\n",
    "بَسْمَةٌ بِنْتٌ صَغِيرَةٌ.\n",
    "بَسْمَةُ تَعِيشُ فِي بَيْتٍ جَمِيلٍ، بِهِ حَدِيقَةٌ.\n",
    "يُوجَدُ فِي الْحَدِيقَةِ شَجَرَةُ بُرْتُقَالٍ، \n",
    "وَشَجَرَةُ بَرْقُوقٍ.\n",
    "بِجِوَارِ الْبَيْتِ بُحَيْرَةُ مَاءٍ.\n",
    "تَسْبَحُ فِيهَا بَطَّةٌ، \n",
    "وَتَشْرَبُ مِنْهَا بَقَرَةٌ.\n",
    "تَعَلَّمَتْ بَسْمَةُ أَنْ تُقَدِّرَ الطَّبِيعَةَ وَتَحْتَرِمَ الْحَيَوَانَاتِ.\n",
    "\n",
    "حرف الألف:\n",
    "أَنَا أَمِيرٌ.\n",
    "أَنَا أُحِبُّ الرَّسْمَ.\n",
    "اشْتَرَى لِي أَبِي عُلْبَةَ أَلْوَانٍ.\n",
    "أَلْوَانٌ كَثِيرَةٌ: \n",
    "لَوْنٌ أَحْمَرٌ، \n",
    "لَوْنٌ أَزْرَقٌ، \n",
    "لَوْنٌ أَصْفَرٌ، \n",
    "وَلَوْنٌ أَخْضَرٌ.\n",
    "رَسَمْتُ أَسَدًا وَأَنَانَاسًا.\n",
    "تَعَلَّمْتُ أَنْ أُعَبِّرَ عَنْ مَشَاعِرِي بِالرَّسْمِ، وَشَكَرْتُ أَبِي عَلَى هَدِيَّتِهِ.\n",
    "\n",
    "حرف الثاء:\n",
    "الْيَوْمَ يَوْمُ مِيلَادِ ثُرَيَّا.\n",
    "أَكْمَلَتْ ثُرَيَّا ثَلَاثَ سَنَوَاتٍ.\n",
    "اشْتَرَتْ لَهَا أُمُّهَا ثَوْبًا جَمِيلًا، \n",
    "وَأُخْتُهَا أَهْدَتْهَا قِصَّةَ ثَعْلَبٍ.\n",
    "وَأَحْضَرَ لَهَا وَالِدُهَا كِتَابًا عَنْ الْحَيَوَانَاتِ، بِهِ\n",
    "صُورَةُ ثَوْرٍ وَصُورَةُ ثُعْبَانٍ.\n",
    "فَرِحَتْ ثُرَيَّا، وَتَعَلَّمَتْ أَنْ تَشْكُرَ أُسْرَتَهَا عَلَى حُبِّهِمْ.\n",
    "\n",
    "<<END>>\n",
    "\n",
    "<<ASSISTANT>>\n",
    "\"إليك قصة تبدأ بحرف {letter}:\"\n",
    "\"\"\"\n",
    "\n",
    "# مثال لاستخدام prompt مع حرف جديد مثل حرف \"ج\"\n",
    "letter = \"حرف العين\"  # استبدل هذا بأي حرف آخر حسب الحاجة\n",
    "formatted_prompt = prompt_template.format(letter=letter)\n",
    "formatted_prompt = prompt_template.format(letter=letter)\n",
    "generated_response = model.generate_text(prompt=formatted_prompt, guardrails=False)\n",
    "print(f\"AI: {generated_response}\")"
   ]
  },
  {
   "cell_type": "code",
   "execution_count": null,
   "metadata": {},
   "outputs": [],
   "source": [
    "\n"
   ]
  },
  {
   "cell_type": "code",
   "execution_count": null,
   "metadata": {},
   "outputs": [],
   "source": []
  },
  {
   "cell_type": "code",
   "execution_count": null,
   "metadata": {},
   "outputs": [],
   "source": [
    "هاي كود القصه و الاسئله "
   ]
  },
  {
   "cell_type": "code",
   "execution_count": 188,
   "metadata": {},
   "outputs": [],
   "source": [
    "import tkinter as tk\n",
    "from tkinter import messagebox\n",
    "\n",
    "# دالة لتوليد القصة والكلمات بناءً على الحرف المختار\n",
    "def generate_story_and_question(selected_letter):\n",
    "    # يمكنك تخصيص هذه القصة وكلمات الاختيار بناءً على الحرف المختار\n",
    "    if selected_letter == 'أ':\n",
    "        story = \"في يومٍ جميل، كان هناك أَسدٌ أَحمرُ يُحبُّ المغامرات.\"\n",
    "        words = [\"نوم\", \"قلم\", \"عسل\", \"باب\"]  # الكلمة الصحيحة هنا هي \"باب\"\n",
    "        correct_word = \"باب\"\n",
    "    elif selected_letter == 'ب':\n",
    "        story = \"في حديقةٍ، كان هناك بَطٌّ يسبح في بُحيرةٍ جميلة.\"\n",
    "        words = [\"تفاح\", \"قمر\", \"بصل\", \"نور\"]  # الكلمة الصحيحة هنا هي \"نور\"\n",
    "        correct_word = \"نور\"\n",
    "    elif selected_letter == 'ت':\n",
    "        story = \"تَعيشُ في الغابةِ تَماسيحٌ تُحبُّ اللعب.\"\n",
    "        words = [\"تفاح\", \"أسد\", \"عصفور\", \"تمساح\"]  # الكلمة الصحيحة هنا هي \"تمساح\"\n",
    "        correct_word = \"تمساح\"\n",
    "    \n",
    "    # تحديث النص في الواجهة\n",
    "    story_label.config(text=story)\n",
    "    question_label.config(text=f\"أي الكلمات لا تحتوي على حرف {selected_letter}؟\")\n",
    "    \n",
    "    # مسح الكلمات السابقة\n",
    "    for widget in word_frame.winfo_children():\n",
    "        widget.destroy()\n",
    "    \n",
    "    # إنشاء أزرار للكلمات\n",
    "    for word in words:\n",
    "        button = tk.Button(word_frame, text=word, command=lambda w=word: check_answer(w, correct_word))\n",
    "        button.pack(pady=5)\n",
    "\n",
    "# دالة للتحقق من الإجابة\n",
    "def check_answer(selected_word, correct_word):\n",
    "    if selected_word == correct_word:\n",
    "        messagebox.showinfo(\"نتيجة\", \"ممتاز! أنت رائع!\")\n",
    "    else:\n",
    "        messagebox.showwarning(\"نتيجة\", \"حاول مرة أخرى! اختر كلمة أخرى.\")\n",
    "\n",
    "# إنشاء نافذة التطبيق\n",
    "root = tk.Tk()\n",
    "root.title(\"تعلم الحروف العربية\")\n",
    "\n",
    "# اختيار حرف\n",
    "letters_frame = tk.Frame(root)\n",
    "letters_frame.pack(pady=20)\n",
    "\n",
    "# إنشاء أزرار لاختيار الأحرف\n",
    "for letter in ['أ', 'ب', 'ت']:\n",
    "    button = tk.Button(letters_frame, text=letter, command=lambda l=letter: generate_story_and_question(l))\n",
    "    button.pack(side=tk.LEFT, padx=10)\n",
    "\n",
    "# عرض القصة والسؤال\n",
    "story_label = tk.Label(root, text=\"\", wraplength=300)\n",
    "story_label.pack(pady=10)\n",
    "\n",
    "question_label = tk.Label(root, text=\"\")\n",
    "question_label.pack(pady=10)\n",
    "\n",
    "# إطار للكلمات\n",
    "word_frame = tk.Frame(root)\n",
    "word_frame.pack(pady=20)\n",
    "\n",
    "# بدء الحلقة الرئيسية\n",
    "root.mainloop()\n"
   ]
  },
  {
   "cell_type": "code",
   "execution_count": 294,
   "metadata": {},
   "outputs": [],
   "source": [
    "demo_message2 = \"ما هي الكلمة التي تحتوي على حرف الألف مهما كان موقعه في الكلمة من بين الكلمات هذه  : بيت ,حديقة , سيارة ,سفر \"\n",
    "demo_message2 = f\"\"\"<s> [INST] {demo_message2} [/INST]\"\"\"\n"
   ]
  },
  {
   "cell_type": "code",
   "execution_count": 295,
   "metadata": {},
   "outputs": [
    {
     "name": "stdout",
     "output_type": "stream",
     "text": [
      "AI:  جميع الكلمات المذكورة لا تحتوي على حرف الألف بشكل مباشر. ومع ذلك، إذا كنت تقصد وجود الحرف \"أ\" كجزء من بعض الكلمات المركبة أو المشتقة منها (مثل استخدام كلمة \"بيت\" كصفة)، فإن هذا ليس قاعدة ثابتة ويمكن أن تختلف حسب السياق والاستخدام اللغوي.\n",
      "\n",
      "إذا كانت لديك كلمات أخرى ترغب في تحليلها ومعرفة ما إذا كانت تحتوي على حرف الألف أم لا، يرجى طرحها وسأكون سعيداً لمساعدتك. \n"
     ]
    }
   ],
   "source": [
    "prompt = f\"\"\"{demo_message2}\"\"\"\n",
    "generated_response = model.generate_text(prompt=prompt, guardrails=False)\n",
    "print(f\"AI: {generated_response}\")"
   ]
  },
  {
   "cell_type": "code",
   "execution_count": null,
   "metadata": {},
   "outputs": [],
   "source": [
    "demo_template2 = PromptTemplate (\n",
    "    template = \" ما هي الكلمة التي تحتوي على حرف ال{letteer2}\" | \n",
    ")"
   ]
  },
  {
   "cell_type": "code",
   "execution_count": 296,
   "metadata": {},
   "outputs": [],
   "source": [
    "examples = [\n",
    "    {\n",
    "        \"السؤال\": \"ما هي الكلمة التي تحتوي على حرف الألف بغض النظر عن موقعه: سيارة، رسم، عسل، نوم؟\",\n",
    "        \" الإجابة الصحيحة\": \"سيارة\"\n",
    "    },\n",
    "     {\n",
    "        \"السؤال\": \"ما هي الكلمة التي تحتوي على حرف الألف بغض النظر عن موقعه: أرنب ، ثعلب ، سفر ، نوم؟\",\n",
    "        \"الإجابة الصحيحة \": \"أرنب \"\n",
    "\n",
    "    },\n",
    "    {\n",
    "        \"السؤال\": \"ما هي الكلمة التي تحتوي على حرف الباء  بغض النظر عن موقعه: بالون ، حديقة ، ذرة ، سمكة ؟\",\n",
    "        \"الإجابة الصحيحة \": \"بالون  \"\n",
    "\n",
    "    },\n",
    "    {\n",
    "        \"السؤال\": \"ما هي الكلمة التي تحتوي على حرف الباء  بغض النظر عن موقعه: طائرة ،  فلفل، قبعة ، فيل ؟\",\n",
    "        \"الإجابة الصحيحة \": \"قبعة  \"\n",
    "\n",
    "    },\n",
    "   {\n",
    "        \"السؤال\": \"ما هي الكلمة التي تحتوي على حرف الباء  بغض النظر عن موقعه: سنارة ،  عشب ،  خفاش ، وردة ؟\",\n",
    "        \"الإجابة الصحيحة \": \"عشب \"\n",
    "\n",
    "    },\n",
    "      {\n",
    "        \"السؤال\": \"ما هي الكلمة التي تحتوي على حرف التاء  بغض النظر عن موقعه: ثعبان ،  فلفل،  ضفدع ، تاج ؟\",\n",
    "        \"الإجابة الصحيحة \": \"تاج  \"\n",
    "\n",
    "    },\n",
    "    {\n",
    "        \"السؤال\": \"ما هي الكلمة التي تحتوي على حرف التاء  بغض النظر عن موقعه: ظرف ، كتاب ،  قلب ، مسجد ؟\",\n",
    "        \"الإجابة الصحيحة \": \"كتاب  \"\n",
    "\n",
    "    },\n",
    "    {\n",
    "        \"السؤال\": \"ما هي الكلمة التي تحتوي على حرف التاء  بغض النظر عن موقعه:  كلب ، شمس ،  بنت ، جمل  ؟\",\n",
    "        \"الإجابة الصحيحة \": \"بنت  \"\n",
    "\n",
    "    },\n",
    "    {\n",
    "        \"السؤال\": \"ما هي الكلمة التي تحتوي على حرف التاء  بغض النظر عن موقعه: سلحفاة ، ثوم ،  صقر ، قرد  ؟\",\n",
    "        \"الإجابة الصحيحة \": \"سلحفاة  \"\n",
    "\n",
    "    },\n",
    "    {\n",
    "        \"السؤال\": \"ما هي الكلمة التي تحتوي على حرف التاء  بغض النظر عن موقعه: خاروف ، تمر ،  زهور ، نافذة  ؟\",\n",
    "        \"الإجابة الصحيحة \": \"نافذة  \"\n",
    "\n",
    "    }\n",
    "]\n",
    "\n",
    "\n"
   ]
  },
  {
   "cell_type": "code",
   "execution_count": 367,
   "metadata": {},
   "outputs": [
    {
     "name": "stdout",
     "output_type": "stream",
     "text": [
      "AI:  أنا مساعد ذكاء اصطناعي، كيف يمكنني مساعدتك اليوم؟ إذا كان لديك سؤال أو استفسار، لا تتردد في طرحه وسأكون سعيداً لمساعدتك. \n"
     ]
    }
   ],
   "source": [
    "from langchain.prompts import PromptTemplate\n",
    "\n",
    "# تعريف البرومبت مع أمثلة\n",
    "template = PromptTemplate(\n",
    "    template=\"\"\"\n",
    "        \n",
    "    \"\"\",\n",
    "    input_variables=[\"الحرف\"]\n",
    ")\n",
    "\n",
    "# إدخال جديد لتوليد السؤال\n",
    "input_data = {\n",
    "    \"الحرف\": \"الطاء\"  # هنا يمكنك تغيير الحرف حسب الحاجة\n",
    "}\n",
    "generated_prompt = template.format(**input_data)\n",
    "generated_prompt\n",
    "generated_prompt = f\"\"\"<s> [INST] {generated_prompt} [/INST]\"\"\"\n",
    "prompt = f\"\"\"{generated_prompt}\"\"\"\n",
    "generated_response = model.generate_text(prompt=prompt, guardrails=False)\n",
    "print(f\"AI: {generated_response}\")\n",
    "\n",
    "\n",
    "\n"
   ]
  },
  {
   "cell_type": "code",
   "execution_count": null,
   "metadata": {},
   "outputs": [],
   "source": [
    "الكود الي تحت مشكلته اولا الاجابه قبل الاسئله . تانيا بس موقف على حرف الجيم  بلش يهنق "
   ]
  },
  {
   "cell_type": "code",
   "execution_count": 224,
   "metadata": {},
   "outputs": [
    {
     "name": "stdout",
     "output_type": "stream",
     "text": [
      "AI:  الحرف: س\n",
      "السؤال: اختر الكلمة التي تحتوي على الحرف 'س':\n",
      "الكلمة الصحيحة: سرير\n",
      "الخيارات: سرير، كرسي، باب، شباك\n",
      "\n",
      "أو يمكنك تغيير السؤال والخيارات حسب رغبتك لتتناسب مع متطلباتك التعليمية أو التدريبية. \n"
     ]
    }
   ],
   "source": [
    "from langchain.prompts import FewShotPromptTemplate\n",
    "examples = [\n",
    "    {\n",
    "        \"letter\": \"أ\",\n",
    "        \"question\": \"اختر الكلمة التي تحتوي على الحرف 'أ':\",\n",
    "        \"correct_word\": \"سيارة\",\n",
    "        \"options\": \"سيارة، رسم، عسل، نوم\"\n",
    "    },\n",
    "    {\n",
    "        \"letter\": \"أ\",\n",
    "        \"question\": \"اختر الكلمة التي تحتوي على الحرف 'أ':\",\n",
    "        \"correct_word\": \"أرنب\",\n",
    "        \"options\": \"أرنب، ثعلب، سفر، نوم\"\n",
    "    },\n",
    "    {\n",
    "        \"letter\": \"ب\",\n",
    "        \"question\": \"اختر الكلمة التي تحتوي على الحرف 'ب':\",\n",
    "        \"correct_word\": \"بالون\",\n",
    "        \"options\": \"بالون، حديقة، ذرة، سمكة\"\n",
    "    },\n",
    "    {\n",
    "        \"letter\": \"ب\",\n",
    "        \"question\": \"اختر الكلمة التي تحتوي على الحرف 'ب':\",\n",
    "        \"correct_word\": \"قبعة\",\n",
    "        \"options\": \"طائرة، فلفل، قبعة، فيل\"\n",
    "    },\n",
    "    {\n",
    "        \"letter\": \"ب\",\n",
    "        \"question\": \"اختر الكلمة التي تحتوي على الحرف 'ب':\",\n",
    "        \"correct_word\": \"عشب\",\n",
    "        \"options\": \"سنارة، عشب، خفاش، وردة\"\n",
    "    },\n",
    "    {\n",
    "        \"letter\": \"ت\",\n",
    "        \"question\": \"اختر الكلمة التي تحتوي على الحرف 'ت':\",\n",
    "        \"correct_word\": \"تاج\",\n",
    "        \"options\": \"ثعبان، فلفل، ضفدع، تاج\"\n",
    "    },\n",
    "    {\n",
    "        \"letter\": \"ت\",\n",
    "        \"question\": \"اختر الكلمة التي تحتوي على الحرف 'ت':\",\n",
    "        \"correct_word\": \"كتاب\",\n",
    "        \"options\": \"ظرف، كتاب، قلب، مسجد\"\n",
    "    },\n",
    "    {\n",
    "        \"letter\": \"ت\",\n",
    "        \"question\": \"اختر الكلمة التي تحتوي على الحرف 'ت':\",\n",
    "        \"correct_word\": \"بنت\",\n",
    "        \"options\": \"كلب، شمس، بنت، جمل\"\n",
    "    },\n",
    "    {\n",
    "        \"letter\": \"ت\",\n",
    "        \"question\": \"اختر الكلمة التي تحتوي على الحرف 'ت':\",\n",
    "        \"correct_word\": \"سلحفاة\",\n",
    "        \"options\": \"سلحفاة، ثوم، صقر، قرد\"\n",
    "    },\n",
    "    {\n",
    "        \"letter\": \"ت\",\n",
    "        \"question\": \"اختر الكلمة التي تحتوي على الحرف 'ت':\",\n",
    "        \"correct_word\": \"نافذة\",\n",
    "        \"options\": \"خاروف، تمر، زهور، نافذة\"\n",
    "    }\n",
    "]\n",
    "example_prompt = PromptTemplate(\n",
    "    input_variables=[\"letter\", \"question\", \"correct_word\", \"options\"],\n",
    "    template=\"الحرف: {letter}\\nالسؤال: {question}\\nالكلمة الصحيحة: {correct_word}\\nالخيارات: {options}\\n\")\n",
    "\n",
    "prompt = FewShotPromptTemplate(\n",
    "    examples=examples,\n",
    "    example_prompt=example_prompt,\n",
    "    prefix=\"استخدم الأمثلة التالية لتوليد سؤال جديد وخيارات تتضمن الكلمة  الصحيحة والكلمات الخاطئة.\",\n",
    "    suffix=\"الحرف: {letter}\\nالسؤال: {question}\\nالخيارات: {options}\",\n",
    "    input_variables=[\"letter\", \"question\", \"options\"]\n",
    ")\n",
    "\n",
    "letter_to_test = \"س\"\n",
    "question_template = \"اختر الكلمة التي تحتوي على الحرف '{letter}':\"\n",
    "formatted_prompt = prompt.format(\n",
    "    letter=letter_to_test,\n",
    "    question=question_template,\n",
    "    options=\"حدد النموذج تلقائيًا الخيارات التي تتضمن الكلمة الصحيحة وأخطاء مماثلة\"\n",
    ")\n",
    "formatted_prompt = f\"\"\"<s> [INST] {formatted_prompt} [/INST]\"\"\"\n",
    "prompt = f\"\"\"{formatted_prompt}\"\"\"\n",
    "generated_response = model.generate_text(prompt=prompt, guardrails=False)\n",
    "print(f\"AI: {generated_response}\")\n"
   ]
  },
  {
   "cell_type": "code",
   "execution_count": 337,
   "metadata": {},
   "outputs": [],
   "source": [
    "letter = \"خ\""
   ]
  },
  {
   "cell_type": "code",
   "execution_count": 15,
   "metadata": {},
   "outputs": [
    {
     "ename": "ConnectTimeout",
     "evalue": "_ssl.c:989: The handshake operation timed out",
     "output_type": "error",
     "traceback": [
      "\u001b[1;31m---------------------------------------------------------------------------\u001b[0m",
      "\u001b[1;31mTimeoutError\u001b[0m                              Traceback (most recent call last)",
      "File \u001b[1;32mc:\\Users\\u1046\\AppData\\Local\\anaconda3\\Lib\\site-packages\\httpcore\\_exceptions.py:10\u001b[0m, in \u001b[0;36mmap_exceptions\u001b[1;34m(map)\u001b[0m\n\u001b[0;32m      9\u001b[0m \u001b[38;5;28;01mtry\u001b[39;00m:\n\u001b[1;32m---> 10\u001b[0m     \u001b[38;5;28;01myield\u001b[39;00m\n\u001b[0;32m     11\u001b[0m \u001b[38;5;28;01mexcept\u001b[39;00m \u001b[38;5;167;01mException\u001b[39;00m \u001b[38;5;28;01mas\u001b[39;00m exc:  \u001b[38;5;66;03m# noqa: PIE786\u001b[39;00m\n",
      "File \u001b[1;32mc:\\Users\\u1046\\AppData\\Local\\anaconda3\\Lib\\site-packages\\httpcore\\_backends\\sync.py:168\u001b[0m, in \u001b[0;36mSyncStream.start_tls\u001b[1;34m(self, ssl_context, server_hostname, timeout)\u001b[0m\n\u001b[0;32m    167\u001b[0m         \u001b[38;5;28mself\u001b[39m\u001b[38;5;241m.\u001b[39mclose()\n\u001b[1;32m--> 168\u001b[0m         \u001b[38;5;28;01mraise\u001b[39;00m exc\n\u001b[0;32m    169\u001b[0m \u001b[38;5;28;01mreturn\u001b[39;00m SyncStream(sock)\n",
      "File \u001b[1;32mc:\\Users\\u1046\\AppData\\Local\\anaconda3\\Lib\\site-packages\\httpcore\\_backends\\sync.py:163\u001b[0m, in \u001b[0;36mSyncStream.start_tls\u001b[1;34m(self, ssl_context, server_hostname, timeout)\u001b[0m\n\u001b[0;32m    162\u001b[0m         \u001b[38;5;28mself\u001b[39m\u001b[38;5;241m.\u001b[39m_sock\u001b[38;5;241m.\u001b[39msettimeout(timeout)\n\u001b[1;32m--> 163\u001b[0m         sock \u001b[38;5;241m=\u001b[39m ssl_context\u001b[38;5;241m.\u001b[39mwrap_socket(\n\u001b[0;32m    164\u001b[0m             \u001b[38;5;28mself\u001b[39m\u001b[38;5;241m.\u001b[39m_sock, server_hostname\u001b[38;5;241m=\u001b[39mserver_hostname\n\u001b[0;32m    165\u001b[0m         )\n\u001b[0;32m    166\u001b[0m \u001b[38;5;28;01mexcept\u001b[39;00m \u001b[38;5;167;01mException\u001b[39;00m \u001b[38;5;28;01mas\u001b[39;00m exc:  \u001b[38;5;66;03m# pragma: nocover\u001b[39;00m\n",
      "File \u001b[1;32mc:\\Users\\u1046\\AppData\\Local\\anaconda3\\Lib\\ssl.py:517\u001b[0m, in \u001b[0;36mSSLContext.wrap_socket\u001b[1;34m(self, sock, server_side, do_handshake_on_connect, suppress_ragged_eofs, server_hostname, session)\u001b[0m\n\u001b[0;32m    511\u001b[0m \u001b[38;5;28;01mdef\u001b[39;00m \u001b[38;5;21mwrap_socket\u001b[39m(\u001b[38;5;28mself\u001b[39m, sock, server_side\u001b[38;5;241m=\u001b[39m\u001b[38;5;28;01mFalse\u001b[39;00m,\n\u001b[0;32m    512\u001b[0m                 do_handshake_on_connect\u001b[38;5;241m=\u001b[39m\u001b[38;5;28;01mTrue\u001b[39;00m,\n\u001b[0;32m    513\u001b[0m                 suppress_ragged_eofs\u001b[38;5;241m=\u001b[39m\u001b[38;5;28;01mTrue\u001b[39;00m,\n\u001b[0;32m    514\u001b[0m                 server_hostname\u001b[38;5;241m=\u001b[39m\u001b[38;5;28;01mNone\u001b[39;00m, session\u001b[38;5;241m=\u001b[39m\u001b[38;5;28;01mNone\u001b[39;00m):\n\u001b[0;32m    515\u001b[0m     \u001b[38;5;66;03m# SSLSocket class handles server_hostname encoding before it calls\u001b[39;00m\n\u001b[0;32m    516\u001b[0m     \u001b[38;5;66;03m# ctx._wrap_socket()\u001b[39;00m\n\u001b[1;32m--> 517\u001b[0m     \u001b[38;5;28;01mreturn\u001b[39;00m \u001b[38;5;28mself\u001b[39m\u001b[38;5;241m.\u001b[39msslsocket_class\u001b[38;5;241m.\u001b[39m_create(\n\u001b[0;32m    518\u001b[0m         sock\u001b[38;5;241m=\u001b[39msock,\n\u001b[0;32m    519\u001b[0m         server_side\u001b[38;5;241m=\u001b[39mserver_side,\n\u001b[0;32m    520\u001b[0m         do_handshake_on_connect\u001b[38;5;241m=\u001b[39mdo_handshake_on_connect,\n\u001b[0;32m    521\u001b[0m         suppress_ragged_eofs\u001b[38;5;241m=\u001b[39msuppress_ragged_eofs,\n\u001b[0;32m    522\u001b[0m         server_hostname\u001b[38;5;241m=\u001b[39mserver_hostname,\n\u001b[0;32m    523\u001b[0m         context\u001b[38;5;241m=\u001b[39m\u001b[38;5;28mself\u001b[39m,\n\u001b[0;32m    524\u001b[0m         session\u001b[38;5;241m=\u001b[39msession\n\u001b[0;32m    525\u001b[0m     )\n",
      "File \u001b[1;32mc:\\Users\\u1046\\AppData\\Local\\anaconda3\\Lib\\ssl.py:1108\u001b[0m, in \u001b[0;36mSSLSocket._create\u001b[1;34m(cls, sock, server_side, do_handshake_on_connect, suppress_ragged_eofs, server_hostname, context, session)\u001b[0m\n\u001b[0;32m   1107\u001b[0m             \u001b[38;5;28;01mraise\u001b[39;00m \u001b[38;5;167;01mValueError\u001b[39;00m(\u001b[38;5;124m\"\u001b[39m\u001b[38;5;124mdo_handshake_on_connect should not be specified for non-blocking sockets\u001b[39m\u001b[38;5;124m\"\u001b[39m)\n\u001b[1;32m-> 1108\u001b[0m         \u001b[38;5;28mself\u001b[39m\u001b[38;5;241m.\u001b[39mdo_handshake()\n\u001b[0;32m   1109\u001b[0m \u001b[38;5;28;01mexcept\u001b[39;00m (\u001b[38;5;167;01mOSError\u001b[39;00m, \u001b[38;5;167;01mValueError\u001b[39;00m):\n",
      "File \u001b[1;32mc:\\Users\\u1046\\AppData\\Local\\anaconda3\\Lib\\ssl.py:1383\u001b[0m, in \u001b[0;36mSSLSocket.do_handshake\u001b[1;34m(self, block)\u001b[0m\n\u001b[0;32m   1382\u001b[0m         \u001b[38;5;28mself\u001b[39m\u001b[38;5;241m.\u001b[39msettimeout(\u001b[38;5;28;01mNone\u001b[39;00m)\n\u001b[1;32m-> 1383\u001b[0m     \u001b[38;5;28mself\u001b[39m\u001b[38;5;241m.\u001b[39m_sslobj\u001b[38;5;241m.\u001b[39mdo_handshake()\n\u001b[0;32m   1384\u001b[0m \u001b[38;5;28;01mfinally\u001b[39;00m:\n",
      "\u001b[1;31mTimeoutError\u001b[0m: _ssl.c:989: The handshake operation timed out",
      "\nThe above exception was the direct cause of the following exception:\n",
      "\u001b[1;31mConnectTimeout\u001b[0m                            Traceback (most recent call last)",
      "File \u001b[1;32mc:\\Users\\u1046\\AppData\\Local\\anaconda3\\Lib\\site-packages\\httpx\\_transports\\default.py:67\u001b[0m, in \u001b[0;36mmap_httpcore_exceptions\u001b[1;34m()\u001b[0m\n\u001b[0;32m     66\u001b[0m \u001b[38;5;28;01mtry\u001b[39;00m:\n\u001b[1;32m---> 67\u001b[0m     \u001b[38;5;28;01myield\u001b[39;00m\n\u001b[0;32m     68\u001b[0m \u001b[38;5;28;01mexcept\u001b[39;00m \u001b[38;5;167;01mException\u001b[39;00m \u001b[38;5;28;01mas\u001b[39;00m exc:\n",
      "File \u001b[1;32mc:\\Users\\u1046\\AppData\\Local\\anaconda3\\Lib\\site-packages\\httpx\\_transports\\default.py:231\u001b[0m, in \u001b[0;36mHTTPTransport.handle_request\u001b[1;34m(self, request)\u001b[0m\n\u001b[0;32m    230\u001b[0m \u001b[38;5;28;01mwith\u001b[39;00m map_httpcore_exceptions():\n\u001b[1;32m--> 231\u001b[0m     resp \u001b[38;5;241m=\u001b[39m \u001b[38;5;28mself\u001b[39m\u001b[38;5;241m.\u001b[39m_pool\u001b[38;5;241m.\u001b[39mhandle_request(req)\n\u001b[0;32m    233\u001b[0m \u001b[38;5;28;01massert\u001b[39;00m \u001b[38;5;28misinstance\u001b[39m(resp\u001b[38;5;241m.\u001b[39mstream, typing\u001b[38;5;241m.\u001b[39mIterable)\n",
      "File \u001b[1;32mc:\\Users\\u1046\\AppData\\Local\\anaconda3\\Lib\\site-packages\\httpcore\\_sync\\connection_pool.py:268\u001b[0m, in \u001b[0;36mConnectionPool.handle_request\u001b[1;34m(self, request)\u001b[0m\n\u001b[0;32m    267\u001b[0m         \u001b[38;5;28mself\u001b[39m\u001b[38;5;241m.\u001b[39mresponse_closed(status)\n\u001b[1;32m--> 268\u001b[0m     \u001b[38;5;28;01mraise\u001b[39;00m exc\n\u001b[0;32m    269\u001b[0m \u001b[38;5;28;01melse\u001b[39;00m:\n",
      "File \u001b[1;32mc:\\Users\\u1046\\AppData\\Local\\anaconda3\\Lib\\site-packages\\httpcore\\_sync\\connection_pool.py:251\u001b[0m, in \u001b[0;36mConnectionPool.handle_request\u001b[1;34m(self, request)\u001b[0m\n\u001b[0;32m    250\u001b[0m \u001b[38;5;28;01mtry\u001b[39;00m:\n\u001b[1;32m--> 251\u001b[0m     response \u001b[38;5;241m=\u001b[39m connection\u001b[38;5;241m.\u001b[39mhandle_request(request)\n\u001b[0;32m    252\u001b[0m \u001b[38;5;28;01mexcept\u001b[39;00m ConnectionNotAvailable:\n\u001b[0;32m    253\u001b[0m     \u001b[38;5;66;03m# The ConnectionNotAvailable exception is a special case, that\u001b[39;00m\n\u001b[0;32m    254\u001b[0m     \u001b[38;5;66;03m# indicates we need to retry the request on a new connection.\u001b[39;00m\n\u001b[1;32m   (...)\u001b[0m\n\u001b[0;32m    258\u001b[0m     \u001b[38;5;66;03m# might end up as an HTTP/2 connection, but which actually ends\u001b[39;00m\n\u001b[0;32m    259\u001b[0m     \u001b[38;5;66;03m# up as HTTP/1.1.\u001b[39;00m\n",
      "File \u001b[1;32mc:\\Users\\u1046\\AppData\\Local\\anaconda3\\Lib\\site-packages\\httpcore\\_sync\\connection.py:99\u001b[0m, in \u001b[0;36mHTTPConnection.handle_request\u001b[1;34m(self, request)\u001b[0m\n\u001b[0;32m     98\u001b[0m         \u001b[38;5;28mself\u001b[39m\u001b[38;5;241m.\u001b[39m_connect_failed \u001b[38;5;241m=\u001b[39m \u001b[38;5;28;01mTrue\u001b[39;00m\n\u001b[1;32m---> 99\u001b[0m         \u001b[38;5;28;01mraise\u001b[39;00m exc\n\u001b[0;32m    100\u001b[0m \u001b[38;5;28;01melif\u001b[39;00m \u001b[38;5;129;01mnot\u001b[39;00m \u001b[38;5;28mself\u001b[39m\u001b[38;5;241m.\u001b[39m_connection\u001b[38;5;241m.\u001b[39mis_available():\n",
      "File \u001b[1;32mc:\\Users\\u1046\\AppData\\Local\\anaconda3\\Lib\\site-packages\\httpcore\\_sync\\connection.py:76\u001b[0m, in \u001b[0;36mHTTPConnection.handle_request\u001b[1;34m(self, request)\u001b[0m\n\u001b[0;32m     75\u001b[0m \u001b[38;5;28;01mtry\u001b[39;00m:\n\u001b[1;32m---> 76\u001b[0m     stream \u001b[38;5;241m=\u001b[39m \u001b[38;5;28mself\u001b[39m\u001b[38;5;241m.\u001b[39m_connect(request)\n\u001b[0;32m     78\u001b[0m     ssl_object \u001b[38;5;241m=\u001b[39m stream\u001b[38;5;241m.\u001b[39mget_extra_info(\u001b[38;5;124m\"\u001b[39m\u001b[38;5;124mssl_object\u001b[39m\u001b[38;5;124m\"\u001b[39m)\n",
      "File \u001b[1;32mc:\\Users\\u1046\\AppData\\Local\\anaconda3\\Lib\\site-packages\\httpcore\\_sync\\connection.py:156\u001b[0m, in \u001b[0;36mHTTPConnection._connect\u001b[1;34m(self, request)\u001b[0m\n\u001b[0;32m    155\u001b[0m \u001b[38;5;28;01mwith\u001b[39;00m Trace(\u001b[38;5;124m\"\u001b[39m\u001b[38;5;124mstart_tls\u001b[39m\u001b[38;5;124m\"\u001b[39m, logger, request, kwargs) \u001b[38;5;28;01mas\u001b[39;00m trace:\n\u001b[1;32m--> 156\u001b[0m     stream \u001b[38;5;241m=\u001b[39m stream\u001b[38;5;241m.\u001b[39mstart_tls(\u001b[38;5;241m*\u001b[39m\u001b[38;5;241m*\u001b[39mkwargs)\n\u001b[0;32m    157\u001b[0m     trace\u001b[38;5;241m.\u001b[39mreturn_value \u001b[38;5;241m=\u001b[39m stream\n",
      "File \u001b[1;32mc:\\Users\\u1046\\AppData\\Local\\anaconda3\\Lib\\site-packages\\httpcore\\_backends\\sync.py:152\u001b[0m, in \u001b[0;36mSyncStream.start_tls\u001b[1;34m(self, ssl_context, server_hostname, timeout)\u001b[0m\n\u001b[0;32m    148\u001b[0m exc_map: ExceptionMapping \u001b[38;5;241m=\u001b[39m {\n\u001b[0;32m    149\u001b[0m     socket\u001b[38;5;241m.\u001b[39mtimeout: ConnectTimeout,\n\u001b[0;32m    150\u001b[0m     \u001b[38;5;167;01mOSError\u001b[39;00m: ConnectError,\n\u001b[0;32m    151\u001b[0m }\n\u001b[1;32m--> 152\u001b[0m \u001b[38;5;28;01mwith\u001b[39;00m map_exceptions(exc_map):\n\u001b[0;32m    153\u001b[0m     \u001b[38;5;28;01mtry\u001b[39;00m:\n",
      "File \u001b[1;32mc:\\Users\\u1046\\AppData\\Local\\anaconda3\\Lib\\contextlib.py:158\u001b[0m, in \u001b[0;36m_GeneratorContextManager.__exit__\u001b[1;34m(self, typ, value, traceback)\u001b[0m\n\u001b[0;32m    157\u001b[0m \u001b[38;5;28;01mtry\u001b[39;00m:\n\u001b[1;32m--> 158\u001b[0m     \u001b[38;5;28mself\u001b[39m\u001b[38;5;241m.\u001b[39mgen\u001b[38;5;241m.\u001b[39mthrow(typ, value, traceback)\n\u001b[0;32m    159\u001b[0m \u001b[38;5;28;01mexcept\u001b[39;00m \u001b[38;5;167;01mStopIteration\u001b[39;00m \u001b[38;5;28;01mas\u001b[39;00m exc:\n\u001b[0;32m    160\u001b[0m     \u001b[38;5;66;03m# Suppress StopIteration *unless* it's the same exception that\u001b[39;00m\n\u001b[0;32m    161\u001b[0m     \u001b[38;5;66;03m# was passed to throw().  This prevents a StopIteration\u001b[39;00m\n\u001b[0;32m    162\u001b[0m     \u001b[38;5;66;03m# raised inside the \"with\" statement from being suppressed.\u001b[39;00m\n",
      "File \u001b[1;32mc:\\Users\\u1046\\AppData\\Local\\anaconda3\\Lib\\site-packages\\httpcore\\_exceptions.py:14\u001b[0m, in \u001b[0;36mmap_exceptions\u001b[1;34m(map)\u001b[0m\n\u001b[0;32m     13\u001b[0m     \u001b[38;5;28;01mif\u001b[39;00m \u001b[38;5;28misinstance\u001b[39m(exc, from_exc):\n\u001b[1;32m---> 14\u001b[0m         \u001b[38;5;28;01mraise\u001b[39;00m to_exc(exc) \u001b[38;5;28;01mfrom\u001b[39;00m \u001b[38;5;21;01mexc\u001b[39;00m\n\u001b[0;32m     15\u001b[0m \u001b[38;5;28;01mraise\u001b[39;00m\n",
      "\u001b[1;31mConnectTimeout\u001b[0m: _ssl.c:989: The handshake operation timed out",
      "\nThe above exception was the direct cause of the following exception:\n",
      "\u001b[1;31mConnectTimeout\u001b[0m                            Traceback (most recent call last)",
      "Cell \u001b[1;32mIn[15], line 96\u001b[0m\n\u001b[0;32m     93\u001b[0m prompt_text \u001b[38;5;241m=\u001b[39m \u001b[38;5;124mf\u001b[39m\u001b[38;5;124m\"\"\"\u001b[39m\u001b[38;5;132;01m{\u001b[39;00mformatted_prompt\u001b[38;5;132;01m}\u001b[39;00m\u001b[38;5;124m\"\"\"\u001b[39m\n\u001b[0;32m     95\u001b[0m \u001b[38;5;66;03m# توليد النص من النموذج\u001b[39;00m\n\u001b[1;32m---> 96\u001b[0m generated_response \u001b[38;5;241m=\u001b[39m model\u001b[38;5;241m.\u001b[39mgenerate_text(prompt\u001b[38;5;241m=\u001b[39mprompt_text, guardrails\u001b[38;5;241m=\u001b[39m\u001b[38;5;28;01mFalse\u001b[39;00m)\n\u001b[0;32m     98\u001b[0m \u001b[38;5;66;03m# عرض النتيجة\u001b[39;00m\n\u001b[0;32m     99\u001b[0m \u001b[38;5;28mprint\u001b[39m(\u001b[38;5;124mf\u001b[39m\u001b[38;5;124m\"\u001b[39m\u001b[38;5;124mAI: \u001b[39m\u001b[38;5;132;01m{\u001b[39;00mgenerated_response\u001b[38;5;132;01m}\u001b[39;00m\u001b[38;5;124m\"\u001b[39m)\n",
      "File \u001b[1;32mc:\\Users\\u1046\\AppData\\Local\\anaconda3\\Lib\\site-packages\\ibm_watsonx_ai\\foundation_models\\model.py:343\u001b[0m, in \u001b[0;36mModel.generate_text\u001b[1;34m(self, prompt, params, raw_response, guardrails, guardrails_hap_params, guardrails_pii_params, concurrency_limit)\u001b[0m\n\u001b[0;32m    298\u001b[0m \u001b[38;5;28;01mdef\u001b[39;00m \u001b[38;5;21mgenerate_text\u001b[39m(  \u001b[38;5;66;03m# type: ignore[override]\u001b[39;00m\n\u001b[0;32m    299\u001b[0m     \u001b[38;5;28mself\u001b[39m,\n\u001b[0;32m    300\u001b[0m     prompt: \u001b[38;5;28mstr\u001b[39m \u001b[38;5;241m|\u001b[39m \u001b[38;5;28mlist\u001b[39m \u001b[38;5;241m|\u001b[39m \u001b[38;5;28;01mNone\u001b[39;00m \u001b[38;5;241m=\u001b[39m \u001b[38;5;28;01mNone\u001b[39;00m,\n\u001b[1;32m   (...)\u001b[0m\n\u001b[0;32m    306\u001b[0m     concurrency_limit: \u001b[38;5;28mint\u001b[39m \u001b[38;5;241m=\u001b[39m \u001b[38;5;241m10\u001b[39m,\n\u001b[0;32m    307\u001b[0m ) \u001b[38;5;241m-\u001b[39m\u001b[38;5;241m>\u001b[39m \u001b[38;5;28mstr\u001b[39m \u001b[38;5;241m|\u001b[39m \u001b[38;5;28mlist\u001b[39m \u001b[38;5;241m|\u001b[39m \u001b[38;5;28mdict\u001b[39m:\n\u001b[0;32m    308\u001b[0m \u001b[38;5;250m    \u001b[39m\u001b[38;5;124;03m\"\"\"Generates a completion text as generated_text after getting\u001b[39;00m\n\u001b[0;32m    309\u001b[0m \u001b[38;5;124;03m    a text prompt as input and parameters for the selected model (model_id).\u001b[39;00m\n\u001b[0;32m    310\u001b[0m \n\u001b[1;32m   (...)\u001b[0m\n\u001b[0;32m    341\u001b[0m \n\u001b[0;32m    342\u001b[0m \u001b[38;5;124;03m    \"\"\"\u001b[39;00m\n\u001b[1;32m--> 343\u001b[0m     \u001b[38;5;28;01mreturn\u001b[39;00m \u001b[38;5;28msuper\u001b[39m()\u001b[38;5;241m.\u001b[39mgenerate_text(\n\u001b[0;32m    344\u001b[0m         prompt\u001b[38;5;241m=\u001b[39mprompt,\n\u001b[0;32m    345\u001b[0m         params\u001b[38;5;241m=\u001b[39mparams,\n\u001b[0;32m    346\u001b[0m         raw_response\u001b[38;5;241m=\u001b[39mraw_response,\n\u001b[0;32m    347\u001b[0m         guardrails\u001b[38;5;241m=\u001b[39mguardrails,\n\u001b[0;32m    348\u001b[0m         guardrails_hap_params\u001b[38;5;241m=\u001b[39mguardrails_hap_params,\n\u001b[0;32m    349\u001b[0m         guardrails_pii_params\u001b[38;5;241m=\u001b[39mguardrails_pii_params,\n\u001b[0;32m    350\u001b[0m         concurrency_limit\u001b[38;5;241m=\u001b[39mconcurrency_limit,\n\u001b[0;32m    351\u001b[0m         validate_prompt_variables\u001b[38;5;241m=\u001b[39m\u001b[38;5;28;01mTrue\u001b[39;00m,  \u001b[38;5;66;03m# keep default value, changing not permitted in this scenario\u001b[39;00m\n\u001b[0;32m    352\u001b[0m     )\n",
      "File \u001b[1;32mc:\\Users\\u1046\\AppData\\Local\\anaconda3\\Lib\\site-packages\\ibm_watsonx_ai\\foundation_models\\inference\\model_inference.py:597\u001b[0m, in \u001b[0;36mModelInference.generate_text\u001b[1;34m(self, prompt, params, raw_response, guardrails, guardrails_hap_params, guardrails_pii_params, concurrency_limit, validate_prompt_variables)\u001b[0m\n\u001b[0;32m    536\u001b[0m \u001b[38;5;28;01mdef\u001b[39;00m \u001b[38;5;21mgenerate_text\u001b[39m(\n\u001b[0;32m    537\u001b[0m     \u001b[38;5;28mself\u001b[39m,\n\u001b[0;32m    538\u001b[0m     prompt: \u001b[38;5;28mstr\u001b[39m \u001b[38;5;241m|\u001b[39m \u001b[38;5;28mlist\u001b[39m \u001b[38;5;241m|\u001b[39m \u001b[38;5;28;01mNone\u001b[39;00m \u001b[38;5;241m=\u001b[39m \u001b[38;5;28;01mNone\u001b[39;00m,\n\u001b[1;32m   (...)\u001b[0m\n\u001b[0;32m    545\u001b[0m     validate_prompt_variables: \u001b[38;5;28mbool\u001b[39m \u001b[38;5;241m=\u001b[39m \u001b[38;5;28;01mTrue\u001b[39;00m,\n\u001b[0;32m    546\u001b[0m ) \u001b[38;5;241m-\u001b[39m\u001b[38;5;241m>\u001b[39m \u001b[38;5;28mstr\u001b[39m \u001b[38;5;241m|\u001b[39m \u001b[38;5;28mlist\u001b[39m \u001b[38;5;241m|\u001b[39m \u001b[38;5;28mdict\u001b[39m:\n\u001b[0;32m    547\u001b[0m \u001b[38;5;250m    \u001b[39m\u001b[38;5;124;03m\"\"\"Generates a completion text as generated_text after getting a text prompt as input and\u001b[39;00m\n\u001b[0;32m    548\u001b[0m \u001b[38;5;124;03m    parameters for the selected model (model_id). For prompt template deployment, `prompt` should be None.\u001b[39;00m\n\u001b[0;32m    549\u001b[0m \n\u001b[1;32m   (...)\u001b[0m\n\u001b[0;32m    595\u001b[0m \n\u001b[0;32m    596\u001b[0m \u001b[38;5;124;03m    \"\"\"\u001b[39;00m\n\u001b[1;32m--> 597\u001b[0m     metadata \u001b[38;5;241m=\u001b[39m ModelInference\u001b[38;5;241m.\u001b[39mgenerate(\n\u001b[0;32m    598\u001b[0m         \u001b[38;5;28mself\u001b[39m,\n\u001b[0;32m    599\u001b[0m         prompt\u001b[38;5;241m=\u001b[39mprompt,\n\u001b[0;32m    600\u001b[0m         params\u001b[38;5;241m=\u001b[39mparams,\n\u001b[0;32m    601\u001b[0m         guardrails\u001b[38;5;241m=\u001b[39mguardrails,\n\u001b[0;32m    602\u001b[0m         guardrails_hap_params\u001b[38;5;241m=\u001b[39mguardrails_hap_params,\n\u001b[0;32m    603\u001b[0m         guardrails_pii_params\u001b[38;5;241m=\u001b[39mguardrails_pii_params,\n\u001b[0;32m    604\u001b[0m         concurrency_limit\u001b[38;5;241m=\u001b[39mconcurrency_limit,\n\u001b[0;32m    605\u001b[0m         validate_prompt_variables\u001b[38;5;241m=\u001b[39mvalidate_prompt_variables,\n\u001b[0;32m    606\u001b[0m     )\n\u001b[0;32m    607\u001b[0m     \u001b[38;5;28;01mif\u001b[39;00m raw_response:\n\u001b[0;32m    608\u001b[0m         \u001b[38;5;28;01mreturn\u001b[39;00m metadata\n",
      "File \u001b[1;32mc:\\Users\\u1046\\AppData\\Local\\anaconda3\\Lib\\site-packages\\ibm_watsonx_ai\\foundation_models\\inference\\model_inference.py:451\u001b[0m, in \u001b[0;36mModelInference.generate\u001b[1;34m(self, prompt, params, guardrails, guardrails_hap_params, guardrails_pii_params, concurrency_limit, async_mode, validate_prompt_variables)\u001b[0m\n\u001b[0;32m    445\u001b[0m     warning_async_mode \u001b[38;5;241m=\u001b[39m (\n\u001b[0;32m    446\u001b[0m         \u001b[38;5;124m\"\u001b[39m\u001b[38;5;124mIn this mode, the results will be returned in the order in which the server returns the responses. \u001b[39m\u001b[38;5;124m\"\u001b[39m\n\u001b[0;32m    447\u001b[0m         \u001b[38;5;124m\"\u001b[39m\u001b[38;5;124mPlease notice that it does not support non-blocking requests scheduling. \u001b[39m\u001b[38;5;124m\"\u001b[39m\n\u001b[0;32m    448\u001b[0m         \u001b[38;5;124m\"\u001b[39m\u001b[38;5;124mTo use non-blocking native async inference method you may use `ModelInference.agenerate(...)`\u001b[39m\u001b[38;5;124m\"\u001b[39m\n\u001b[0;32m    449\u001b[0m     )\n\u001b[0;32m    450\u001b[0m     warnings\u001b[38;5;241m.\u001b[39mwarn(warning_async_mode)\n\u001b[1;32m--> 451\u001b[0m \u001b[38;5;28;01mreturn\u001b[39;00m \u001b[38;5;28mself\u001b[39m\u001b[38;5;241m.\u001b[39m_inference\u001b[38;5;241m.\u001b[39mgenerate(\n\u001b[0;32m    452\u001b[0m     prompt\u001b[38;5;241m=\u001b[39mprompt,\n\u001b[0;32m    453\u001b[0m     params\u001b[38;5;241m=\u001b[39mparams,\n\u001b[0;32m    454\u001b[0m     guardrails\u001b[38;5;241m=\u001b[39mguardrails,\n\u001b[0;32m    455\u001b[0m     guardrails_hap_params\u001b[38;5;241m=\u001b[39mguardrails_hap_params,\n\u001b[0;32m    456\u001b[0m     guardrails_pii_params\u001b[38;5;241m=\u001b[39mguardrails_pii_params,\n\u001b[0;32m    457\u001b[0m     concurrency_limit\u001b[38;5;241m=\u001b[39mconcurrency_limit,\n\u001b[0;32m    458\u001b[0m     async_mode\u001b[38;5;241m=\u001b[39masync_mode,\n\u001b[0;32m    459\u001b[0m     validate_prompt_variables\u001b[38;5;241m=\u001b[39mvalidate_prompt_variables,\n\u001b[0;32m    460\u001b[0m )\n",
      "File \u001b[1;32mc:\\Users\\u1046\\AppData\\Local\\anaconda3\\Lib\\site-packages\\ibm_watsonx_ai\\foundation_models\\inference\\fm_model_inference.py:251\u001b[0m, in \u001b[0;36mFMModelInference.generate\u001b[1;34m(self, prompt, params, guardrails, guardrails_hap_params, guardrails_pii_params, concurrency_limit, async_mode, validate_prompt_variables)\u001b[0m\n\u001b[0;32m    240\u001b[0m     \u001b[38;5;28;01mreturn\u001b[39;00m \u001b[38;5;28mself\u001b[39m\u001b[38;5;241m.\u001b[39m_generate_with_url_async(\n\u001b[0;32m    241\u001b[0m         prompt\u001b[38;5;241m=\u001b[39mprompt,\n\u001b[0;32m    242\u001b[0m         params\u001b[38;5;241m=\u001b[39mparams \u001b[38;5;129;01mor\u001b[39;00m \u001b[38;5;28mself\u001b[39m\u001b[38;5;241m.\u001b[39mparams,\n\u001b[1;32m   (...)\u001b[0m\n\u001b[0;32m    247\u001b[0m         concurrency_limit\u001b[38;5;241m=\u001b[39mconcurrency_limit,\n\u001b[0;32m    248\u001b[0m     )\n\u001b[0;32m    250\u001b[0m \u001b[38;5;28;01melse\u001b[39;00m:\n\u001b[1;32m--> 251\u001b[0m     \u001b[38;5;28;01mreturn\u001b[39;00m \u001b[38;5;28mself\u001b[39m\u001b[38;5;241m.\u001b[39m_generate_with_url(\n\u001b[0;32m    252\u001b[0m         prompt\u001b[38;5;241m=\u001b[39mprompt,\n\u001b[0;32m    253\u001b[0m         params\u001b[38;5;241m=\u001b[39mparams,\n\u001b[0;32m    254\u001b[0m         generate_url\u001b[38;5;241m=\u001b[39mgenerate_text_url,\n\u001b[0;32m    255\u001b[0m         guardrails\u001b[38;5;241m=\u001b[39mguardrails,\n\u001b[0;32m    256\u001b[0m         guardrails_hap_params\u001b[38;5;241m=\u001b[39mguardrails_hap_params,\n\u001b[0;32m    257\u001b[0m         guardrails_pii_params\u001b[38;5;241m=\u001b[39mguardrails_pii_params,\n\u001b[0;32m    258\u001b[0m         concurrency_limit\u001b[38;5;241m=\u001b[39mconcurrency_limit,\n\u001b[0;32m    259\u001b[0m     )\n",
      "File \u001b[1;32mc:\\Users\\u1046\\AppData\\Local\\anaconda3\\Lib\\site-packages\\ibm_watsonx_ai\\foundation_models\\inference\\base_model_inference.py:436\u001b[0m, in \u001b[0;36mBaseModelInference._generate_with_url\u001b[1;34m(self, prompt, params, generate_url, guardrails, guardrails_hap_params, guardrails_pii_params, concurrency_limit)\u001b[0m\n\u001b[0;32m    432\u001b[0m             http_client\u001b[38;5;241m.\u001b[39mclose()\n\u001b[0;32m    434\u001b[0m \u001b[38;5;28;01melse\u001b[39;00m:\n\u001b[1;32m--> 436\u001b[0m     response \u001b[38;5;241m=\u001b[39m \u001b[38;5;28mself\u001b[39m\u001b[38;5;241m.\u001b[39m_send_inference_payload(\n\u001b[0;32m    437\u001b[0m         prompt,\n\u001b[0;32m    438\u001b[0m         params,\n\u001b[0;32m    439\u001b[0m         generate_url,\n\u001b[0;32m    440\u001b[0m         guardrails,\n\u001b[0;32m    441\u001b[0m         guardrails_hap_params,\n\u001b[0;32m    442\u001b[0m         guardrails_pii_params,\n\u001b[0;32m    443\u001b[0m     )\n\u001b[0;32m    444\u001b[0m \u001b[38;5;28;01mreturn\u001b[39;00m response\n",
      "File \u001b[1;32mc:\\Users\\u1046\\AppData\\Local\\anaconda3\\Lib\\site-packages\\ibm_watsonx_ai\\foundation_models\\inference\\base_model_inference.py:236\u001b[0m, in \u001b[0;36mBaseModelInference._send_inference_payload\u001b[1;34m(self, prompt, params, generate_url, guardrails, guardrails_hap_params, guardrails_pii_params, _http_client)\u001b[0m\n\u001b[0;32m    233\u001b[0m \u001b[38;5;28;01mif\u001b[39;00m \u001b[38;5;129;01mnot\u001b[39;00m \u001b[38;5;28misinstance\u001b[39m(http_client, httpx\u001b[38;5;241m.\u001b[39mClient):\n\u001b[0;32m    234\u001b[0m     post_params[\u001b[38;5;124m\"\u001b[39m\u001b[38;5;124m_retry_status_codes\u001b[39m\u001b[38;5;124m\"\u001b[39m] \u001b[38;5;241m=\u001b[39m _RETRY_STATUS_CODES\n\u001b[1;32m--> 236\u001b[0m response_scoring \u001b[38;5;241m=\u001b[39m http_client\u001b[38;5;241m.\u001b[39mpost(\u001b[38;5;241m*\u001b[39m\u001b[38;5;241m*\u001b[39mpost_params)\n\u001b[0;32m    238\u001b[0m \u001b[38;5;28;01mreturn\u001b[39;00m \u001b[38;5;28mself\u001b[39m\u001b[38;5;241m.\u001b[39m_handle_response(\n\u001b[0;32m    239\u001b[0m     \u001b[38;5;241m200\u001b[39m,\n\u001b[0;32m    240\u001b[0m     \u001b[38;5;124m\"\u001b[39m\u001b[38;5;124mgenerate\u001b[39m\u001b[38;5;124m\"\u001b[39m,\n\u001b[0;32m    241\u001b[0m     response_scoring,\n\u001b[0;32m    242\u001b[0m     _field_to_hide\u001b[38;5;241m=\u001b[39m\u001b[38;5;124m\"\u001b[39m\u001b[38;5;124mgenerated_text\u001b[39m\u001b[38;5;124m\"\u001b[39m,\n\u001b[0;32m    243\u001b[0m )\n",
      "File \u001b[1;32mc:\\Users\\u1046\\AppData\\Local\\anaconda3\\Lib\\site-packages\\ibm_watsonx_ai\\_wrappers\\requests.py:423\u001b[0m, in \u001b[0;36mHTTPXClient.post\u001b[1;34m(self, url, content, json, headers, params, **kwargs)\u001b[0m\n\u001b[0;32m    420\u001b[0m     \u001b[38;5;28;01mif\u001b[39;00m headers \u001b[38;5;129;01mis\u001b[39;00m \u001b[38;5;129;01mnot\u001b[39;00m \u001b[38;5;28;01mNone\u001b[39;00m \u001b[38;5;129;01mand\u001b[39;00m headers\u001b[38;5;241m.\u001b[39mget(\u001b[38;5;124m\"\u001b[39m\u001b[38;5;124mContent-Type\u001b[39m\u001b[38;5;124m\"\u001b[39m) \u001b[38;5;129;01mis\u001b[39;00m \u001b[38;5;129;01mnot\u001b[39;00m \u001b[38;5;28;01mNone\u001b[39;00m:\n\u001b[0;32m    421\u001b[0m         headers[\u001b[38;5;124m\"\u001b[39m\u001b[38;5;124mContent-Type\u001b[39m\u001b[38;5;124m\"\u001b[39m] \u001b[38;5;241m=\u001b[39m \u001b[38;5;124m\"\u001b[39m\u001b[38;5;124mapplication/json\u001b[39m\u001b[38;5;124m\"\u001b[39m\n\u001b[1;32m--> 423\u001b[0m response \u001b[38;5;241m=\u001b[39m \u001b[38;5;28msuper\u001b[39m()\u001b[38;5;241m.\u001b[39mpost(\n\u001b[0;32m    424\u001b[0m     url\u001b[38;5;241m=\u001b[39murl,\n\u001b[0;32m    425\u001b[0m     content\u001b[38;5;241m=\u001b[39mcontent,\n\u001b[0;32m    426\u001b[0m     headers\u001b[38;5;241m=\u001b[39mheaders,\n\u001b[0;32m    427\u001b[0m     params\u001b[38;5;241m=\u001b[39mparams,\n\u001b[0;32m    428\u001b[0m     \u001b[38;5;241m*\u001b[39m\u001b[38;5;241m*\u001b[39mkwargs,\n\u001b[0;32m    429\u001b[0m )\n\u001b[0;32m    430\u001b[0m \u001b[38;5;28;01mreturn\u001b[39;00m response\n",
      "File \u001b[1;32mc:\\Users\\u1046\\AppData\\Local\\anaconda3\\Lib\\site-packages\\httpx\\_client.py:1146\u001b[0m, in \u001b[0;36mClient.post\u001b[1;34m(self, url, content, data, files, json, params, headers, cookies, auth, follow_redirects, timeout, extensions)\u001b[0m\n\u001b[0;32m   1125\u001b[0m \u001b[38;5;28;01mdef\u001b[39;00m \u001b[38;5;21mpost\u001b[39m(\n\u001b[0;32m   1126\u001b[0m     \u001b[38;5;28mself\u001b[39m,\n\u001b[0;32m   1127\u001b[0m     url: URLTypes,\n\u001b[1;32m   (...)\u001b[0m\n\u001b[0;32m   1139\u001b[0m     extensions: typing\u001b[38;5;241m.\u001b[39mOptional[RequestExtensions] \u001b[38;5;241m=\u001b[39m \u001b[38;5;28;01mNone\u001b[39;00m,\n\u001b[0;32m   1140\u001b[0m ) \u001b[38;5;241m-\u001b[39m\u001b[38;5;241m>\u001b[39m Response:\n\u001b[0;32m   1141\u001b[0m \u001b[38;5;250m    \u001b[39m\u001b[38;5;124;03m\"\"\"\u001b[39;00m\n\u001b[0;32m   1142\u001b[0m \u001b[38;5;124;03m    Send a `POST` request.\u001b[39;00m\n\u001b[0;32m   1143\u001b[0m \n\u001b[0;32m   1144\u001b[0m \u001b[38;5;124;03m    **Parameters**: See `httpx.request`.\u001b[39;00m\n\u001b[0;32m   1145\u001b[0m \u001b[38;5;124;03m    \"\"\"\u001b[39;00m\n\u001b[1;32m-> 1146\u001b[0m     \u001b[38;5;28;01mreturn\u001b[39;00m \u001b[38;5;28mself\u001b[39m\u001b[38;5;241m.\u001b[39mrequest(\n\u001b[0;32m   1147\u001b[0m         \u001b[38;5;124m\"\u001b[39m\u001b[38;5;124mPOST\u001b[39m\u001b[38;5;124m\"\u001b[39m,\n\u001b[0;32m   1148\u001b[0m         url,\n\u001b[0;32m   1149\u001b[0m         content\u001b[38;5;241m=\u001b[39mcontent,\n\u001b[0;32m   1150\u001b[0m         data\u001b[38;5;241m=\u001b[39mdata,\n\u001b[0;32m   1151\u001b[0m         files\u001b[38;5;241m=\u001b[39mfiles,\n\u001b[0;32m   1152\u001b[0m         json\u001b[38;5;241m=\u001b[39mjson,\n\u001b[0;32m   1153\u001b[0m         params\u001b[38;5;241m=\u001b[39mparams,\n\u001b[0;32m   1154\u001b[0m         headers\u001b[38;5;241m=\u001b[39mheaders,\n\u001b[0;32m   1155\u001b[0m         cookies\u001b[38;5;241m=\u001b[39mcookies,\n\u001b[0;32m   1156\u001b[0m         auth\u001b[38;5;241m=\u001b[39mauth,\n\u001b[0;32m   1157\u001b[0m         follow_redirects\u001b[38;5;241m=\u001b[39mfollow_redirects,\n\u001b[0;32m   1158\u001b[0m         timeout\u001b[38;5;241m=\u001b[39mtimeout,\n\u001b[0;32m   1159\u001b[0m         extensions\u001b[38;5;241m=\u001b[39mextensions,\n\u001b[0;32m   1160\u001b[0m     )\n",
      "File \u001b[1;32mc:\\Users\\u1046\\AppData\\Local\\anaconda3\\Lib\\site-packages\\httpx\\_client.py:828\u001b[0m, in \u001b[0;36mClient.request\u001b[1;34m(self, method, url, content, data, files, json, params, headers, cookies, auth, follow_redirects, timeout, extensions)\u001b[0m\n\u001b[0;32m    813\u001b[0m     warnings\u001b[38;5;241m.\u001b[39mwarn(message, \u001b[38;5;167;01mDeprecationWarning\u001b[39;00m)\n\u001b[0;32m    815\u001b[0m request \u001b[38;5;241m=\u001b[39m \u001b[38;5;28mself\u001b[39m\u001b[38;5;241m.\u001b[39mbuild_request(\n\u001b[0;32m    816\u001b[0m     method\u001b[38;5;241m=\u001b[39mmethod,\n\u001b[0;32m    817\u001b[0m     url\u001b[38;5;241m=\u001b[39murl,\n\u001b[1;32m   (...)\u001b[0m\n\u001b[0;32m    826\u001b[0m     extensions\u001b[38;5;241m=\u001b[39mextensions,\n\u001b[0;32m    827\u001b[0m )\n\u001b[1;32m--> 828\u001b[0m \u001b[38;5;28;01mreturn\u001b[39;00m \u001b[38;5;28mself\u001b[39m\u001b[38;5;241m.\u001b[39msend(request, auth\u001b[38;5;241m=\u001b[39mauth, follow_redirects\u001b[38;5;241m=\u001b[39mfollow_redirects)\n",
      "File \u001b[1;32mc:\\Users\\u1046\\AppData\\Local\\anaconda3\\Lib\\site-packages\\httpx\\_client.py:915\u001b[0m, in \u001b[0;36mClient.send\u001b[1;34m(self, request, stream, auth, follow_redirects)\u001b[0m\n\u001b[0;32m    907\u001b[0m follow_redirects \u001b[38;5;241m=\u001b[39m (\n\u001b[0;32m    908\u001b[0m     \u001b[38;5;28mself\u001b[39m\u001b[38;5;241m.\u001b[39mfollow_redirects\n\u001b[0;32m    909\u001b[0m     \u001b[38;5;28;01mif\u001b[39;00m \u001b[38;5;28misinstance\u001b[39m(follow_redirects, UseClientDefault)\n\u001b[0;32m    910\u001b[0m     \u001b[38;5;28;01melse\u001b[39;00m follow_redirects\n\u001b[0;32m    911\u001b[0m )\n\u001b[0;32m    913\u001b[0m auth \u001b[38;5;241m=\u001b[39m \u001b[38;5;28mself\u001b[39m\u001b[38;5;241m.\u001b[39m_build_request_auth(request, auth)\n\u001b[1;32m--> 915\u001b[0m response \u001b[38;5;241m=\u001b[39m \u001b[38;5;28mself\u001b[39m\u001b[38;5;241m.\u001b[39m_send_handling_auth(\n\u001b[0;32m    916\u001b[0m     request,\n\u001b[0;32m    917\u001b[0m     auth\u001b[38;5;241m=\u001b[39mauth,\n\u001b[0;32m    918\u001b[0m     follow_redirects\u001b[38;5;241m=\u001b[39mfollow_redirects,\n\u001b[0;32m    919\u001b[0m     history\u001b[38;5;241m=\u001b[39m[],\n\u001b[0;32m    920\u001b[0m )\n\u001b[0;32m    921\u001b[0m \u001b[38;5;28;01mtry\u001b[39;00m:\n\u001b[0;32m    922\u001b[0m     \u001b[38;5;28;01mif\u001b[39;00m \u001b[38;5;129;01mnot\u001b[39;00m stream:\n",
      "File \u001b[1;32mc:\\Users\\u1046\\AppData\\Local\\anaconda3\\Lib\\site-packages\\httpx\\_client.py:943\u001b[0m, in \u001b[0;36mClient._send_handling_auth\u001b[1;34m(self, request, auth, follow_redirects, history)\u001b[0m\n\u001b[0;32m    940\u001b[0m request \u001b[38;5;241m=\u001b[39m \u001b[38;5;28mnext\u001b[39m(auth_flow)\n\u001b[0;32m    942\u001b[0m \u001b[38;5;28;01mwhile\u001b[39;00m \u001b[38;5;28;01mTrue\u001b[39;00m:\n\u001b[1;32m--> 943\u001b[0m     response \u001b[38;5;241m=\u001b[39m \u001b[38;5;28mself\u001b[39m\u001b[38;5;241m.\u001b[39m_send_handling_redirects(\n\u001b[0;32m    944\u001b[0m         request,\n\u001b[0;32m    945\u001b[0m         follow_redirects\u001b[38;5;241m=\u001b[39mfollow_redirects,\n\u001b[0;32m    946\u001b[0m         history\u001b[38;5;241m=\u001b[39mhistory,\n\u001b[0;32m    947\u001b[0m     )\n\u001b[0;32m    948\u001b[0m     \u001b[38;5;28;01mtry\u001b[39;00m:\n\u001b[0;32m    949\u001b[0m         \u001b[38;5;28;01mtry\u001b[39;00m:\n",
      "File \u001b[1;32mc:\\Users\\u1046\\AppData\\Local\\anaconda3\\Lib\\site-packages\\httpx\\_client.py:980\u001b[0m, in \u001b[0;36mClient._send_handling_redirects\u001b[1;34m(self, request, follow_redirects, history)\u001b[0m\n\u001b[0;32m    977\u001b[0m \u001b[38;5;28;01mfor\u001b[39;00m hook \u001b[38;5;129;01min\u001b[39;00m \u001b[38;5;28mself\u001b[39m\u001b[38;5;241m.\u001b[39m_event_hooks[\u001b[38;5;124m\"\u001b[39m\u001b[38;5;124mrequest\u001b[39m\u001b[38;5;124m\"\u001b[39m]:\n\u001b[0;32m    978\u001b[0m     hook(request)\n\u001b[1;32m--> 980\u001b[0m response \u001b[38;5;241m=\u001b[39m \u001b[38;5;28mself\u001b[39m\u001b[38;5;241m.\u001b[39m_send_single_request(request)\n\u001b[0;32m    981\u001b[0m \u001b[38;5;28;01mtry\u001b[39;00m:\n\u001b[0;32m    982\u001b[0m     \u001b[38;5;28;01mfor\u001b[39;00m hook \u001b[38;5;129;01min\u001b[39;00m \u001b[38;5;28mself\u001b[39m\u001b[38;5;241m.\u001b[39m_event_hooks[\u001b[38;5;124m\"\u001b[39m\u001b[38;5;124mresponse\u001b[39m\u001b[38;5;124m\"\u001b[39m]:\n",
      "File \u001b[1;32mc:\\Users\\u1046\\AppData\\Local\\anaconda3\\Lib\\site-packages\\httpx\\_client.py:1016\u001b[0m, in \u001b[0;36mClient._send_single_request\u001b[1;34m(self, request)\u001b[0m\n\u001b[0;32m   1011\u001b[0m     \u001b[38;5;28;01mraise\u001b[39;00m \u001b[38;5;167;01mRuntimeError\u001b[39;00m(\n\u001b[0;32m   1012\u001b[0m         \u001b[38;5;124m\"\u001b[39m\u001b[38;5;124mAttempted to send an async request with a sync Client instance.\u001b[39m\u001b[38;5;124m\"\u001b[39m\n\u001b[0;32m   1013\u001b[0m     )\n\u001b[0;32m   1015\u001b[0m \u001b[38;5;28;01mwith\u001b[39;00m request_context(request\u001b[38;5;241m=\u001b[39mrequest):\n\u001b[1;32m-> 1016\u001b[0m     response \u001b[38;5;241m=\u001b[39m transport\u001b[38;5;241m.\u001b[39mhandle_request(request)\n\u001b[0;32m   1018\u001b[0m \u001b[38;5;28;01massert\u001b[39;00m \u001b[38;5;28misinstance\u001b[39m(response\u001b[38;5;241m.\u001b[39mstream, SyncByteStream)\n\u001b[0;32m   1020\u001b[0m response\u001b[38;5;241m.\u001b[39mrequest \u001b[38;5;241m=\u001b[39m request\n",
      "File \u001b[1;32mc:\\Users\\u1046\\AppData\\Local\\anaconda3\\Lib\\site-packages\\ibm_watsonx_ai\\_wrappers\\requests.py:518\u001b[0m, in \u001b[0;36mHTTPXRetryTransport.handle_request\u001b[1;34m(self, request)\u001b[0m\n\u001b[0;32m    515\u001b[0m             \u001b[38;5;28;01mbreak\u001b[39;00m\n\u001b[0;32m    517\u001b[0m     \u001b[38;5;28;01mif\u001b[39;00m _exception \u001b[38;5;129;01mis\u001b[39;00m \u001b[38;5;129;01mnot\u001b[39;00m \u001b[38;5;28;01mNone\u001b[39;00m:\n\u001b[1;32m--> 518\u001b[0m         \u001b[38;5;28;01mraise\u001b[39;00m _exception\n\u001b[0;32m    519\u001b[0m \u001b[38;5;28;01melse\u001b[39;00m:\n\u001b[0;32m    520\u001b[0m     response \u001b[38;5;241m=\u001b[39m \u001b[38;5;28msuper\u001b[39m()\u001b[38;5;241m.\u001b[39mhandle_request(request)\n",
      "File \u001b[1;32mc:\\Users\\u1046\\AppData\\Local\\anaconda3\\Lib\\site-packages\\ibm_watsonx_ai\\_wrappers\\requests.py:504\u001b[0m, in \u001b[0;36mHTTPXRetryTransport.handle_request\u001b[1;34m(self, request)\u001b[0m\n\u001b[0;32m    502\u001b[0m timeout \u001b[38;5;241m=\u001b[39m \u001b[38;5;28;01mFalse\u001b[39;00m\n\u001b[0;32m    503\u001b[0m \u001b[38;5;28;01mtry\u001b[39;00m:\n\u001b[1;32m--> 504\u001b[0m     response \u001b[38;5;241m=\u001b[39m \u001b[38;5;28msuper\u001b[39m()\u001b[38;5;241m.\u001b[39mhandle_request(request)\n\u001b[0;32m    505\u001b[0m \u001b[38;5;28;01mexcept\u001b[39;00m httpx\u001b[38;5;241m.\u001b[39mTimeoutException \u001b[38;5;28;01mas\u001b[39;00m e:\n\u001b[0;32m    506\u001b[0m     timeout \u001b[38;5;241m=\u001b[39m \u001b[38;5;28;01mTrue\u001b[39;00m\n",
      "File \u001b[1;32mc:\\Users\\u1046\\AppData\\Local\\anaconda3\\Lib\\site-packages\\httpx\\_transports\\default.py:230\u001b[0m, in \u001b[0;36mHTTPTransport.handle_request\u001b[1;34m(self, request)\u001b[0m\n\u001b[0;32m    216\u001b[0m \u001b[38;5;28;01massert\u001b[39;00m \u001b[38;5;28misinstance\u001b[39m(request\u001b[38;5;241m.\u001b[39mstream, SyncByteStream)\n\u001b[0;32m    218\u001b[0m req \u001b[38;5;241m=\u001b[39m httpcore\u001b[38;5;241m.\u001b[39mRequest(\n\u001b[0;32m    219\u001b[0m     method\u001b[38;5;241m=\u001b[39mrequest\u001b[38;5;241m.\u001b[39mmethod,\n\u001b[0;32m    220\u001b[0m     url\u001b[38;5;241m=\u001b[39mhttpcore\u001b[38;5;241m.\u001b[39mURL(\n\u001b[1;32m   (...)\u001b[0m\n\u001b[0;32m    228\u001b[0m     extensions\u001b[38;5;241m=\u001b[39mrequest\u001b[38;5;241m.\u001b[39mextensions,\n\u001b[0;32m    229\u001b[0m )\n\u001b[1;32m--> 230\u001b[0m \u001b[38;5;28;01mwith\u001b[39;00m map_httpcore_exceptions():\n\u001b[0;32m    231\u001b[0m     resp \u001b[38;5;241m=\u001b[39m \u001b[38;5;28mself\u001b[39m\u001b[38;5;241m.\u001b[39m_pool\u001b[38;5;241m.\u001b[39mhandle_request(req)\n\u001b[0;32m    233\u001b[0m \u001b[38;5;28;01massert\u001b[39;00m \u001b[38;5;28misinstance\u001b[39m(resp\u001b[38;5;241m.\u001b[39mstream, typing\u001b[38;5;241m.\u001b[39mIterable)\n",
      "File \u001b[1;32mc:\\Users\\u1046\\AppData\\Local\\anaconda3\\Lib\\contextlib.py:158\u001b[0m, in \u001b[0;36m_GeneratorContextManager.__exit__\u001b[1;34m(self, typ, value, traceback)\u001b[0m\n\u001b[0;32m    156\u001b[0m     value \u001b[38;5;241m=\u001b[39m typ()\n\u001b[0;32m    157\u001b[0m \u001b[38;5;28;01mtry\u001b[39;00m:\n\u001b[1;32m--> 158\u001b[0m     \u001b[38;5;28mself\u001b[39m\u001b[38;5;241m.\u001b[39mgen\u001b[38;5;241m.\u001b[39mthrow(typ, value, traceback)\n\u001b[0;32m    159\u001b[0m \u001b[38;5;28;01mexcept\u001b[39;00m \u001b[38;5;167;01mStopIteration\u001b[39;00m \u001b[38;5;28;01mas\u001b[39;00m exc:\n\u001b[0;32m    160\u001b[0m     \u001b[38;5;66;03m# Suppress StopIteration *unless* it's the same exception that\u001b[39;00m\n\u001b[0;32m    161\u001b[0m     \u001b[38;5;66;03m# was passed to throw().  This prevents a StopIteration\u001b[39;00m\n\u001b[0;32m    162\u001b[0m     \u001b[38;5;66;03m# raised inside the \"with\" statement from being suppressed.\u001b[39;00m\n\u001b[0;32m    163\u001b[0m     \u001b[38;5;28;01mreturn\u001b[39;00m exc \u001b[38;5;129;01mis\u001b[39;00m \u001b[38;5;129;01mnot\u001b[39;00m value\n",
      "File \u001b[1;32mc:\\Users\\u1046\\AppData\\Local\\anaconda3\\Lib\\site-packages\\httpx\\_transports\\default.py:84\u001b[0m, in \u001b[0;36mmap_httpcore_exceptions\u001b[1;34m()\u001b[0m\n\u001b[0;32m     81\u001b[0m     \u001b[38;5;28;01mraise\u001b[39;00m\n\u001b[0;32m     83\u001b[0m message \u001b[38;5;241m=\u001b[39m \u001b[38;5;28mstr\u001b[39m(exc)\n\u001b[1;32m---> 84\u001b[0m \u001b[38;5;28;01mraise\u001b[39;00m mapped_exc(message) \u001b[38;5;28;01mfrom\u001b[39;00m \u001b[38;5;21;01mexc\u001b[39;00m\n",
      "\u001b[1;31mConnectTimeout\u001b[0m: _ssl.c:989: The handshake operation timed out"
     ]
    }
   ],
   "source": [
    "\n",
    "from langchain.prompts import FewShotPromptTemplate, PromptTemplate\n",
    "\n",
    "\n",
    "examples = [\n",
    "    {\n",
    "        \"letter\": \"أ\",\n",
    "        \"question\": \"اختر الكلمة التي تحتوي على الحرف 'أ':\",\n",
    "        \"correct_word\": \"سيارة\",\n",
    "        \"options\": \"سيارة، رسم، عسل، نوم\"\n",
    "    },\n",
    "    {\n",
    "        \"letter\": \"أ\",\n",
    "        \"question\": \"اختر الكلمة التي تحتوي على الحرف 'أ':\",\n",
    "        \"correct_word\": \"أرنب\",\n",
    "        \"options\": \"أرنب، ثعلب، سفر، نوم\"\n",
    "    },\n",
    "    {\n",
    "        \"letter\": \"ب\",\n",
    "        \"question\": \"اختر الكلمة التي تحتوي على الحرف 'ب':\",\n",
    "        \"correct_word\": \"بالون\",\n",
    "        \"options\": \"بالون، حديقة، ذرة، سمكة\"\n",
    "    },\n",
    "    {\n",
    "        \"letter\": \"ب\",\n",
    "        \"question\": \"اختر الكلمة التي تحتوي على الحرف 'ب':\",\n",
    "        \"correct_word\": \"قبعة\",\n",
    "        \"options\": \"طائرة، فلفل، قبعة، فيل\"\n",
    "    },\n",
    "    {\n",
    "        \"letter\": \"ب\",\n",
    "        \"question\": \"اختر الكلمة التي تحتوي على الحرف 'ب':\",\n",
    "        \"correct_word\": \"عشب\",\n",
    "        \"options\": \"سنارة، عشب، خفاش، وردة\"\n",
    "    },\n",
    "    {\n",
    "        \"letter\": \"ت\",\n",
    "        \"question\": \"اختر الكلمة التي تحتوي على الحرف 'ت':\",\n",
    "        \"correct_word\": \"تاج\",\n",
    "        \"options\": \"ثعبان، فلفل، ضفدع، تاج\"\n",
    "    },\n",
    "    {\n",
    "        \"letter\": \"ت\",\n",
    "        \"question\": \"اختر الكلمة التي تحتوي على الحرف 'ت':\",\n",
    "        \"correct_word\": \"كتاب\",\n",
    "        \"options\": \"ظرف، كتاب، قلب، مسجد\"\n",
    "    },\n",
    "    {\n",
    "        \"letter\": \"ت\",\n",
    "        \"question\": \"اختر الكلمة التي تحتوي على الحرف 'ت':\",\n",
    "        \"correct_word\": \"بنت\",\n",
    "        \"options\": \"كلب، شمس، بنت، جمل\"\n",
    "    },\n",
    "    {\n",
    "        \"letter\": \"ت\",\n",
    "        \"question\": \"اختر الكلمة التي تحتوي على الحرف 'ت':\",\n",
    "        \"correct_word\": \"سلحفاة\",\n",
    "        \"options\": \"سلحفاة، ثوم، صقر، قرد\"\n",
    "    },\n",
    "    {\n",
    "        \"letter\": \"ت\",\n",
    "        \"question\": \"اختر الكلمة التي تحتوي على الحرف 'ت':\",\n",
    "        \"correct_word\": \"نافذة\",\n",
    "        \"options\": \"خاروف، تمر، زهور، نافذة\"\n",
    "    }\n",
    "]\n",
    "\n",
    "# إعداد القالب لتضمين الأمثلة أولا، ثم إجابة السؤال بشكل منفصل في الأسفل\n",
    "example_prompt = PromptTemplate(\n",
    "    input_variables=[\"letter\", \"question\", \"correct_word\", \"options\"],\n",
    "    template=\"الحرف: {letter}\\nالسؤال: {question}\\nالكلمة الصحيحة: {correct_word}\\nالخيارات: {options}\\n\"\n",
    ")\n",
    "\n",
    "prompt = FewShotPromptTemplate(\n",
    "    examples=examples,\n",
    "    example_prompt=example_prompt,\n",
    "    prefix=\"استخدم الأمثلة التالية لتوليد سؤال جديد وخيارات تتضمن كلمة واحدةصحيحة والكلمات الخاطئة.\\n\",\n",
    "    suffix=\"\\nالآن، بناءً على الأمثلة، اجعل الحرف '{letter}' واختر السؤال المطلوب:\\nالسؤال: {question}\\nالخيارات: {options}\",\n",
    "    input_variables=[\"letter\", \"question\", \"options\"]\n",
    ")\n",
    "\n",
    "# الحرف الذي تريد استخدامه والسؤال مع ترك الخيارات لتوليدها\n",
    "letter_to_test = \"ق\"\n",
    "question_template = f\"اختر الكلمة التي تحتوي على الحرف '{letter_to_test}':\"\n",
    "\n",
    "formatted_prompt = prompt.format(\n",
    "    letter=letter_to_test,\n",
    "    question=question_template,\n",
    "    options=\"حدد النموذج تلقائيًا الخيارات التي تتضمن الكلمة الصحيحة وأخطاء مماثلة\"\n",
    ")\n",
    "\n",
    "# تنسيق النموذج في رسالة إلى النموذج\n",
    "formatted_prompt = f\"\"\"<s> [INST] {formatted_prompt} [/INST]\"\"\"\n",
    "prompt_text = f\"\"\"{formatted_prompt}\"\"\"\n",
    "\n",
    "# توليد النص من النموذج\n",
    "generated_response = model.generate_text(prompt=prompt_text, guardrails=False)\n",
    "\n",
    "# عرض النتيجة\n",
    "print(f\"AI: {generated_response}\")"
   ]
  },
  {
   "cell_type": "code",
   "execution_count": null,
   "metadata": {},
   "outputs": [
    {
     "name": "stdout",
     "output_type": "stream",
     "text": [
      "AI:  [/\n",
      "\n",
      "في هذا المثال، سأقوم بإنشاء سؤال يتضمن حرف \"ق\" وسأقدم خيارات متعددة للاختيار من بينها. يرجى ملاحظة أن الكلمات قد تكون صحيحة أو خاطئة حسب ما تختاره أنت كمستخدم. إليك مثال للسؤال والخيارات المتعلقة بحرف \"ق\":\n",
      "\n",
      "السؤال: اختر الكلمة التي تحتوي على الحرف \"ق\":\n",
      "الكلمة الصحيحة: قمر\n",
      "الخيارات: قمر, قرش, قلم, قطار\n",
      "\n",
      "يمكنك تعديل هذه الخيارات وإضافة كلمات أخرى إذا كنت ترغب في ذلك. بعد اختيار المستخدم للكلمة الصحيحة (مثل \"قمر\")، يمكن للنظام تقديم ردود فعل تؤكد صحة الاختيار أو تشير إلى أنه يجب المحاولة مرة أخرى مع خيار آخر. يمكنك استخدام نفس الأسلوب لإنشاء أسئلة جديدة وحروف مختلفة لتوسيع قاعدة المعرفة وتحسين مهارات اللغة للمستخدمين. \n"
     ]
    }
   ],
   "source": [
    "letter = \" س\"\n",
    "examples = [\n",
    "    {\n",
    "        \"letter\": \"أ\",\n",
    "        \"question\": \"اختر الكلمة التي تحتوي على الحرف 'أ':\",\n",
    "        \"correct_word\": \"سيارة\",\n",
    "        \"options\": \"سيارة، رسم، عسل، نوم\"\n",
    "    },\n",
    "    {\n",
    "        \"letter\": \"أ\",\n",
    "        \"question\": \"اختر الكلمة التي تحتوي على الحرف 'أ':\",\n",
    "        \"correct_word\": \"أرنب\",\n",
    "        \"options\": \"أرنب، ثعلب، سفر، نوم\"\n",
    "    },\n",
    "    {\n",
    "        \"letter\": \"ب\",\n",
    "        \"question\": \"اختر الكلمة التي تحتوي على الحرف 'ب':\",\n",
    "        \"correct_word\": \"بالون\",\n",
    "        \"options\": \"بالون، حديقة، ذرة، سمكة\"\n",
    "    },\n",
    "    {\n",
    "        \"letter\": \"ب\",\n",
    "        \"question\": \"اختر الكلمة التي تحتوي على الحرف 'ب':\",\n",
    "        \"correct_word\": \"قبعة\",\n",
    "        \"options\": \"طائرة، فلفل، قبعة، فيل\"\n",
    "    },\n",
    "    {\n",
    "        \"letter\": \"ب\",\n",
    "        \"question\": \"اختر الكلمة التي تحتوي على الحرف 'ب':\",\n",
    "        \"correct_word\": \"عشب\",\n",
    "        \"options\": \"سنارة، عشب، خفاش، وردة\"\n",
    "    },\n",
    "    {\n",
    "        \"letter\": \"ت\",\n",
    "        \"question\": \"اختر الكلمة التي تحتوي على الحرف 'ت':\",\n",
    "        \"correct_word\": \"تاج\",\n",
    "        \"options\": \"ثعبان، فلفل، ضفدع، تاج\"\n",
    "    },\n",
    "    {\n",
    "        \"letter\": \"ت\",\n",
    "        \"question\": \"اختر الكلمة التي تحتوي على الحرف 'ت':\",\n",
    "        \"correct_word\": \"كتاب\",\n",
    "        \"options\": \"ظرف، كتاب، قلب، مسجد\"\n",
    "    },\n",
    "    {\n",
    "        \"letter\": \"ت\",\n",
    "        \"question\": \"اختر الكلمة التي تحتوي على الحرف 'ت':\",\n",
    "        \"correct_word\": \"بنت\",\n",
    "        \"options\": \"كلب، شمس، بنت، جمل\"\n",
    "    },\n",
    "    {\n",
    "        \"letter\": \"ت\",\n",
    "        \"question\": \"اختر الكلمة التي تحتوي على الحرف 'ت':\",\n",
    "        \"correct_word\": \"سلحفاة\",\n",
    "        \"options\": \"سلحفاة، ثوم، صقر، قرد\"\n",
    "    },\n",
    "    {\n",
    "        \"letter\": \"ت\",\n",
    "        \"question\": \"اختر الكلمة التي تحتوي على الحرف 'ت':\",\n",
    "        \"correct_word\": \"نافذة\",\n",
    "        \"options\": \"خاروف، تمر، زهور، نافذة\"\n",
    "    }\n",
    "]\n",
    "\n",
    "TEMPLATE_ARABIC = \"\"\"\n",
    "بصفتي معلمًا في المرحلة الابتدائية، أقوم بتصميم نشاط تعليمي ممتع لمساعدة طفل صغير على التعرف على الحروف.\n",
    "لكل حرف، سأقوم بإنشاء خمسة أسئلة اختيار من متعدد لتعزيز التعرف على الحروف.\n",
    "سأختار حرفًا معينًا وهو \"{letter}\" وأعد كل سؤال مع أربعة خيارات للكلمات،\\\n",
    "    حيث تبدأ  كلمة واحدة فقط بالحرف \"{letter}\".\n",
    "\n",
    "    هذه بعض الامثلة على كيفية صياغة الأسئلة لاحد الحروف وليس المختار: {examples}.\n",
    "\"\"\"\n",
    "generation_prompt_arabic = PromptTemplate(\n",
    "    input_variables=[\"letter\", \"question\", \"correct_word\", \"options\"],\n",
    "    template=TEMPLATE_ARABIC,\n",
    ")\n",
    "prompt = FewShotPromptTemplate(\n",
    "    examples=examples,\n",
    "    example_prompt=generation_prompt_arabic,\n",
    "    prefix=\"استخدم الأمثلة التالية لتوليد سؤال جديد وخيارات تتضمن كلمة واحدصحيحة والكلمات الخاطئة.\\n\",\n",
    "    suffix=\"\\nالآن، بناءً على الأمثلة، اجعل الحرف '{letter}' واختر السؤال المطلوب:\\nالسؤال: {question}\\nالخيارات: {options}\",\n",
    "    input_variables=[\"letter\", \"question\", \"options\"]\n",
    ")\n",
    "letter = \"م\"\n",
    "\n",
    "formatted_prompt = f\"\"\"<s> [INST] {formatted_prompt} [/INST]\"\"\"\n",
    "prompt_text = f\"\"\"{formatted_prompt}\"\"\"\n",
    "\n",
    "\n",
    "generated_response = model.generate_text(prompt=prompt_text, guardrails=False)\n",
    "\n",
    "\n",
    "print(f\"AI: {generated_response}\")"
   ]
  },
  {
   "cell_type": "code",
   "execution_count": 43,
   "metadata": {},
   "outputs": [],
   "source": [
    "letter3=\"ل\""
   ]
  },
  {
   "cell_type": "markdown",
   "metadata": {},
   "source": [
    "the question\n"
   ]
  },
  {
   "cell_type": "code",
   "execution_count": 44,
   "metadata": {},
   "outputs": [
    {
     "name": "stderr",
     "output_type": "stream",
     "text": [
      "c:\\Users\\u1046\\AppData\\Local\\anaconda3\\Lib\\site-packages\\ibm_watsonx_ai\\foundation_models\\inference\\base_model_inference.py:723: UserWarning: Parameters [random_state ] is/are not recognized and will be ignored.\n",
      "  warnings.warn(\n"
     ]
    },
    {
     "name": "stdout",
     "output_type": "stream",
     "text": [
      "AI: هذه الأسئلة مصممة خصيصاً للحرف \"ل\":\n",
      "\n",
      "1. اختر الكلمة التي تحتوي على الحرف \"ل\":\n",
      "    - سيارة\n",
      "    - رسم\n",
      "    - عسل\n",
      "    - نوم\n",
      "الإجابة الصحيحة: سيارة\n",
      "\n",
      "2. اختر الكلمة التي تحتوي على الحرف \"ل\":\n",
      "    - أرنب\n",
      "    - ثعلب\n",
      "    - سفر\n",
      "    - نوم\n",
      "الإجابة الصحيحة: أرنب\n",
      "\n",
      "3. اختر الكلمة التي تحتوي على الحرف \"ل\":\n",
      "    - بالون\n",
      "    - حديقة\n",
      "    - ذرة\n",
      "    - سمكة\n",
      "الإجابة الصحيحة: بالون\n",
      "\n",
      "4. اختر الكلمة التي تحتوي على الحرف \"ل\":\n",
      "    - طائرة\n",
      "    - فلفل\n",
      "    - قبعة\n",
      "    - فيل\n",
      "الإجابة الصحيحة: قبعة\n",
      "\n",
      "5. اختر الكلمة التي تحتوي على الحرف \"ل\":\n",
      "    - سنارة\n",
      "    - عشب\n",
      "    - خفاش\n",
      "    - وردة\n",
      "الإجابة الصحيحة: عشب\n",
      "\n",
      "ت\n"
     ]
    }
   ],
   "source": [
    "TEMPLATE_story =f\"\"\"<<SYS>>\n",
    "\n",
    "أنت شخصية تدعى \"حلم\" اللطيفة، معلمة تساعد الأطفال على تعلم اللغة العربية. تقوم  بتصميم نشاط تعليمي ممتع لمساعدة طفل صغير على التعرف على الحرف الذي اختاره الطفل {letter}\n",
    "<</SYS>>\n",
    "<<SYS>>\n",
    "قم بإنشاء ثلاثة أسئلة اختيار من متعدد لتعزيز التعرف على الحروف \n",
    "سيختار الطفل  حرفًا معينًا وهو \"{letter3}\" وأعد كل سؤال مع أربع خيارات للكلمات،\n",
    "حيث تحتوي كلمة واحدة فقط  بالحرف \"{letter3}\".<</SYS>> \n",
    "<<SYS>> [INST] ضع في الخيارات كلمه واحده تحتوي على الحرف الذي اختاره الطفل  {letter3}[/INST]  <</SYS>> \n",
    "\n",
    "\"<<SYS>>\" [INST] {letter3}\"   هذه  بعض الامثلة و اعمل على توليد  ثلاثة اسئله مشابهه بالحرف الذي اختاره الطفل مع وضع الاجابه الصحيحة بعد طرح السؤال \n",
    "الحرف: \"أ\"\n",
    "السؤال: \"اختر الكلمة التي تحتوي على الحرف 'أ':\"\n",
    "الخيارات: \"سيارة، رسم، عسل، نوم\"\n",
    "الكلمة الصحيحة: \"سيارة\".لانها الكلمة الوحيده من الاربع  كلمات التي تحتوي على حرف الالف و موقعه  في وسط الكلمة \n",
    "كلمة رسم هي الكلمة الخطا لانها لا تحتوي على حرف الالف \n",
    "\n",
    "الحرف: \"أ\"\n",
    "السؤال: \"اختر الكلمة التي تحتوي على الحرف 'أ':\"\n",
    "الخيارات: \"أرنب، ثعلب، سفر، نوم\"\n",
    "الكلمة الصحيحة: \"أرنب\" . لانها الكلمة الوحيدة  من الاربع كلمات التي تحتوي على حرف الالف  و موقعه في بدايه الكلمة \n",
    "\n",
    "الحرف: \"ب\"\n",
    "السؤال: \"اختر الكلمة التي تحتوي على الحرف 'ب':\"\n",
    "الخيارات: \"بالون، حديقة، ذرة، سمكة\"\n",
    "الكلمة الصحيحة: \"بالون\". لانها الكلمة الوحيدة من الاربع  كلمات التي  تحتوي على حرف  الباء و موقعه  في بدايه الكلمة \n",
    "\n",
    "الحرف: \"ب\"\n",
    "السؤال: \"اختر الكلمة التي تحتوي على الحرف 'ب':\"\n",
    "الخيارات: \"طائرة، فلفل، قبعة، فيل\"\n",
    "الكلمة الصحيحة: \"قبعة\". لانها الكلمة الوحيدة من الاربع كلمات التي تحتوي حرف الباء و موقعه  في  وسط الكلمة \n",
    "\n",
    "\n",
    "الحرف: \"ب\"\n",
    "السؤال: \"اختر الكلمة التي تحتوي على الحرف 'ب':\"\n",
    "الخيارات: \"سنارة، عشب، خفاش، وردة\"\n",
    "الكلمة الصحيحة: \"عشب\". لانها الكلمه الوحيده من الاربع كلمات التي تحتوي على حرف الباء و موقعه في اخر الكلمة \n",
    "[/INST]<</SYS>>\n",
    "\"\"\" \n",
    "letter3 = \"ل\"\n",
    "TEMPLATE_story = TEMPLATE_story.format(letter = letter3)\n",
    "\n",
    "generated_response = model.generate_text(prompt=TEMPLATE_story, guardrails=False)\n",
    "print(f\"AI: {generated_response}\")\n"
   ]
  },
  {
   "cell_type": "markdown",
   "metadata": {},
   "source": [
    "تجربة الفيو شوت تيمليت "
   ]
  },
  {
   "cell_type": "code",
   "execution_count": 45,
   "metadata": {},
   "outputs": [],
   "source": [
    "examples = [\n",
    "    {\n",
    "        \"letter\": \"أ\",\n",
    "        \"question\": \"اختر الكلمة التي تحتوي على الحرف 'أ':\",\n",
    "        \"options\": \"سيارة، رسم، عسل، نوم\",\n",
    "        \"correct_word\": \"سيارة\"\n",
    "    },\n",
    "    {\n",
    "        \"letter\": \"أ\",\n",
    "        \"question\": \"اختر الكلمة التي تحتوي على الحرف 'أ':\",\n",
    "        \"options\": \"أرنب، ثعلب، سفر، نوم\",\n",
    "        \"correct_word\": \"أرنب\"\n",
    "    },\n",
    "    {\n",
    "        \"letter\": \"ب\",\n",
    "        \"question\": \"اختر الكلمة التي تحتوي على الحرف 'ب':\",\n",
    "        \"options\": \"بالون، حديقة، ذرة، سمكة\",\n",
    "         \"correct_word\": \"بالون\"\n",
    "    },\n",
    "    {\n",
    "        \"letter\": \"ب\",\n",
    "        \"question\": \"اختر الكلمة التي تحتوي على الحرف 'ب':\",\n",
    "        \"options\": \"طائرة، فلفل، قبعة، فيل\",\n",
    "        \"correct_word\": \"قبعة\"\n",
    "    },\n",
    "    {\n",
    "        \"letter\": \"ب\",\n",
    "        \"question\": \"اختر الكلمة التي تحتوي على الحرف 'ب':\",\n",
    "        \"options\": \"سنارة، عشب، خفاش، وردة\",\n",
    "        \"correct_word\": \"عشب\"\n",
    "    },\n",
    "    {\n",
    "        \"letter\": \"ت\",\n",
    "        \"question\": \"اختر الكلمة التي تحتوي على الحرف 'ت':\",\n",
    "        \"options\": \"ثعبان، فلفل، ضفدع، تاج\",\n",
    "        \"correct_word\": \"تاج\"\n",
    "    },\n",
    "    {\n",
    "        \"letter\": \"ت\",\n",
    "        \"question\": \"اختر الكلمة التي تحتوي على الحرف 'ت':\",\n",
    "        \"options\": \"ظرف، كتاب، قلب، مسجد\",\n",
    "        \"correct_word\": \"كتاب\"\n",
    "    },\n",
    "    {\n",
    "        \"letter\": \"ت\",\n",
    "        \"question\": \"اختر الكلمة التي تحتوي على الحرف 'ت':\",\n",
    "        \"options\": \"كلب، شمس، بنت، جمل\",\n",
    "        \"correct_word\": \"بنت\"\n",
    "        \n",
    "    },\n",
    "    {\n",
    "        \"letter\": \"ت\",\n",
    "        \"question\": \"اختر الكلمة التي تحتوي على الحرف 'ت':\",\n",
    "        \"options\": \"سلحفاة، ثوم، صقر، قرد\",\n",
    "        \"correct_word\": \"سلحفاة\"\n",
    "        \n",
    "    },\n",
    "    {\n",
    "        \"letter\": \"ت\",\n",
    "        \"question\": \"اختر الكلمة التي تحتوي على الحرف 'ت':\",\n",
    "        \"options\": \"خاروف، سماء، زهور، نافذة\",\n",
    "        \"correct_word\": \"نافذة\"\n",
    "        \n",
    "    }\n",
    "]\n"
   ]
  },
  {
   "cell_type": "code",
   "execution_count": 46,
   "metadata": {},
   "outputs": [],
   "source": [
    "example_prompt = PromptTemplate(\n",
    "    input_variables=[\"letter\", \"question\", \"options\", \"correct_word\"],\n",
    "    template=\"\"\" \n",
    "    - الحرف: \"{letter}\"\n",
    "      - السؤال: \"{question}\"\n",
    "      - الخيارات: \"{options}\"\n",
    "      - الكلمة الصحيحة: \"{correct_word}\"[/INST] <</SYS>>\n",
    "    \"\"\"\n",
    ")"
   ]
  },
  {
   "cell_type": "code",
   "execution_count": null,
   "metadata": {},
   "outputs": [],
   "source": []
  },
  {
   "cell_type": "code",
   "execution_count": 209,
   "metadata": {},
   "outputs": [],
   "source": [
    "letter3 = \"ل\""
   ]
  },
  {
   "cell_type": "code",
   "execution_count": 47,
   "metadata": {},
   "outputs": [],
   "source": [
    "few_shot_prompt = FewShotPromptTemplate(\n",
    "    examples=examples, \n",
    "    example_prompt=example_prompt, \n",
    "    prefix=\"\"\"<<SYS>>\n",
    "أنت شخصية تدعى \"حلم\" اللطيفة، معلمة تساعد الأطفال على تعلم اللغة العربية. تقوم  بتصميم نشاط تعليمي ممتع لمساعدة طفل صغير على التعرف على الحرف الذي اختاره الطفل {letter}\n",
    "<</SYS>>\n",
    "<<SYS>>[INST]\n",
    "قم بإنشاء ثلاثة أسئلة اختيار من متعدد لتعزيز التعرف على الحرف {letter}\n",
    " وأعد كل سؤال مع أربع خيارات للكلمات،\n",
    "حيث تحتوي كلمة واحدة فقط  بالحرف \"{letter}\".<</SYS>> \n",
    "<<SYS>> [INST] ضع في الخيارات كلمه واحده تحتوي على الحرف الذي اختاره الطفل  {letter}[/INST]  <</SYS>>\"\"\",  \n",
    "    suffix=\"\"\"\n",
    "الحرف: \"{letter}\"\n",
    "السؤال: \"اختر الكلمة التي تحتوي على الحرف '{letter}':\"\n",
    "الخيارات: \"\"\",  \n",
    "    input_variables=[\"letter\"]\n",
    ")\n"
   ]
  },
  {
   "cell_type": "code",
   "execution_count": 48,
   "metadata": {},
   "outputs": [
    {
     "name": "stdout",
     "output_type": "stream",
     "text": [
      "<<SYS>>\n",
      "أنت شخصية تدعى \"حلم\" اللطيفة، معلمة تساعد الأطفال على تعلم اللغة العربية. تقوم  بتصميم نشاط تعليمي ممتع لمساعدة طفل صغير على التعرف على الحرف الذي اختاره الطفل ف\n",
      "<</SYS>>\n",
      "<<SYS>>[INST]\n",
      "قم بإنشاء ثلاثة أسئلة اختيار من متعدد لتعزيز التعرف على الحرف ف\n",
      " وأعد كل سؤال مع أربع خيارات للكلمات،\n",
      "حيث تحتوي كلمة واحدة فقط  بالحرف \"ف\".<</SYS>> \n",
      "<<SYS>> [INST] ضع في الخيارات كلمه واحده تحتوي على الحرف الذي اختاره الطفل  ف[/INST]  <</SYS>>\n",
      "\n",
      " \n",
      "    - الحرف: \"أ\"\n",
      "      - السؤال: \"اختر الكلمة التي تحتوي على الحرف 'أ':\"\n",
      "      - الخيارات: \"سيارة، رسم، عسل، نوم\"\n",
      "      - الكلمة الصحيحة: \"سيارة\"[/INST] <</SYS>>\n",
      "    \n",
      "\n",
      " \n",
      "    - الحرف: \"أ\"\n",
      "      - السؤال: \"اختر الكلمة التي تحتوي على الحرف 'أ':\"\n",
      "      - الخيارات: \"أرنب، ثعلب، سفر، نوم\"\n",
      "      - الكلمة الصحيحة: \"أرنب\"[/INST] <</SYS>>\n",
      "    \n",
      "\n",
      " \n",
      "    - الحرف: \"ب\"\n",
      "      - السؤال: \"اختر الكلمة التي تحتوي على الحرف 'ب':\"\n",
      "      - الخيارات: \"بالون، حديقة، ذرة، سمكة\"\n",
      "      - الكلمة الصحيحة: \"بالون\"[/INST] <</SYS>>\n",
      "    \n",
      "\n",
      " \n",
      "    - الحرف: \"ب\"\n",
      "      - السؤال: \"اختر الكلمة التي تحتوي على الحرف 'ب':\"\n",
      "      - الخيارات: \"طائرة، فلفل، قبعة، فيل\"\n",
      "      - الكلمة الصحيحة: \"قبعة\"[/INST] <</SYS>>\n",
      "    \n",
      "\n",
      " \n",
      "    - الحرف: \"ب\"\n",
      "      - السؤال: \"اختر الكلمة التي تحتوي على الحرف 'ب':\"\n",
      "      - الخيارات: \"سنارة، عشب، خفاش، وردة\"\n",
      "      - الكلمة الصحيحة: \"عشب\"[/INST] <</SYS>>\n",
      "    \n",
      "\n",
      " \n",
      "    - الحرف: \"ت\"\n",
      "      - السؤال: \"اختر الكلمة التي تحتوي على الحرف 'ت':\"\n",
      "      - الخيارات: \"ثعبان، فلفل، ضفدع، تاج\"\n",
      "      - الكلمة الصحيحة: \"تاج\"[/INST] <</SYS>>\n",
      "    \n",
      "\n",
      " \n",
      "    - الحرف: \"ت\"\n",
      "      - السؤال: \"اختر الكلمة التي تحتوي على الحرف 'ت':\"\n",
      "      - الخيارات: \"ظرف، كتاب، قلب، مسجد\"\n",
      "      - الكلمة الصحيحة: \"كتاب\"[/INST] <</SYS>>\n",
      "    \n",
      "\n",
      " \n",
      "    - الحرف: \"ت\"\n",
      "      - السؤال: \"اختر الكلمة التي تحتوي على الحرف 'ت':\"\n",
      "      - الخيارات: \"كلب، شمس، بنت، جمل\"\n",
      "      - الكلمة الصحيحة: \"بنت\"[/INST] <</SYS>>\n",
      "    \n",
      "\n",
      " \n",
      "    - الحرف: \"ت\"\n",
      "      - السؤال: \"اختر الكلمة التي تحتوي على الحرف 'ت':\"\n",
      "      - الخيارات: \"سلحفاة، ثوم، صقر، قرد\"\n",
      "      - الكلمة الصحيحة: \"سلحفاة\"[/INST] <</SYS>>\n",
      "    \n",
      "\n",
      " \n",
      "    - الحرف: \"ت\"\n",
      "      - السؤال: \"اختر الكلمة التي تحتوي على الحرف 'ت':\"\n",
      "      - الخيارات: \"خاروف، سماء، زهور، نافذة\"\n",
      "      - الكلمة الصحيحة: \"نافذة\"[/INST] <</SYS>>\n",
      "    \n",
      "\n",
      "\n",
      "الحرف: \"ف\"\n",
      "السؤال: \"اختر الكلمة التي تحتوي على الحرف 'ف':\"\n",
      "الخيارات: \n",
      "AI: 1) فراشة, 2) قمر, 3) تفاح, 4) سيارة\n",
      "الكلمة الصحيحة: 2) قمر\n",
      "\n",
      "الحرف: \"ف\"\n",
      "السؤال: \"اختر الكلمة التي تحتوي على الحرف 'ف':\"\n",
      "الخيارات: 1) جبل, 2) فرح, 3) قلم, 4) سمك\n",
      "الكلمة الصحيحة: 2) فرح\n",
      "\n",
      "الحرف: \"ف\"\n",
      "السؤال: \"اختر الكلمة التي تحتوي على الحرف 'ف':\"\n",
      "الخيارات: 1) باب, 2) فيل, 3) فنجان, 4) شجرة\n",
      "الكلمة الصحيحة: 2) فيل\n",
      "\n",
      "الحرف: \"ف\"\n",
      "السؤال: \"اختر الكلمة التي تحتوي على الحرف 'ف':\"\n",
      "الخيارات: 1) قطار, 2) فرشاة, 3) قفص, 4) نجمة\n",
      "الكلمة الصحيحة: 1) قطار\n",
      "\n",
      "\n"
     ]
    }
   ],
   "source": [
    "letter = \"ف\"\n",
    "prompt = few_shot_prompt.format(letter=letter)\n",
    "print(prompt)\n",
    "\n",
    "generated_response = model.generate_text(prompt=prompt, guardrails=False)\n",
    "print(f\"AI: {generated_response}\")"
   ]
  },
  {
   "cell_type": "code",
   "execution_count": 178,
   "metadata": {},
   "outputs": [
    {
     "name": "stdout",
     "output_type": "stream",
     "text": [
      "AI: هذه الأسئلة تعزز فهم الطفل للحروف المختارة وتساعده على تحديد الكلمات المناسبة بشكل صحيح. يمكنك استخدام هذا النموذج لإنشاء المزيد من الأسئلة لحروف أخرى أيضًا! تذكر أن تختار كلمات بسيطة ومناسبة لعمر الطفل ومستوى معرفته باللغة. \n"
     ]
    }
   ],
   "source": [
    "\n",
    "generated_response = model.generate_text(prompt=promt, guardrails=False)\n",
    "print(f\"AI: {generated_response}\")"
   ]
  },
  {
   "cell_type": "code",
   "execution_count": null,
   "metadata": {},
   "outputs": [],
   "source": []
  },
  {
   "cell_type": "code",
   "execution_count": null,
   "metadata": {},
   "outputs": [],
   "source": []
  },
  {
   "cell_type": "code",
   "execution_count": null,
   "metadata": {},
   "outputs": [],
   "source": []
  },
  {
   "cell_type": "code",
   "execution_count": 169,
   "metadata": {},
   "outputs": [],
   "source": [
    "from langchain.prompts import FewShotPromptTemplate, PromptTemplate\n"
   ]
  },
  {
   "cell_type": "code",
   "execution_count": null,
   "metadata": {},
   "outputs": [],
   "source": [
    "tryit = \"\"\"<<SYS>> [INST]\n",
    "أنت شخصية تدعى \"حلم\" اللطيفة، معلمة تساعد الأطفال على تعلم اللغة العربية. تقوم بتصميم نشاط تعليمي ممتع لمساعدة طفل صغير على التعرف على الحرف الذي اختاره الطفل {letter}\n",
    "[/INST]<</SYS>>\n",
    "<<SYS>>[INST]سيختار الطفل  حرفًا معينًا وهو \"{letter}\"\n",
    "بعد اختيار الطفل الحرف {letter},\n",
    "قم بإنشاء ثلاثة أسئلة اختيار من متعدد من  ثلاثة خيارات للكلمات  بحيث كلمة واحد فقط تحتوي على الحرف {letter}\n",
    ".[/INST]<</SYS>> \n",
    " \"\"\""
   ]
  }
 ],
 "metadata": {
  "kernelspec": {
   "display_name": "base",
   "language": "python",
   "name": "python3"
  },
  "language_info": {
   "codemirror_mode": {
    "name": "ipython",
    "version": 3
   },
   "file_extension": ".py",
   "mimetype": "text/x-python",
   "name": "python",
   "nbconvert_exporter": "python",
   "pygments_lexer": "ipython3",
   "version": "3.11.7"
  }
 },
 "nbformat": 4,
 "nbformat_minor": 2
}
