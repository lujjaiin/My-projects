{
 "cells": [
  {
   "cell_type": "markdown",
   "id": "796d0f75",
   "metadata": {},
   "source": [
    "# Course Title: Sentiment Analysis of Big Data ."
   ]
  },
  {
   "cell_type": "markdown",
   "id": "16ef7301",
   "metadata": {},
   "source": [
    "#  Project Title : Sentimental Analysis for Tweets .\n",
    "\n"
   ]
  },
  {
   "cell_type": "markdown",
   "id": "36f2c405",
   "metadata": {},
   "source": [
    "Lujain Asfour - \n",
    "Layan Hyasat  -\n",
    "Sadeen Assad  -\n",
    "Majd Nashat  "
   ]
  },
  {
   "cell_type": "markdown",
   "id": "196ea980",
   "metadata": {},
   "source": [
    "# IMPORTING NECESSARY LIBRARIES"
   ]
  },
  {
   "cell_type": "code",
   "execution_count": 115,
   "id": "0c946aa1",
   "metadata": {},
   "outputs": [],
   "source": [
    "import pandas as pd\n",
    "import numpy as np\n",
    "import matplotlib.pyplot as plt\n",
    "import matplotlib as mpl\n",
    "import seaborn as sns\n",
    "import nltk\n",
    "import string\n",
    "from nltk.tokenize import word_tokenize"
   ]
  },
  {
   "cell_type": "code",
   "execution_count": 116,
   "id": "a354be3a",
   "metadata": {},
   "outputs": [],
   "source": [
    "dataset = pd.read_csv(\"sentiment_tweets3.csv\")\n"
   ]
  },
  {
   "cell_type": "code",
   "execution_count": 117,
   "id": "ab43ad07",
   "metadata": {},
   "outputs": [
    {
     "data": {
      "text/html": [
       "<div>\n",
       "<style scoped>\n",
       "    .dataframe tbody tr th:only-of-type {\n",
       "        vertical-align: middle;\n",
       "    }\n",
       "\n",
       "    .dataframe tbody tr th {\n",
       "        vertical-align: top;\n",
       "    }\n",
       "\n",
       "    .dataframe thead th {\n",
       "        text-align: right;\n",
       "    }\n",
       "</style>\n",
       "<table border=\"1\" class=\"dataframe\">\n",
       "  <thead>\n",
       "    <tr style=\"text-align: right;\">\n",
       "      <th></th>\n",
       "      <th>Index</th>\n",
       "      <th>message to examine</th>\n",
       "      <th>label (depression result)</th>\n",
       "    </tr>\n",
       "  </thead>\n",
       "  <tbody>\n",
       "    <tr>\n",
       "      <th>0</th>\n",
       "      <td>106</td>\n",
       "      <td>just had a real good moment. i missssssssss hi...</td>\n",
       "      <td>0</td>\n",
       "    </tr>\n",
       "    <tr>\n",
       "      <th>1</th>\n",
       "      <td>217</td>\n",
       "      <td>is reading manga  http://plurk.com/p/mzp1e</td>\n",
       "      <td>0</td>\n",
       "    </tr>\n",
       "    <tr>\n",
       "      <th>2</th>\n",
       "      <td>220</td>\n",
       "      <td>@comeagainjen http://twitpic.com/2y2lx - http:...</td>\n",
       "      <td>0</td>\n",
       "    </tr>\n",
       "    <tr>\n",
       "      <th>3</th>\n",
       "      <td>288</td>\n",
       "      <td>@lapcat Need to send 'em to my accountant tomo...</td>\n",
       "      <td>0</td>\n",
       "    </tr>\n",
       "    <tr>\n",
       "      <th>4</th>\n",
       "      <td>540</td>\n",
       "      <td>ADD ME ON MYSPACE!!!  myspace.com/LookThunder</td>\n",
       "      <td>0</td>\n",
       "    </tr>\n",
       "    <tr>\n",
       "      <th>...</th>\n",
       "      <td>...</td>\n",
       "      <td>...</td>\n",
       "      <td>...</td>\n",
       "    </tr>\n",
       "    <tr>\n",
       "      <th>10309</th>\n",
       "      <td>802309</td>\n",
       "      <td>No Depression by G Herbo is my mood from now o...</td>\n",
       "      <td>1</td>\n",
       "    </tr>\n",
       "    <tr>\n",
       "      <th>10310</th>\n",
       "      <td>802310</td>\n",
       "      <td>What do you do when depression succumbs the br...</td>\n",
       "      <td>1</td>\n",
       "    </tr>\n",
       "    <tr>\n",
       "      <th>10311</th>\n",
       "      <td>802311</td>\n",
       "      <td>Ketamine Nasal Spray Shows Promise Against Dep...</td>\n",
       "      <td>1</td>\n",
       "    </tr>\n",
       "    <tr>\n",
       "      <th>10312</th>\n",
       "      <td>802312</td>\n",
       "      <td>dont mistake a bad day with depression! everyo...</td>\n",
       "      <td>1</td>\n",
       "    </tr>\n",
       "    <tr>\n",
       "      <th>10313</th>\n",
       "      <td>802313</td>\n",
       "      <td>0</td>\n",
       "      <td>1</td>\n",
       "    </tr>\n",
       "  </tbody>\n",
       "</table>\n",
       "<p>10314 rows × 3 columns</p>\n",
       "</div>"
      ],
      "text/plain": [
       "        Index                                 message to examine  \\\n",
       "0         106  just had a real good moment. i missssssssss hi...   \n",
       "1         217         is reading manga  http://plurk.com/p/mzp1e   \n",
       "2         220  @comeagainjen http://twitpic.com/2y2lx - http:...   \n",
       "3         288  @lapcat Need to send 'em to my accountant tomo...   \n",
       "4         540      ADD ME ON MYSPACE!!!  myspace.com/LookThunder   \n",
       "...       ...                                                ...   \n",
       "10309  802309  No Depression by G Herbo is my mood from now o...   \n",
       "10310  802310  What do you do when depression succumbs the br...   \n",
       "10311  802311  Ketamine Nasal Spray Shows Promise Against Dep...   \n",
       "10312  802312  dont mistake a bad day with depression! everyo...   \n",
       "10313  802313                                                  0   \n",
       "\n",
       "       label (depression result)  \n",
       "0                              0  \n",
       "1                              0  \n",
       "2                              0  \n",
       "3                              0  \n",
       "4                              0  \n",
       "...                          ...  \n",
       "10309                          1  \n",
       "10310                          1  \n",
       "10311                          1  \n",
       "10312                          1  \n",
       "10313                          1  \n",
       "\n",
       "[10314 rows x 3 columns]"
      ]
     },
     "execution_count": 117,
     "metadata": {},
     "output_type": "execute_result"
    }
   ],
   "source": [
    "dataset"
   ]
  },
  {
   "cell_type": "code",
   "execution_count": 118,
   "id": "43adb4f0",
   "metadata": {},
   "outputs": [
    {
     "data": {
      "text/html": [
       "<div>\n",
       "<style scoped>\n",
       "    .dataframe tbody tr th:only-of-type {\n",
       "        vertical-align: middle;\n",
       "    }\n",
       "\n",
       "    .dataframe tbody tr th {\n",
       "        vertical-align: top;\n",
       "    }\n",
       "\n",
       "    .dataframe thead th {\n",
       "        text-align: right;\n",
       "    }\n",
       "</style>\n",
       "<table border=\"1\" class=\"dataframe\">\n",
       "  <thead>\n",
       "    <tr style=\"text-align: right;\">\n",
       "      <th></th>\n",
       "      <th>Index</th>\n",
       "      <th>text</th>\n",
       "      <th>Category</th>\n",
       "    </tr>\n",
       "  </thead>\n",
       "  <tbody>\n",
       "    <tr>\n",
       "      <th>0</th>\n",
       "      <td>106</td>\n",
       "      <td>just had a real good moment. i missssssssss hi...</td>\n",
       "      <td>0</td>\n",
       "    </tr>\n",
       "    <tr>\n",
       "      <th>1</th>\n",
       "      <td>217</td>\n",
       "      <td>is reading manga  http://plurk.com/p/mzp1e</td>\n",
       "      <td>0</td>\n",
       "    </tr>\n",
       "    <tr>\n",
       "      <th>2</th>\n",
       "      <td>220</td>\n",
       "      <td>@comeagainjen http://twitpic.com/2y2lx - http:...</td>\n",
       "      <td>0</td>\n",
       "    </tr>\n",
       "    <tr>\n",
       "      <th>3</th>\n",
       "      <td>288</td>\n",
       "      <td>@lapcat Need to send 'em to my accountant tomo...</td>\n",
       "      <td>0</td>\n",
       "    </tr>\n",
       "    <tr>\n",
       "      <th>4</th>\n",
       "      <td>540</td>\n",
       "      <td>ADD ME ON MYSPACE!!!  myspace.com/LookThunder</td>\n",
       "      <td>0</td>\n",
       "    </tr>\n",
       "    <tr>\n",
       "      <th>...</th>\n",
       "      <td>...</td>\n",
       "      <td>...</td>\n",
       "      <td>...</td>\n",
       "    </tr>\n",
       "    <tr>\n",
       "      <th>10309</th>\n",
       "      <td>802309</td>\n",
       "      <td>No Depression by G Herbo is my mood from now o...</td>\n",
       "      <td>1</td>\n",
       "    </tr>\n",
       "    <tr>\n",
       "      <th>10310</th>\n",
       "      <td>802310</td>\n",
       "      <td>What do you do when depression succumbs the br...</td>\n",
       "      <td>1</td>\n",
       "    </tr>\n",
       "    <tr>\n",
       "      <th>10311</th>\n",
       "      <td>802311</td>\n",
       "      <td>Ketamine Nasal Spray Shows Promise Against Dep...</td>\n",
       "      <td>1</td>\n",
       "    </tr>\n",
       "    <tr>\n",
       "      <th>10312</th>\n",
       "      <td>802312</td>\n",
       "      <td>dont mistake a bad day with depression! everyo...</td>\n",
       "      <td>1</td>\n",
       "    </tr>\n",
       "    <tr>\n",
       "      <th>10313</th>\n",
       "      <td>802313</td>\n",
       "      <td>0</td>\n",
       "      <td>1</td>\n",
       "    </tr>\n",
       "  </tbody>\n",
       "</table>\n",
       "<p>10314 rows × 3 columns</p>\n",
       "</div>"
      ],
      "text/plain": [
       "        Index                                               text  Category\n",
       "0         106  just had a real good moment. i missssssssss hi...         0\n",
       "1         217         is reading manga  http://plurk.com/p/mzp1e         0\n",
       "2         220  @comeagainjen http://twitpic.com/2y2lx - http:...         0\n",
       "3         288  @lapcat Need to send 'em to my accountant tomo...         0\n",
       "4         540      ADD ME ON MYSPACE!!!  myspace.com/LookThunder         0\n",
       "...       ...                                                ...       ...\n",
       "10309  802309  No Depression by G Herbo is my mood from now o...         1\n",
       "10310  802310  What do you do when depression succumbs the br...         1\n",
       "10311  802311  Ketamine Nasal Spray Shows Promise Against Dep...         1\n",
       "10312  802312  dont mistake a bad day with depression! everyo...         1\n",
       "10313  802313                                                  0         1\n",
       "\n",
       "[10314 rows x 3 columns]"
      ]
     },
     "execution_count": 118,
     "metadata": {},
     "output_type": "execute_result"
    }
   ],
   "source": [
    "dataset= dataset.rename(columns = {\"message to examine\":\"text\", \"label (depression result)\" :\"Category\" })\n",
    "dataset"
   ]
  },
  {
   "cell_type": "markdown",
   "id": "91eb4797",
   "metadata": {},
   "source": [
    "# Data Preprocessing"
   ]
  },
  {
   "cell_type": "code",
   "execution_count": 158,
   "id": "88d347b5",
   "metadata": {},
   "outputs": [
    {
     "data": {
      "text/html": [
       "<div>\n",
       "<style scoped>\n",
       "    .dataframe tbody tr th:only-of-type {\n",
       "        vertical-align: middle;\n",
       "    }\n",
       "\n",
       "    .dataframe tbody tr th {\n",
       "        vertical-align: top;\n",
       "    }\n",
       "\n",
       "    .dataframe thead th {\n",
       "        text-align: right;\n",
       "    }\n",
       "</style>\n",
       "<table border=\"1\" class=\"dataframe\">\n",
       "  <thead>\n",
       "    <tr style=\"text-align: right;\">\n",
       "      <th></th>\n",
       "      <th>text</th>\n",
       "      <th>Category</th>\n",
       "    </tr>\n",
       "  </thead>\n",
       "  <tbody>\n",
       "    <tr>\n",
       "      <th>0</th>\n",
       "      <td>just had a real good moment. i missssssssss hi...</td>\n",
       "      <td>Not Depressed</td>\n",
       "    </tr>\n",
       "    <tr>\n",
       "      <th>1</th>\n",
       "      <td>is reading manga  http://plurk.com/p/mzp1e</td>\n",
       "      <td>Not Depressed</td>\n",
       "    </tr>\n",
       "    <tr>\n",
       "      <th>2</th>\n",
       "      <td>@comeagainjen http://twitpic.com/2y2lx - http:...</td>\n",
       "      <td>Not Depressed</td>\n",
       "    </tr>\n",
       "    <tr>\n",
       "      <th>3</th>\n",
       "      <td>@lapcat Need to send 'em to my accountant tomo...</td>\n",
       "      <td>Not Depressed</td>\n",
       "    </tr>\n",
       "    <tr>\n",
       "      <th>4</th>\n",
       "      <td>ADD ME ON MYSPACE!!!  myspace.com/LookThunder</td>\n",
       "      <td>Not Depressed</td>\n",
       "    </tr>\n",
       "    <tr>\n",
       "      <th>...</th>\n",
       "      <td>...</td>\n",
       "      <td>...</td>\n",
       "    </tr>\n",
       "    <tr>\n",
       "      <th>10308</th>\n",
       "      <td>Many sufferers of depression aren't sad; they ...</td>\n",
       "      <td>Depressed</td>\n",
       "    </tr>\n",
       "    <tr>\n",
       "      <th>10309</th>\n",
       "      <td>No Depression by G Herbo is my mood from now o...</td>\n",
       "      <td>Depressed</td>\n",
       "    </tr>\n",
       "    <tr>\n",
       "      <th>10310</th>\n",
       "      <td>What do you do when depression succumbs the br...</td>\n",
       "      <td>Depressed</td>\n",
       "    </tr>\n",
       "    <tr>\n",
       "      <th>10311</th>\n",
       "      <td>Ketamine Nasal Spray Shows Promise Against Dep...</td>\n",
       "      <td>Depressed</td>\n",
       "    </tr>\n",
       "    <tr>\n",
       "      <th>10312</th>\n",
       "      <td>dont mistake a bad day with depression! everyo...</td>\n",
       "      <td>Depressed</td>\n",
       "    </tr>\n",
       "  </tbody>\n",
       "</table>\n",
       "<p>10282 rows × 2 columns</p>\n",
       "</div>"
      ],
      "text/plain": [
       "                                                    text       Category\n",
       "0      just had a real good moment. i missssssssss hi...  Not Depressed\n",
       "1             is reading manga  http://plurk.com/p/mzp1e  Not Depressed\n",
       "2      @comeagainjen http://twitpic.com/2y2lx - http:...  Not Depressed\n",
       "3      @lapcat Need to send 'em to my accountant tomo...  Not Depressed\n",
       "4          ADD ME ON MYSPACE!!!  myspace.com/LookThunder  Not Depressed\n",
       "...                                                  ...            ...\n",
       "10308  Many sufferers of depression aren't sad; they ...      Depressed\n",
       "10309  No Depression by G Herbo is my mood from now o...      Depressed\n",
       "10310  What do you do when depression succumbs the br...      Depressed\n",
       "10311  Ketamine Nasal Spray Shows Promise Against Dep...      Depressed\n",
       "10312  dont mistake a bad day with depression! everyo...      Depressed\n",
       "\n",
       "[10282 rows x 2 columns]"
      ]
     },
     "execution_count": 158,
     "metadata": {},
     "output_type": "execute_result"
    }
   ],
   "source": [
    "dataset = dataset[[\"text\", \"Category\"]]\n",
    "dataset"
   ]
  },
  {
   "cell_type": "code",
   "execution_count": 159,
   "id": "661f9dd3",
   "metadata": {},
   "outputs": [
    {
     "name": "stdout",
     "output_type": "stream",
     "text": [
      "the number of row :  10282\n",
      "the number of column :  2\n"
     ]
    }
   ],
   "source": [
    "dataset.shape\n",
    "print(\"the number of row : \",dataset.shape[0])\n",
    "print(\"the number of column : \",dataset.shape[1])"
   ]
  },
  {
   "cell_type": "code",
   "execution_count": 160,
   "id": "ac1c61d1",
   "metadata": {},
   "outputs": [
    {
     "name": "stdout",
     "output_type": "stream",
     "text": [
      "<class 'pandas.core.frame.DataFrame'>\n",
      "Index: 10282 entries, 0 to 10312\n",
      "Data columns (total 2 columns):\n",
      " #   Column    Non-Null Count  Dtype \n",
      "---  ------    --------------  ----- \n",
      " 0   text      10282 non-null  object\n",
      " 1   Category  10282 non-null  object\n",
      "dtypes: object(2)\n",
      "memory usage: 241.0+ KB\n"
     ]
    }
   ],
   "source": [
    "dataset.info()\n"
   ]
  },
  {
   "cell_type": "code",
   "execution_count": 161,
   "id": "5ac7b002",
   "metadata": {},
   "outputs": [
    {
     "data": {
      "text/plain": [
       "text        0\n",
       "Category    0\n",
       "dtype: int64"
      ]
     },
     "execution_count": 161,
     "metadata": {},
     "output_type": "execute_result"
    }
   ],
   "source": [
    "dataset.isnull().sum()"
   ]
  },
  {
   "cell_type": "code",
   "execution_count": 162,
   "id": "9914711a",
   "metadata": {},
   "outputs": [
    {
     "name": "stdout",
     "output_type": "stream",
     "text": [
      "the number of duplicated values:  0\n"
     ]
    }
   ],
   "source": [
    "dataset.duplicated().sum()\n",
    "print(\"the number of duplicated values: \",dataset.duplicated().sum())"
   ]
  },
  {
   "cell_type": "code",
   "execution_count": 163,
   "id": "48979d03",
   "metadata": {},
   "outputs": [],
   "source": [
    "dataset = dataset.drop_duplicates()"
   ]
  },
  {
   "cell_type": "code",
   "execution_count": 164,
   "id": "e8a6b20a",
   "metadata": {},
   "outputs": [
    {
     "name": "stdout",
     "output_type": "stream",
     "text": [
      "the number of duplicated values:  0\n"
     ]
    }
   ],
   "source": [
    "dataset.duplicated().sum()\n",
    "print(\"the number of duplicated values: \",dataset.duplicated().sum())"
   ]
  },
  {
   "cell_type": "code",
   "execution_count": 165,
   "id": "0284b47a",
   "metadata": {},
   "outputs": [
    {
     "name": "stdout",
     "output_type": "stream",
     "text": [
      "the number of row after removing  duplicated values  :  10282\n",
      "the number of column :  2\n"
     ]
    }
   ],
   "source": [
    "# THE SHAPE AFTER REMOVING DUPLICATE VALUES\n",
    "dataset.shape\n",
    "print(\"the number of row after removing  duplicated values  : \",dataset.shape[0])\n",
    "print(\"the number of column : \",dataset.shape[1])"
   ]
  },
  {
   "cell_type": "code",
   "execution_count": 166,
   "id": "f93d28d4",
   "metadata": {},
   "outputs": [
    {
     "data": {
      "text/plain": [
       "array(['Not Depressed', 'Depressed'], dtype=object)"
      ]
     },
     "execution_count": 166,
     "metadata": {},
     "output_type": "execute_result"
    }
   ],
   "source": [
    "dataset[\"Category\"].unique()"
   ]
  },
  {
   "cell_type": "code",
   "execution_count": 167,
   "id": "d9bba958",
   "metadata": {},
   "outputs": [],
   "source": [
    "dataset['Category'] = dataset['Category'].replace(0,'Not Depressed')\n",
    "dataset['Category'] = dataset['Category'].replace(1,'Depressed')"
   ]
  },
  {
   "cell_type": "code",
   "execution_count": 168,
   "id": "89ebc6f6",
   "metadata": {},
   "outputs": [
    {
     "data": {
      "text/html": [
       "<div>\n",
       "<style scoped>\n",
       "    .dataframe tbody tr th:only-of-type {\n",
       "        vertical-align: middle;\n",
       "    }\n",
       "\n",
       "    .dataframe tbody tr th {\n",
       "        vertical-align: top;\n",
       "    }\n",
       "\n",
       "    .dataframe thead th {\n",
       "        text-align: right;\n",
       "    }\n",
       "</style>\n",
       "<table border=\"1\" class=\"dataframe\">\n",
       "  <thead>\n",
       "    <tr style=\"text-align: right;\">\n",
       "      <th></th>\n",
       "      <th>text</th>\n",
       "      <th>Category</th>\n",
       "    </tr>\n",
       "  </thead>\n",
       "  <tbody>\n",
       "    <tr>\n",
       "      <th>0</th>\n",
       "      <td>just had a real good moment. i missssssssss hi...</td>\n",
       "      <td>Not Depressed</td>\n",
       "    </tr>\n",
       "    <tr>\n",
       "      <th>1</th>\n",
       "      <td>is reading manga  http://plurk.com/p/mzp1e</td>\n",
       "      <td>Not Depressed</td>\n",
       "    </tr>\n",
       "    <tr>\n",
       "      <th>2</th>\n",
       "      <td>@comeagainjen http://twitpic.com/2y2lx - http:...</td>\n",
       "      <td>Not Depressed</td>\n",
       "    </tr>\n",
       "    <tr>\n",
       "      <th>3</th>\n",
       "      <td>@lapcat Need to send 'em to my accountant tomo...</td>\n",
       "      <td>Not Depressed</td>\n",
       "    </tr>\n",
       "    <tr>\n",
       "      <th>4</th>\n",
       "      <td>ADD ME ON MYSPACE!!!  myspace.com/LookThunder</td>\n",
       "      <td>Not Depressed</td>\n",
       "    </tr>\n",
       "    <tr>\n",
       "      <th>...</th>\n",
       "      <td>...</td>\n",
       "      <td>...</td>\n",
       "    </tr>\n",
       "    <tr>\n",
       "      <th>10308</th>\n",
       "      <td>Many sufferers of depression aren't sad; they ...</td>\n",
       "      <td>Depressed</td>\n",
       "    </tr>\n",
       "    <tr>\n",
       "      <th>10309</th>\n",
       "      <td>No Depression by G Herbo is my mood from now o...</td>\n",
       "      <td>Depressed</td>\n",
       "    </tr>\n",
       "    <tr>\n",
       "      <th>10310</th>\n",
       "      <td>What do you do when depression succumbs the br...</td>\n",
       "      <td>Depressed</td>\n",
       "    </tr>\n",
       "    <tr>\n",
       "      <th>10311</th>\n",
       "      <td>Ketamine Nasal Spray Shows Promise Against Dep...</td>\n",
       "      <td>Depressed</td>\n",
       "    </tr>\n",
       "    <tr>\n",
       "      <th>10312</th>\n",
       "      <td>dont mistake a bad day with depression! everyo...</td>\n",
       "      <td>Depressed</td>\n",
       "    </tr>\n",
       "  </tbody>\n",
       "</table>\n",
       "<p>10282 rows × 2 columns</p>\n",
       "</div>"
      ],
      "text/plain": [
       "                                                    text       Category\n",
       "0      just had a real good moment. i missssssssss hi...  Not Depressed\n",
       "1             is reading manga  http://plurk.com/p/mzp1e  Not Depressed\n",
       "2      @comeagainjen http://twitpic.com/2y2lx - http:...  Not Depressed\n",
       "3      @lapcat Need to send 'em to my accountant tomo...  Not Depressed\n",
       "4          ADD ME ON MYSPACE!!!  myspace.com/LookThunder  Not Depressed\n",
       "...                                                  ...            ...\n",
       "10308  Many sufferers of depression aren't sad; they ...      Depressed\n",
       "10309  No Depression by G Herbo is my mood from now o...      Depressed\n",
       "10310  What do you do when depression succumbs the br...      Depressed\n",
       "10311  Ketamine Nasal Spray Shows Promise Against Dep...      Depressed\n",
       "10312  dont mistake a bad day with depression! everyo...      Depressed\n",
       "\n",
       "[10282 rows x 2 columns]"
      ]
     },
     "execution_count": 168,
     "metadata": {},
     "output_type": "execute_result"
    }
   ],
   "source": [
    "dataset"
   ]
  },
  {
   "cell_type": "code",
   "execution_count": 169,
   "id": "954353c2",
   "metadata": {},
   "outputs": [
    {
     "data": {
      "text/plain": [
       "Category\n",
       "Not Depressed    7996\n",
       "Depressed        2286\n",
       "Name: count, dtype: int64"
      ]
     },
     "execution_count": 169,
     "metadata": {},
     "output_type": "execute_result"
    }
   ],
   "source": [
    "dataset[\"Category\"].value_counts()"
   ]
  },
  {
   "cell_type": "code",
   "execution_count": 170,
   "id": "6faa4aeb",
   "metadata": {},
   "outputs": [
    {
     "data": {
      "text/plain": [
       "Text(0.5, 1.0, 'COUNTS OF CATEGORIES OF BEING DEPRESSED OR NOT')"
      ]
     },
     "execution_count": 170,
     "metadata": {},
     "output_type": "execute_result"
    },
    {
     "data": {
      "image/png": "[encoded data removed]",
      "text/plain": [
       "<Figure size 1000x700 with 1 Axes>"
      ]
     },
     "metadata": {},
     "output_type": "display_data"
    }
   ],
   "source": [
    "fig = plt.figure(figsize =(10, 7))\n",
    "plt.barh(dataset[\"Category\"].unique(), dataset[\"Category\"].value_counts(), \n",
    "         color =['grey', 'pink'])\n",
    "plt.title(\"COUNTS OF CATEGORIES OF BEING DEPRESSED OR NOT\")"
   ]
  },
  {
   "cell_type": "markdown",
   "id": "8beb87b6",
   "metadata": {},
   "source": [
    "# Process the text \n"
   ]
  },
  {
   "cell_type": "code",
   "execution_count": 195,
   "id": "7f5f1cab",
   "metadata": {},
   "outputs": [
    {
     "data": {
      "text/plain": [
       "0        just had a real good moment. i missssssssss hi...\n",
       "1               is reading manga  http://plurk.com/p/mzp1e\n",
       "2        @comeagainjen http://twitpic.com/2y2lx - http:...\n",
       "3        @lapcat Need to send 'em to my accountant tomo...\n",
       "4            ADD ME ON MYSPACE!!!  myspace.com/LookThunder\n",
       "                               ...                        \n",
       "10308    Many sufferers of depression aren't sad; they ...\n",
       "10309    No Depression by G Herbo is my mood from now o...\n",
       "10310    What do you do when depression succumbs the br...\n",
       "10311    Ketamine Nasal Spray Shows Promise Against Dep...\n",
       "10312    dont mistake a bad day with depression! everyo...\n",
       "Name: text, Length: 10282, dtype: object"
      ]
     },
     "execution_count": 195,
     "metadata": {},
     "output_type": "execute_result"
    }
   ],
   "source": [
    "dataset['text']"
   ]
  },
  {
   "cell_type": "code",
   "execution_count": 196,
   "id": "c2beca8d",
   "metadata": {},
   "outputs": [
    {
     "data": {
      "text/html": [
       "<div>\n",
       "<style scoped>\n",
       "    .dataframe tbody tr th:only-of-type {\n",
       "        vertical-align: middle;\n",
       "    }\n",
       "\n",
       "    .dataframe tbody tr th {\n",
       "        vertical-align: top;\n",
       "    }\n",
       "\n",
       "    .dataframe thead th {\n",
       "        text-align: right;\n",
       "    }\n",
       "</style>\n",
       "<table border=\"1\" class=\"dataframe\">\n",
       "  <thead>\n",
       "    <tr style=\"text-align: right;\">\n",
       "      <th></th>\n",
       "      <th>text</th>\n",
       "      <th>Category</th>\n",
       "      <th>text_cleaned</th>\n",
       "    </tr>\n",
       "  </thead>\n",
       "  <tbody>\n",
       "    <tr>\n",
       "      <th>0</th>\n",
       "      <td>just had a real good moment. i missssssssss hi...</td>\n",
       "      <td>Not Depressed</td>\n",
       "      <td>just had a real good moment. i missssssssss hi...</td>\n",
       "    </tr>\n",
       "    <tr>\n",
       "      <th>1</th>\n",
       "      <td>is reading manga  http://plurk.com/p/mzp1e</td>\n",
       "      <td>Not Depressed</td>\n",
       "      <td>is reading manga  http://plurk.com/p/mzp1e</td>\n",
       "    </tr>\n",
       "    <tr>\n",
       "      <th>2</th>\n",
       "      <td>@comeagainjen http://twitpic.com/2y2lx - http:...</td>\n",
       "      <td>Not Depressed</td>\n",
       "      <td>@comeagainjen http://twitpic.com/2y2lx - http:...</td>\n",
       "    </tr>\n",
       "    <tr>\n",
       "      <th>3</th>\n",
       "      <td>@lapcat Need to send 'em to my accountant tomo...</td>\n",
       "      <td>Not Depressed</td>\n",
       "      <td>@lapcat need to send 'em to my accountant tomo...</td>\n",
       "    </tr>\n",
       "    <tr>\n",
       "      <th>4</th>\n",
       "      <td>ADD ME ON MYSPACE!!!  myspace.com/LookThunder</td>\n",
       "      <td>Not Depressed</td>\n",
       "      <td>add me on myspace!!!  myspace.com/lookthunder</td>\n",
       "    </tr>\n",
       "  </tbody>\n",
       "</table>\n",
       "</div>"
      ],
      "text/plain": [
       "                                                text       Category  \\\n",
       "0  just had a real good moment. i missssssssss hi...  Not Depressed   \n",
       "1         is reading manga  http://plurk.com/p/mzp1e  Not Depressed   \n",
       "2  @comeagainjen http://twitpic.com/2y2lx - http:...  Not Depressed   \n",
       "3  @lapcat Need to send 'em to my accountant tomo...  Not Depressed   \n",
       "4      ADD ME ON MYSPACE!!!  myspace.com/LookThunder  Not Depressed   \n",
       "\n",
       "                                        text_cleaned  \n",
       "0  just had a real good moment. i missssssssss hi...  \n",
       "1         is reading manga  http://plurk.com/p/mzp1e  \n",
       "2  @comeagainjen http://twitpic.com/2y2lx - http:...  \n",
       "3  @lapcat need to send 'em to my accountant tomo...  \n",
       "4      add me on myspace!!!  myspace.com/lookthunder  "
      ]
     },
     "execution_count": 196,
     "metadata": {},
     "output_type": "execute_result"
    }
   ],
   "source": [
    "dataset['text_cleaned']=dataset['text'].str.lower()\n",
    "dataset.head()"
   ]
  },
  {
   "cell_type": "markdown",
   "id": "32ec4069",
   "metadata": {},
   "source": [
    "1-romoving stop words"
   ]
  },
  {
   "cell_type": "code",
   "execution_count": 173,
   "id": "014c5d6e",
   "metadata": {},
   "outputs": [
    {
     "name": "stderr",
     "output_type": "stream",
     "text": [
      "[nltk_data] Downloading package stopwords to\n",
      "[nltk_data]     C:\\Users\\user\\AppData\\Roaming\\nltk_data...\n",
      "[nltk_data]   Package stopwords is already up-to-date!\n"
     ]
    },
    {
     "data": {
      "text/html": [
       "<div>\n",
       "<style scoped>\n",
       "    .dataframe tbody tr th:only-of-type {\n",
       "        vertical-align: middle;\n",
       "    }\n",
       "\n",
       "    .dataframe tbody tr th {\n",
       "        vertical-align: top;\n",
       "    }\n",
       "\n",
       "    .dataframe thead th {\n",
       "        text-align: right;\n",
       "    }\n",
       "</style>\n",
       "<table border=\"1\" class=\"dataframe\">\n",
       "  <thead>\n",
       "    <tr style=\"text-align: right;\">\n",
       "      <th></th>\n",
       "      <th>text</th>\n",
       "      <th>Category</th>\n",
       "      <th>text_cleaned</th>\n",
       "    </tr>\n",
       "  </thead>\n",
       "  <tbody>\n",
       "    <tr>\n",
       "      <th>0</th>\n",
       "      <td>just had a real good moment. i missssssssss hi...</td>\n",
       "      <td>Not Depressed</td>\n",
       "      <td>real good moment. missssssssss much,</td>\n",
       "    </tr>\n",
       "    <tr>\n",
       "      <th>1</th>\n",
       "      <td>is reading manga  http://plurk.com/p/mzp1e</td>\n",
       "      <td>Not Depressed</td>\n",
       "      <td>reading manga http://plurk.com/p/mzp1e</td>\n",
       "    </tr>\n",
       "    <tr>\n",
       "      <th>2</th>\n",
       "      <td>@comeagainjen http://twitpic.com/2y2lx - http:...</td>\n",
       "      <td>Not Depressed</td>\n",
       "      <td>@comeagainjen http://twitpic.com/2y2lx - http:...</td>\n",
       "    </tr>\n",
       "    <tr>\n",
       "      <th>3</th>\n",
       "      <td>@lapcat Need to send 'em to my accountant tomo...</td>\n",
       "      <td>Not Depressed</td>\n",
       "      <td>@lapcat need send 'em accountant tomorrow. odd...</td>\n",
       "    </tr>\n",
       "    <tr>\n",
       "      <th>4</th>\n",
       "      <td>ADD ME ON MYSPACE!!!  myspace.com/LookThunder</td>\n",
       "      <td>Not Depressed</td>\n",
       "      <td>add myspace!!! myspace.com/lookthunder</td>\n",
       "    </tr>\n",
       "  </tbody>\n",
       "</table>\n",
       "</div>"
      ],
      "text/plain": [
       "                                                text       Category  \\\n",
       "0  just had a real good moment. i missssssssss hi...  Not Depressed   \n",
       "1         is reading manga  http://plurk.com/p/mzp1e  Not Depressed   \n",
       "2  @comeagainjen http://twitpic.com/2y2lx - http:...  Not Depressed   \n",
       "3  @lapcat Need to send 'em to my accountant tomo...  Not Depressed   \n",
       "4      ADD ME ON MYSPACE!!!  myspace.com/LookThunder  Not Depressed   \n",
       "\n",
       "                                        text_cleaned  \n",
       "0               real good moment. missssssssss much,  \n",
       "1             reading manga http://plurk.com/p/mzp1e  \n",
       "2  @comeagainjen http://twitpic.com/2y2lx - http:...  \n",
       "3  @lapcat need send 'em accountant tomorrow. odd...  \n",
       "4             add myspace!!! myspace.com/lookthunder  "
      ]
     },
     "execution_count": 173,
     "metadata": {},
     "output_type": "execute_result"
    }
   ],
   "source": [
    "import nltk\n",
    "nltk.download('stopwords')\n",
    "\n",
    "from nltk.corpus import stopwords\n",
    "stop_words = set(stopwords.words('english'))\n",
    "\n",
    "def remove_stopwords(text):\n",
    "    words = [word.lower() for word in text.split() if word.lower() not in stop_words]\n",
    "    return \" \".join(words)\n",
    "\n",
    "dataset['text_cleaned'] = dataset['text_cleaned'].apply(remove_stopwords)\n",
    "dataset.head()"
   ]
  },
  {
   "cell_type": "markdown",
   "id": "69f5149d",
   "metadata": {},
   "source": [
    "2-Cleaning URLs"
   ]
  },
  {
   "cell_type": "code",
   "execution_count": 174,
   "id": "fc4aa98a",
   "metadata": {},
   "outputs": [
    {
     "data": {
      "text/html": [
       "<div>\n",
       "<style scoped>\n",
       "    .dataframe tbody tr th:only-of-type {\n",
       "        vertical-align: middle;\n",
       "    }\n",
       "\n",
       "    .dataframe tbody tr th {\n",
       "        vertical-align: top;\n",
       "    }\n",
       "\n",
       "    .dataframe thead th {\n",
       "        text-align: right;\n",
       "    }\n",
       "</style>\n",
       "<table border=\"1\" class=\"dataframe\">\n",
       "  <thead>\n",
       "    <tr style=\"text-align: right;\">\n",
       "      <th></th>\n",
       "      <th>text</th>\n",
       "      <th>Category</th>\n",
       "      <th>text_cleaned</th>\n",
       "    </tr>\n",
       "  </thead>\n",
       "  <tbody>\n",
       "    <tr>\n",
       "      <th>0</th>\n",
       "      <td>just had a real good moment. i missssssssss hi...</td>\n",
       "      <td>Not Depressed</td>\n",
       "      <td>real good moment. missssssssss much,</td>\n",
       "    </tr>\n",
       "    <tr>\n",
       "      <th>1</th>\n",
       "      <td>is reading manga  http://plurk.com/p/mzp1e</td>\n",
       "      <td>Not Depressed</td>\n",
       "      <td>reading manga</td>\n",
       "    </tr>\n",
       "    <tr>\n",
       "      <th>2</th>\n",
       "      <td>@comeagainjen http://twitpic.com/2y2lx - http:...</td>\n",
       "      <td>Not Depressed</td>\n",
       "      <td>@comeagainjen   -</td>\n",
       "    </tr>\n",
       "    <tr>\n",
       "      <th>3</th>\n",
       "      <td>@lapcat Need to send 'em to my accountant tomo...</td>\n",
       "      <td>Not Depressed</td>\n",
       "      <td>@lapcat need send 'em accountant tomorrow. odd...</td>\n",
       "    </tr>\n",
       "    <tr>\n",
       "      <th>4</th>\n",
       "      <td>ADD ME ON MYSPACE!!!  myspace.com/LookThunder</td>\n",
       "      <td>Not Depressed</td>\n",
       "      <td>add myspace!!!</td>\n",
       "    </tr>\n",
       "  </tbody>\n",
       "</table>\n",
       "</div>"
      ],
      "text/plain": [
       "                                                text       Category  \\\n",
       "0  just had a real good moment. i missssssssss hi...  Not Depressed   \n",
       "1         is reading manga  http://plurk.com/p/mzp1e  Not Depressed   \n",
       "2  @comeagainjen http://twitpic.com/2y2lx - http:...  Not Depressed   \n",
       "3  @lapcat Need to send 'em to my accountant tomo...  Not Depressed   \n",
       "4      ADD ME ON MYSPACE!!!  myspace.com/LookThunder  Not Depressed   \n",
       "\n",
       "                                        text_cleaned  \n",
       "0               real good moment. missssssssss much,  \n",
       "1                                    reading manga    \n",
       "2                                @comeagainjen   -    \n",
       "3  @lapcat need send 'em accountant tomorrow. odd...  \n",
       "4                                   add myspace!!!    "
      ]
     },
     "execution_count": 174,
     "metadata": {},
     "output_type": "execute_result"
    }
   ],
   "source": [
    "def clean_url(data):\n",
    "    data=re.sub(r\"((https:|http|ftp)?(:\\/\\/)?(www\\.)?)?[-a-zA-Z0-9@:%._\\+~#=]{1,256}\\.[a-zA-Z0-9()]{1,6}\\b([-a-zA-Z0-9()@:%_\\+.~#?&\\/\\/=]*)\",' ',data)\n",
    "    return re.sub(r'/', ' / ', data)\n",
    "dataset['text_cleaned'] = dataset['text_cleaned'].apply(lambda x: clean_url(x))\n",
    "dataset.head()"
   ]
  },
  {
   "cell_type": "markdown",
   "id": "4dd5f153",
   "metadata": {},
   "source": [
    "3 - Cleaning Punctuations"
   ]
  },
  {
   "cell_type": "code",
   "execution_count": 175,
   "id": "367a3ecb",
   "metadata": {},
   "outputs": [
    {
     "data": {
      "text/html": [
       "<div>\n",
       "<style scoped>\n",
       "    .dataframe tbody tr th:only-of-type {\n",
       "        vertical-align: middle;\n",
       "    }\n",
       "\n",
       "    .dataframe tbody tr th {\n",
       "        vertical-align: top;\n",
       "    }\n",
       "\n",
       "    .dataframe thead th {\n",
       "        text-align: right;\n",
       "    }\n",
       "</style>\n",
       "<table border=\"1\" class=\"dataframe\">\n",
       "  <thead>\n",
       "    <tr style=\"text-align: right;\">\n",
       "      <th></th>\n",
       "      <th>text</th>\n",
       "      <th>Category</th>\n",
       "      <th>text_cleaned</th>\n",
       "    </tr>\n",
       "  </thead>\n",
       "  <tbody>\n",
       "    <tr>\n",
       "      <th>0</th>\n",
       "      <td>just had a real good moment. i missssssssss hi...</td>\n",
       "      <td>Not Depressed</td>\n",
       "      <td>real good moment missssssssss much</td>\n",
       "    </tr>\n",
       "    <tr>\n",
       "      <th>1</th>\n",
       "      <td>is reading manga  http://plurk.com/p/mzp1e</td>\n",
       "      <td>Not Depressed</td>\n",
       "      <td>reading manga</td>\n",
       "    </tr>\n",
       "    <tr>\n",
       "      <th>2</th>\n",
       "      <td>@comeagainjen http://twitpic.com/2y2lx - http:...</td>\n",
       "      <td>Not Depressed</td>\n",
       "      <td>comeagainjen</td>\n",
       "    </tr>\n",
       "    <tr>\n",
       "      <th>3</th>\n",
       "      <td>@lapcat Need to send 'em to my accountant tomo...</td>\n",
       "      <td>Not Depressed</td>\n",
       "      <td>lapcat need send em accountant tomorrow oddly ...</td>\n",
       "    </tr>\n",
       "    <tr>\n",
       "      <th>4</th>\n",
       "      <td>ADD ME ON MYSPACE!!!  myspace.com/LookThunder</td>\n",
       "      <td>Not Depressed</td>\n",
       "      <td>add myspace</td>\n",
       "    </tr>\n",
       "  </tbody>\n",
       "</table>\n",
       "</div>"
      ],
      "text/plain": [
       "                                                text       Category  \\\n",
       "0  just had a real good moment. i missssssssss hi...  Not Depressed   \n",
       "1         is reading manga  http://plurk.com/p/mzp1e  Not Depressed   \n",
       "2  @comeagainjen http://twitpic.com/2y2lx - http:...  Not Depressed   \n",
       "3  @lapcat Need to send 'em to my accountant tomo...  Not Depressed   \n",
       "4      ADD ME ON MYSPACE!!!  myspace.com/LookThunder  Not Depressed   \n",
       "\n",
       "                                        text_cleaned  \n",
       "0                 real good moment missssssssss much  \n",
       "1                                    reading manga    \n",
       "2                                  comeagainjen       \n",
       "3  lapcat need send em accountant tomorrow oddly ...  \n",
       "4                                      add myspace    "
      ]
     },
     "execution_count": 175,
     "metadata": {},
     "output_type": "execute_result"
    }
   ],
   "source": [
    "import string\n",
    "def clean_punctuations(text):\n",
    "    return text.translate(str.maketrans('', '', string.punctuation))\n",
    "dataset['text_cleaned'] = dataset['text_cleaned'].apply(lambda x: clean_punctuations(x))\n",
    "dataset.head()"
   ]
  },
  {
   "cell_type": "markdown",
   "id": "fa59dd38",
   "metadata": {},
   "source": [
    "4 - repeating_char"
   ]
  },
  {
   "cell_type": "code",
   "execution_count": 176,
   "id": "9db50e0c",
   "metadata": {},
   "outputs": [
    {
     "data": {
      "text/html": [
       "<div>\n",
       "<style scoped>\n",
       "    .dataframe tbody tr th:only-of-type {\n",
       "        vertical-align: middle;\n",
       "    }\n",
       "\n",
       "    .dataframe tbody tr th {\n",
       "        vertical-align: top;\n",
       "    }\n",
       "\n",
       "    .dataframe thead th {\n",
       "        text-align: right;\n",
       "    }\n",
       "</style>\n",
       "<table border=\"1\" class=\"dataframe\">\n",
       "  <thead>\n",
       "    <tr style=\"text-align: right;\">\n",
       "      <th></th>\n",
       "      <th>text</th>\n",
       "      <th>Category</th>\n",
       "      <th>text_cleaned</th>\n",
       "    </tr>\n",
       "  </thead>\n",
       "  <tbody>\n",
       "    <tr>\n",
       "      <th>0</th>\n",
       "      <td>just had a real good moment. i missssssssss hi...</td>\n",
       "      <td>Not Depressed</td>\n",
       "      <td>real good moment miss much</td>\n",
       "    </tr>\n",
       "    <tr>\n",
       "      <th>1</th>\n",
       "      <td>is reading manga  http://plurk.com/p/mzp1e</td>\n",
       "      <td>Not Depressed</td>\n",
       "      <td>reading manga</td>\n",
       "    </tr>\n",
       "    <tr>\n",
       "      <th>2</th>\n",
       "      <td>@comeagainjen http://twitpic.com/2y2lx - http:...</td>\n",
       "      <td>Not Depressed</td>\n",
       "      <td>comeagainjen</td>\n",
       "    </tr>\n",
       "    <tr>\n",
       "      <th>3</th>\n",
       "      <td>@lapcat Need to send 'em to my accountant tomo...</td>\n",
       "      <td>Not Depressed</td>\n",
       "      <td>lapcat need send em accountant tomorrow oddly ...</td>\n",
       "    </tr>\n",
       "    <tr>\n",
       "      <th>4</th>\n",
       "      <td>ADD ME ON MYSPACE!!!  myspace.com/LookThunder</td>\n",
       "      <td>Not Depressed</td>\n",
       "      <td>add myspace</td>\n",
       "    </tr>\n",
       "  </tbody>\n",
       "</table>\n",
       "</div>"
      ],
      "text/plain": [
       "                                                text       Category  \\\n",
       "0  just had a real good moment. i missssssssss hi...  Not Depressed   \n",
       "1         is reading manga  http://plurk.com/p/mzp1e  Not Depressed   \n",
       "2  @comeagainjen http://twitpic.com/2y2lx - http:...  Not Depressed   \n",
       "3  @lapcat Need to send 'em to my accountant tomo...  Not Depressed   \n",
       "4      ADD ME ON MYSPACE!!!  myspace.com/LookThunder  Not Depressed   \n",
       "\n",
       "                                        text_cleaned  \n",
       "0                         real good moment miss much  \n",
       "1                                    reading manga    \n",
       "2                                     comeagainjen    \n",
       "3  lapcat need send em accountant tomorrow oddly ...  \n",
       "4                                      add myspace    "
      ]
     },
     "execution_count": 176,
     "metadata": {},
     "output_type": "execute_result"
    }
   ],
   "source": [
    "def clean_repeating_char(text):\n",
    "    return re.sub(r\"(.)\\1\\1+\", r\"\\1\\1\", text)\n",
    "dataset['text_cleaned'] = dataset['text_cleaned'].apply(lambda x: clean_repeating_char(x))\n",
    "dataset.head()"
   ]
  },
  {
   "cell_type": "markdown",
   "id": "34d46d47",
   "metadata": {},
   "source": [
    "5 - Cleaning Numbers"
   ]
  },
  {
   "cell_type": "code",
   "execution_count": 177,
   "id": "49cb0937",
   "metadata": {},
   "outputs": [
    {
     "data": {
      "text/html": [
       "<div>\n",
       "<style scoped>\n",
       "    .dataframe tbody tr th:only-of-type {\n",
       "        vertical-align: middle;\n",
       "    }\n",
       "\n",
       "    .dataframe tbody tr th {\n",
       "        vertical-align: top;\n",
       "    }\n",
       "\n",
       "    .dataframe thead th {\n",
       "        text-align: right;\n",
       "    }\n",
       "</style>\n",
       "<table border=\"1\" class=\"dataframe\">\n",
       "  <thead>\n",
       "    <tr style=\"text-align: right;\">\n",
       "      <th></th>\n",
       "      <th>text</th>\n",
       "      <th>Category</th>\n",
       "      <th>text_cleaned</th>\n",
       "    </tr>\n",
       "  </thead>\n",
       "  <tbody>\n",
       "    <tr>\n",
       "      <th>0</th>\n",
       "      <td>just had a real good moment. i missssssssss hi...</td>\n",
       "      <td>Not Depressed</td>\n",
       "      <td>real good moment miss much</td>\n",
       "    </tr>\n",
       "    <tr>\n",
       "      <th>1</th>\n",
       "      <td>is reading manga  http://plurk.com/p/mzp1e</td>\n",
       "      <td>Not Depressed</td>\n",
       "      <td>reading manga</td>\n",
       "    </tr>\n",
       "    <tr>\n",
       "      <th>2</th>\n",
       "      <td>@comeagainjen http://twitpic.com/2y2lx - http:...</td>\n",
       "      <td>Not Depressed</td>\n",
       "      <td>comeagainjen</td>\n",
       "    </tr>\n",
       "    <tr>\n",
       "      <th>3</th>\n",
       "      <td>@lapcat Need to send 'em to my accountant tomo...</td>\n",
       "      <td>Not Depressed</td>\n",
       "      <td>lapcat need send em accountant tomorrow oddly ...</td>\n",
       "    </tr>\n",
       "    <tr>\n",
       "      <th>4</th>\n",
       "      <td>ADD ME ON MYSPACE!!!  myspace.com/LookThunder</td>\n",
       "      <td>Not Depressed</td>\n",
       "      <td>add myspace</td>\n",
       "    </tr>\n",
       "  </tbody>\n",
       "</table>\n",
       "</div>"
      ],
      "text/plain": [
       "                                                text       Category  \\\n",
       "0  just had a real good moment. i missssssssss hi...  Not Depressed   \n",
       "1         is reading manga  http://plurk.com/p/mzp1e  Not Depressed   \n",
       "2  @comeagainjen http://twitpic.com/2y2lx - http:...  Not Depressed   \n",
       "3  @lapcat Need to send 'em to my accountant tomo...  Not Depressed   \n",
       "4      ADD ME ON MYSPACE!!!  myspace.com/LookThunder  Not Depressed   \n",
       "\n",
       "                                        text_cleaned  \n",
       "0                         real good moment miss much  \n",
       "1                                    reading manga    \n",
       "2                                     comeagainjen    \n",
       "3  lapcat need send em accountant tomorrow oddly ...  \n",
       "4                                      add myspace    "
      ]
     },
     "execution_count": 177,
     "metadata": {},
     "output_type": "execute_result"
    }
   ],
   "source": [
    "def clean_numbers(data):\n",
    "    return re.sub('[0-9]+', '', data)\n",
    "dataset['text_cleaned'] = dataset['text_cleaned'].apply(lambda x: clean_numbers(x))\n",
    "dataset.head()"
   ]
  },
  {
   "cell_type": "markdown",
   "id": "4012bf43",
   "metadata": {},
   "source": [
    "6 - remove hashtag\n"
   ]
  },
  {
   "cell_type": "code",
   "execution_count": 178,
   "id": "5d43f0f7",
   "metadata": {},
   "outputs": [
    {
     "data": {
      "text/html": [
       "<div>\n",
       "<style scoped>\n",
       "    .dataframe tbody tr th:only-of-type {\n",
       "        vertical-align: middle;\n",
       "    }\n",
       "\n",
       "    .dataframe tbody tr th {\n",
       "        vertical-align: top;\n",
       "    }\n",
       "\n",
       "    .dataframe thead th {\n",
       "        text-align: right;\n",
       "    }\n",
       "</style>\n",
       "<table border=\"1\" class=\"dataframe\">\n",
       "  <thead>\n",
       "    <tr style=\"text-align: right;\">\n",
       "      <th></th>\n",
       "      <th>text</th>\n",
       "      <th>Category</th>\n",
       "      <th>text_cleaned</th>\n",
       "    </tr>\n",
       "  </thead>\n",
       "  <tbody>\n",
       "    <tr>\n",
       "      <th>0</th>\n",
       "      <td>just had a real good moment. i missssssssss hi...</td>\n",
       "      <td>Not Depressed</td>\n",
       "      <td>real good moment miss much</td>\n",
       "    </tr>\n",
       "    <tr>\n",
       "      <th>1</th>\n",
       "      <td>is reading manga  http://plurk.com/p/mzp1e</td>\n",
       "      <td>Not Depressed</td>\n",
       "      <td>reading manga</td>\n",
       "    </tr>\n",
       "    <tr>\n",
       "      <th>2</th>\n",
       "      <td>@comeagainjen http://twitpic.com/2y2lx - http:...</td>\n",
       "      <td>Not Depressed</td>\n",
       "      <td>comeagainjen</td>\n",
       "    </tr>\n",
       "    <tr>\n",
       "      <th>3</th>\n",
       "      <td>@lapcat Need to send 'em to my accountant tomo...</td>\n",
       "      <td>Not Depressed</td>\n",
       "      <td>lapcat need send em accountant tomorrow oddly ...</td>\n",
       "    </tr>\n",
       "    <tr>\n",
       "      <th>4</th>\n",
       "      <td>ADD ME ON MYSPACE!!!  myspace.com/LookThunder</td>\n",
       "      <td>Not Depressed</td>\n",
       "      <td>add myspace</td>\n",
       "    </tr>\n",
       "  </tbody>\n",
       "</table>\n",
       "</div>"
      ],
      "text/plain": [
       "                                                text       Category  \\\n",
       "0  just had a real good moment. i missssssssss hi...  Not Depressed   \n",
       "1         is reading manga  http://plurk.com/p/mzp1e  Not Depressed   \n",
       "2  @comeagainjen http://twitpic.com/2y2lx - http:...  Not Depressed   \n",
       "3  @lapcat Need to send 'em to my accountant tomo...  Not Depressed   \n",
       "4      ADD ME ON MYSPACE!!!  myspace.com/LookThunder  Not Depressed   \n",
       "\n",
       "                                        text_cleaned  \n",
       "0                         real good moment miss much  \n",
       "1                                    reading manga    \n",
       "2                                     comeagainjen    \n",
       "3  lapcat need send em accountant tomorrow oddly ...  \n",
       "4                                      add myspace    "
      ]
     },
     "execution_count": 178,
     "metadata": {},
     "output_type": "execute_result"
    }
   ],
   "source": [
    "def remove_hashtag(data):\n",
    "    return re.sub('#[\\w\\d]+',' ' ,data)\n",
    "dataset['text_cleaned'] = dataset['text_cleaned'].apply(lambda x: remove_hashtag(x))\n",
    "dataset.head()"
   ]
  },
  {
   "cell_type": "markdown",
   "id": "a427b26d",
   "metadata": {},
   "source": [
    "7 - clean username"
   ]
  },
  {
   "cell_type": "code",
   "execution_count": 179,
   "id": "e1da81db",
   "metadata": {},
   "outputs": [
    {
     "data": {
      "text/html": [
       "<div>\n",
       "<style scoped>\n",
       "    .dataframe tbody tr th:only-of-type {\n",
       "        vertical-align: middle;\n",
       "    }\n",
       "\n",
       "    .dataframe tbody tr th {\n",
       "        vertical-align: top;\n",
       "    }\n",
       "\n",
       "    .dataframe thead th {\n",
       "        text-align: right;\n",
       "    }\n",
       "</style>\n",
       "<table border=\"1\" class=\"dataframe\">\n",
       "  <thead>\n",
       "    <tr style=\"text-align: right;\">\n",
       "      <th></th>\n",
       "      <th>text</th>\n",
       "      <th>Category</th>\n",
       "      <th>text_cleaned</th>\n",
       "    </tr>\n",
       "  </thead>\n",
       "  <tbody>\n",
       "    <tr>\n",
       "      <th>0</th>\n",
       "      <td>just had a real good moment. i missssssssss hi...</td>\n",
       "      <td>Not Depressed</td>\n",
       "      <td>real good moment miss much</td>\n",
       "    </tr>\n",
       "    <tr>\n",
       "      <th>1</th>\n",
       "      <td>is reading manga  http://plurk.com/p/mzp1e</td>\n",
       "      <td>Not Depressed</td>\n",
       "      <td>reading manga</td>\n",
       "    </tr>\n",
       "    <tr>\n",
       "      <th>2</th>\n",
       "      <td>@comeagainjen http://twitpic.com/2y2lx - http:...</td>\n",
       "      <td>Not Depressed</td>\n",
       "      <td>comeagainjen</td>\n",
       "    </tr>\n",
       "    <tr>\n",
       "      <th>3</th>\n",
       "      <td>@lapcat Need to send 'em to my accountant tomo...</td>\n",
       "      <td>Not Depressed</td>\n",
       "      <td>lapcat need send em accountant tomorrow oddly ...</td>\n",
       "    </tr>\n",
       "    <tr>\n",
       "      <th>4</th>\n",
       "      <td>ADD ME ON MYSPACE!!!  myspace.com/LookThunder</td>\n",
       "      <td>Not Depressed</td>\n",
       "      <td>add myspace</td>\n",
       "    </tr>\n",
       "  </tbody>\n",
       "</table>\n",
       "</div>"
      ],
      "text/plain": [
       "                                                text       Category  \\\n",
       "0  just had a real good moment. i missssssssss hi...  Not Depressed   \n",
       "1         is reading manga  http://plurk.com/p/mzp1e  Not Depressed   \n",
       "2  @comeagainjen http://twitpic.com/2y2lx - http:...  Not Depressed   \n",
       "3  @lapcat Need to send 'em to my accountant tomo...  Not Depressed   \n",
       "4      ADD ME ON MYSPACE!!!  myspace.com/LookThunder  Not Depressed   \n",
       "\n",
       "                                        text_cleaned  \n",
       "0                         real good moment miss much  \n",
       "1                                    reading manga    \n",
       "2                                     comeagainjen    \n",
       "3  lapcat need send em accountant tomorrow oddly ...  \n",
       "4                                      add myspace    "
      ]
     },
     "execution_count": 179,
     "metadata": {},
     "output_type": "execute_result"
    }
   ],
   "source": [
    "def clean_username(data):\n",
    "    return re.sub('@[^\\s]+',' ', data)\n",
    "dataset['text_cleaned'] = dataset['text_cleaned'].apply(lambda x: clean_username(x))\n",
    "dataset.head()"
   ]
  },
  {
   "cell_type": "markdown",
   "id": "766a2a23",
   "metadata": {},
   "source": [
    "8 - clean emoji"
   ]
  },
  {
   "cell_type": "code",
   "execution_count": 180,
   "id": "1ad20826",
   "metadata": {},
   "outputs": [
    {
     "data": {
      "text/html": [
       "<div>\n",
       "<style scoped>\n",
       "    .dataframe tbody tr th:only-of-type {\n",
       "        vertical-align: middle;\n",
       "    }\n",
       "\n",
       "    .dataframe tbody tr th {\n",
       "        vertical-align: top;\n",
       "    }\n",
       "\n",
       "    .dataframe thead th {\n",
       "        text-align: right;\n",
       "    }\n",
       "</style>\n",
       "<table border=\"1\" class=\"dataframe\">\n",
       "  <thead>\n",
       "    <tr style=\"text-align: right;\">\n",
       "      <th></th>\n",
       "      <th>text</th>\n",
       "      <th>Category</th>\n",
       "      <th>text_cleaned</th>\n",
       "    </tr>\n",
       "  </thead>\n",
       "  <tbody>\n",
       "    <tr>\n",
       "      <th>0</th>\n",
       "      <td>just had a real good moment. i missssssssss hi...</td>\n",
       "      <td>Not Depressed</td>\n",
       "      <td>real good moment miss much</td>\n",
       "    </tr>\n",
       "    <tr>\n",
       "      <th>1</th>\n",
       "      <td>is reading manga  http://plurk.com/p/mzp1e</td>\n",
       "      <td>Not Depressed</td>\n",
       "      <td>reading manga</td>\n",
       "    </tr>\n",
       "    <tr>\n",
       "      <th>2</th>\n",
       "      <td>@comeagainjen http://twitpic.com/2y2lx - http:...</td>\n",
       "      <td>Not Depressed</td>\n",
       "      <td>comeagainjen</td>\n",
       "    </tr>\n",
       "    <tr>\n",
       "      <th>3</th>\n",
       "      <td>@lapcat Need to send 'em to my accountant tomo...</td>\n",
       "      <td>Not Depressed</td>\n",
       "      <td>lapcat need send em accountant tomorrow oddly ...</td>\n",
       "    </tr>\n",
       "    <tr>\n",
       "      <th>4</th>\n",
       "      <td>ADD ME ON MYSPACE!!!  myspace.com/LookThunder</td>\n",
       "      <td>Not Depressed</td>\n",
       "      <td>add myspace</td>\n",
       "    </tr>\n",
       "  </tbody>\n",
       "</table>\n",
       "</div>"
      ],
      "text/plain": [
       "                                                text       Category  \\\n",
       "0  just had a real good moment. i missssssssss hi...  Not Depressed   \n",
       "1         is reading manga  http://plurk.com/p/mzp1e  Not Depressed   \n",
       "2  @comeagainjen http://twitpic.com/2y2lx - http:...  Not Depressed   \n",
       "3  @lapcat Need to send 'em to my accountant tomo...  Not Depressed   \n",
       "4      ADD ME ON MYSPACE!!!  myspace.com/LookThunder  Not Depressed   \n",
       "\n",
       "                                        text_cleaned  \n",
       "0                         real good moment miss much  \n",
       "1                                    reading manga    \n",
       "2                                     comeagainjen    \n",
       "3  lapcat need send em accountant tomorrow oddly ...  \n",
       "4                                      add myspace    "
      ]
     },
     "execution_count": 180,
     "metadata": {},
     "output_type": "execute_result"
    }
   ],
   "source": [
    "def clean_emoji(data):    \n",
    "    data = re.sub(r'<3', '<heart>', data)\n",
    "    data = re.sub(r\"[8:=;]['`\\-]?[)d]+\", '<smile>', data)\n",
    "    data = re.sub(r\"[8:=;]['`\\-]?\\(+\", '<sad>', data)\n",
    "    data = re.sub(r\"[8:=;]['`\\-]?[\\/|l*]\", '<neutral>', data)\n",
    "    data = re.sub(r\"[8:=;]['`\\-]?p+\", '<laugh>', data)\n",
    "    return data\n",
    "dataset['text_cleaned'] = dataset['text_cleaned'].apply(lambda x: clean_emoji(x))\n",
    "dataset.head()"
   ]
  },
  {
   "cell_type": "markdown",
   "id": "4092577d",
   "metadata": {},
   "source": [
    "9 - remove images"
   ]
  },
  {
   "cell_type": "code",
   "execution_count": 181,
   "id": "120fbb2b",
   "metadata": {},
   "outputs": [
    {
     "data": {
      "text/html": [
       "<div>\n",
       "<style scoped>\n",
       "    .dataframe tbody tr th:only-of-type {\n",
       "        vertical-align: middle;\n",
       "    }\n",
       "\n",
       "    .dataframe tbody tr th {\n",
       "        vertical-align: top;\n",
       "    }\n",
       "\n",
       "    .dataframe thead th {\n",
       "        text-align: right;\n",
       "    }\n",
       "</style>\n",
       "<table border=\"1\" class=\"dataframe\">\n",
       "  <thead>\n",
       "    <tr style=\"text-align: right;\">\n",
       "      <th></th>\n",
       "      <th>text</th>\n",
       "      <th>Category</th>\n",
       "      <th>text_cleaned</th>\n",
       "    </tr>\n",
       "  </thead>\n",
       "  <tbody>\n",
       "    <tr>\n",
       "      <th>0</th>\n",
       "      <td>just had a real good moment. i missssssssss hi...</td>\n",
       "      <td>Not Depressed</td>\n",
       "      <td>real good moment miss much</td>\n",
       "    </tr>\n",
       "    <tr>\n",
       "      <th>1</th>\n",
       "      <td>is reading manga  http://plurk.com/p/mzp1e</td>\n",
       "      <td>Not Depressed</td>\n",
       "      <td>reading manga</td>\n",
       "    </tr>\n",
       "    <tr>\n",
       "      <th>2</th>\n",
       "      <td>@comeagainjen http://twitpic.com/2y2lx - http:...</td>\n",
       "      <td>Not Depressed</td>\n",
       "      <td>comeagainjen</td>\n",
       "    </tr>\n",
       "    <tr>\n",
       "      <th>3</th>\n",
       "      <td>@lapcat Need to send 'em to my accountant tomo...</td>\n",
       "      <td>Not Depressed</td>\n",
       "      <td>lapcat need send em accountant tomorrow oddly ...</td>\n",
       "    </tr>\n",
       "    <tr>\n",
       "      <th>4</th>\n",
       "      <td>ADD ME ON MYSPACE!!!  myspace.com/LookThunder</td>\n",
       "      <td>Not Depressed</td>\n",
       "      <td>add myspace</td>\n",
       "    </tr>\n",
       "    <tr>\n",
       "      <th>5</th>\n",
       "      <td>so sleepy. good times tonight though</td>\n",
       "      <td>Not Depressed</td>\n",
       "      <td>sleepy good times tonight though</td>\n",
       "    </tr>\n",
       "    <tr>\n",
       "      <th>6</th>\n",
       "      <td>@SilkCharm re: #nbn as someone already said, d...</td>\n",
       "      <td>Not Depressed</td>\n",
       "      <td>silkcharm re nbn someone already said fiber ho...</td>\n",
       "    </tr>\n",
       "    <tr>\n",
       "      <th>7</th>\n",
       "      <td>23 or 24ï¿½C possible today. Nice</td>\n",
       "      <td>Not Depressed</td>\n",
       "      <td>ï¿½c possible today nice</td>\n",
       "    </tr>\n",
       "    <tr>\n",
       "      <th>8</th>\n",
       "      <td>nite twitterville  workout in the am  -ciao</td>\n",
       "      <td>Not Depressed</td>\n",
       "      <td>nite twitterville workout ciao</td>\n",
       "    </tr>\n",
       "    <tr>\n",
       "      <th>9</th>\n",
       "      <td>@daNanner Night, darlin'!  Sweet dreams to you</td>\n",
       "      <td>Not Depressed</td>\n",
       "      <td>dananner night darlin sweet dreams</td>\n",
       "    </tr>\n",
       "  </tbody>\n",
       "</table>\n",
       "</div>"
      ],
      "text/plain": [
       "                                                text       Category  \\\n",
       "0  just had a real good moment. i missssssssss hi...  Not Depressed   \n",
       "1         is reading manga  http://plurk.com/p/mzp1e  Not Depressed   \n",
       "2  @comeagainjen http://twitpic.com/2y2lx - http:...  Not Depressed   \n",
       "3  @lapcat Need to send 'em to my accountant tomo...  Not Depressed   \n",
       "4      ADD ME ON MYSPACE!!!  myspace.com/LookThunder  Not Depressed   \n",
       "5              so sleepy. good times tonight though   Not Depressed   \n",
       "6  @SilkCharm re: #nbn as someone already said, d...  Not Depressed   \n",
       "7                 23 or 24ï¿½C possible today. Nice   Not Depressed   \n",
       "8        nite twitterville  workout in the am  -ciao  Not Depressed   \n",
       "9    @daNanner Night, darlin'!  Sweet dreams to you   Not Depressed   \n",
       "\n",
       "                                        text_cleaned  \n",
       "0                         real good moment miss much  \n",
       "1                                    reading manga    \n",
       "2                                     comeagainjen    \n",
       "3  lapcat need send em accountant tomorrow oddly ...  \n",
       "4                                      add myspace    \n",
       "5                   sleepy good times tonight though  \n",
       "6  silkcharm re nbn someone already said fiber ho...  \n",
       "7                           ï¿½c possible today nice  \n",
       "8                     nite twitterville workout ciao  \n",
       "9                 dananner night darlin sweet dreams  "
      ]
     },
     "execution_count": 181,
     "metadata": {},
     "output_type": "execute_result"
    }
   ],
   "source": [
    "def remove_images(tweet):\n",
    "    cleaned_tweet = re.sub(r\"pic\\.twitter\\.com/\\S+\",'', tweet)\n",
    "    cleaned_tweet = re.sub(\"\\w+(\\.png|\\.jpg|\\.gif|\\.jpeg)\", \" \", cleaned_tweet)\n",
    "    return cleaned_tweet\n",
    "\n",
    "dataset['text_cleaned'] = dataset['text_cleaned'].apply(remove_images)\n",
    "dataset.head(10)"
   ]
  },
  {
   "cell_type": "code",
   "execution_count": 182,
   "id": "709d4738",
   "metadata": {},
   "outputs": [
    {
     "data": {
      "text/html": [
       "<div>\n",
       "<style scoped>\n",
       "    .dataframe tbody tr th:only-of-type {\n",
       "        vertical-align: middle;\n",
       "    }\n",
       "\n",
       "    .dataframe tbody tr th {\n",
       "        vertical-align: top;\n",
       "    }\n",
       "\n",
       "    .dataframe thead th {\n",
       "        text-align: right;\n",
       "    }\n",
       "</style>\n",
       "<table border=\"1\" class=\"dataframe\">\n",
       "  <thead>\n",
       "    <tr style=\"text-align: right;\">\n",
       "      <th></th>\n",
       "      <th>text</th>\n",
       "      <th>Category</th>\n",
       "      <th>text_cleaned</th>\n",
       "    </tr>\n",
       "  </thead>\n",
       "  <tbody>\n",
       "    <tr>\n",
       "      <th>3686</th>\n",
       "      <td>i vote for you about 130 times now haha , you ...</td>\n",
       "      <td>Not Depressed</td>\n",
       "      <td>vote  times haha  win sure loove youu keep smi...</td>\n",
       "    </tr>\n",
       "    <tr>\n",
       "      <th>5657</th>\n",
       "      <td>@ReginaHigh why? I'm all good.. I'm broke but ...</td>\n",
       "      <td>Not Depressed</td>\n",
       "      <td>reginahigh why im good im broke cuz put saving...</td>\n",
       "    </tr>\n",
       "    <tr>\n",
       "      <th>8912</th>\n",
       "      <td>It's so hard to move on when you have depression</td>\n",
       "      <td>Depressed</td>\n",
       "      <td>hard move depression</td>\n",
       "    </tr>\n",
       "    <tr>\n",
       "      <th>7981</th>\n",
       "      <td>@Jonasbrothers ir for ir yesterday!!!!  btw. L...</td>\n",
       "      <td>Not Depressed</td>\n",
       "      <td>jonasbrothers ir ir yesterday btw love new album</td>\n",
       "    </tr>\n",
       "    <tr>\n",
       "      <th>10290</th>\n",
       "      <td>#HealthNews - More than 1 in 20 US children an...</td>\n",
       "      <td>Depressed</td>\n",
       "      <td>healthnews    us children teens anxiety depres...</td>\n",
       "    </tr>\n",
       "    <tr>\n",
       "      <th>7337</th>\n",
       "      <td>@crisk i meant wieder... Lol. Send me your kel...</td>\n",
       "      <td>Not Depressed</td>\n",
       "      <td>crisk meant wieder lol send kelkheim later</td>\n",
       "    </tr>\n",
       "    <tr>\n",
       "      <th>7933</th>\n",
       "      <td>Well, my tests are finished, hooray  Up to the...</td>\n",
       "      <td>Not Depressed</td>\n",
       "      <td>well tests finished hooray next modification</td>\n",
       "    </tr>\n",
       "    <tr>\n",
       "      <th>6605</th>\n",
       "      <td>now has a cold face from walkkng to the servo ...</td>\n",
       "      <td>Not Depressed</td>\n",
       "      <td>cold face walkkng servo haha oh well joys livi...</td>\n",
       "    </tr>\n",
       "    <tr>\n",
       "      <th>8196</th>\n",
       "      <td>I'm pretty sure this is a sign of depression  ...</td>\n",
       "      <td>Depressed</td>\n",
       "      <td>im pretty sure sign depression</td>\n",
       "    </tr>\n",
       "    <tr>\n",
       "      <th>4724</th>\n",
       "      <td>@karinb_za no, luckily not it seems</td>\n",
       "      <td>Not Depressed</td>\n",
       "      <td>karinbza no luckily seems</td>\n",
       "    </tr>\n",
       "  </tbody>\n",
       "</table>\n",
       "</div>"
      ],
      "text/plain": [
       "                                                    text       Category  \\\n",
       "3686   i vote for you about 130 times now haha , you ...  Not Depressed   \n",
       "5657   @ReginaHigh why? I'm all good.. I'm broke but ...  Not Depressed   \n",
       "8912    It's so hard to move on when you have depression      Depressed   \n",
       "7981   @Jonasbrothers ir for ir yesterday!!!!  btw. L...  Not Depressed   \n",
       "10290  #HealthNews - More than 1 in 20 US children an...      Depressed   \n",
       "7337   @crisk i meant wieder... Lol. Send me your kel...  Not Depressed   \n",
       "7933   Well, my tests are finished, hooray  Up to the...  Not Depressed   \n",
       "6605   now has a cold face from walkkng to the servo ...  Not Depressed   \n",
       "8196   I'm pretty sure this is a sign of depression  ...      Depressed   \n",
       "4724                @karinb_za no, luckily not it seems   Not Depressed   \n",
       "\n",
       "                                            text_cleaned  \n",
       "3686   vote  times haha  win sure loove youu keep smi...  \n",
       "5657   reginahigh why im good im broke cuz put saving...  \n",
       "8912                                hard move depression  \n",
       "7981    jonasbrothers ir ir yesterday btw love new album  \n",
       "10290  healthnews    us children teens anxiety depres...  \n",
       "7337          crisk meant wieder lol send kelkheim later  \n",
       "7933        well tests finished hooray next modification  \n",
       "6605   cold face walkkng servo haha oh well joys livi...  \n",
       "8196                    im pretty sure sign depression    \n",
       "4724                           karinbza no luckily seems  "
      ]
     },
     "execution_count": 182,
     "metadata": {},
     "output_type": "execute_result"
    }
   ],
   "source": [
    "dataset.sample(10)"
   ]
  },
  {
   "cell_type": "code",
   "execution_count": null,
   "id": "f7343278",
   "metadata": {},
   "outputs": [],
   "source": []
  },
  {
   "cell_type": "code",
   "execution_count": 183,
   "id": "44d8863f",
   "metadata": {},
   "outputs": [
    {
     "data": {
      "text/html": [
       "<div>\n",
       "<style scoped>\n",
       "    .dataframe tbody tr th:only-of-type {\n",
       "        vertical-align: middle;\n",
       "    }\n",
       "\n",
       "    .dataframe tbody tr th {\n",
       "        vertical-align: top;\n",
       "    }\n",
       "\n",
       "    .dataframe thead th {\n",
       "        text-align: right;\n",
       "    }\n",
       "</style>\n",
       "<table border=\"1\" class=\"dataframe\">\n",
       "  <thead>\n",
       "    <tr style=\"text-align: right;\">\n",
       "      <th></th>\n",
       "      <th>text</th>\n",
       "      <th>Category</th>\n",
       "      <th>text_cleaned</th>\n",
       "    </tr>\n",
       "  </thead>\n",
       "  <tbody>\n",
       "    <tr>\n",
       "      <th>0</th>\n",
       "      <td>just had a real good moment. i missssssssss hi...</td>\n",
       "      <td>Not Depressed</td>\n",
       "      <td>real good moment miss much</td>\n",
       "    </tr>\n",
       "    <tr>\n",
       "      <th>1</th>\n",
       "      <td>is reading manga  http://plurk.com/p/mzp1e</td>\n",
       "      <td>Not Depressed</td>\n",
       "      <td>reading manga</td>\n",
       "    </tr>\n",
       "    <tr>\n",
       "      <th>2</th>\n",
       "      <td>@comeagainjen http://twitpic.com/2y2lx - http:...</td>\n",
       "      <td>Not Depressed</td>\n",
       "      <td>comeagainjen</td>\n",
       "    </tr>\n",
       "    <tr>\n",
       "      <th>3</th>\n",
       "      <td>@lapcat Need to send 'em to my accountant tomo...</td>\n",
       "      <td>Not Depressed</td>\n",
       "      <td>lapcat need send em accountant tomorrow oddly ...</td>\n",
       "    </tr>\n",
       "    <tr>\n",
       "      <th>4</th>\n",
       "      <td>ADD ME ON MYSPACE!!!  myspace.com/LookThunder</td>\n",
       "      <td>Not Depressed</td>\n",
       "      <td>add myspace</td>\n",
       "    </tr>\n",
       "    <tr>\n",
       "      <th>5</th>\n",
       "      <td>so sleepy. good times tonight though</td>\n",
       "      <td>Not Depressed</td>\n",
       "      <td>sleepy good times tonight though</td>\n",
       "    </tr>\n",
       "    <tr>\n",
       "      <th>6</th>\n",
       "      <td>@SilkCharm re: #nbn as someone already said, d...</td>\n",
       "      <td>Not Depressed</td>\n",
       "      <td>silkcharm re nbn someone already said fiber ho...</td>\n",
       "    </tr>\n",
       "    <tr>\n",
       "      <th>7</th>\n",
       "      <td>23 or 24ï¿½C possible today. Nice</td>\n",
       "      <td>Not Depressed</td>\n",
       "      <td>ï¿½c possible today nice</td>\n",
       "    </tr>\n",
       "    <tr>\n",
       "      <th>8</th>\n",
       "      <td>nite twitterville  workout in the am  -ciao</td>\n",
       "      <td>Not Depressed</td>\n",
       "      <td>nite twitterville workout ciao</td>\n",
       "    </tr>\n",
       "    <tr>\n",
       "      <th>9</th>\n",
       "      <td>@daNanner Night, darlin'!  Sweet dreams to you</td>\n",
       "      <td>Not Depressed</td>\n",
       "      <td>dananner night darlin sweet dreams</td>\n",
       "    </tr>\n",
       "  </tbody>\n",
       "</table>\n",
       "</div>"
      ],
      "text/plain": [
       "                                                text       Category  \\\n",
       "0  just had a real good moment. i missssssssss hi...  Not Depressed   \n",
       "1         is reading manga  http://plurk.com/p/mzp1e  Not Depressed   \n",
       "2  @comeagainjen http://twitpic.com/2y2lx - http:...  Not Depressed   \n",
       "3  @lapcat Need to send 'em to my accountant tomo...  Not Depressed   \n",
       "4      ADD ME ON MYSPACE!!!  myspace.com/LookThunder  Not Depressed   \n",
       "5              so sleepy. good times tonight though   Not Depressed   \n",
       "6  @SilkCharm re: #nbn as someone already said, d...  Not Depressed   \n",
       "7                 23 or 24ï¿½C possible today. Nice   Not Depressed   \n",
       "8        nite twitterville  workout in the am  -ciao  Not Depressed   \n",
       "9    @daNanner Night, darlin'!  Sweet dreams to you   Not Depressed   \n",
       "\n",
       "                                        text_cleaned  \n",
       "0                         real good moment miss much  \n",
       "1                                    reading manga    \n",
       "2                                     comeagainjen    \n",
       "3  lapcat need send em accountant tomorrow oddly ...  \n",
       "4                                      add myspace    \n",
       "5                   sleepy good times tonight though  \n",
       "6  silkcharm re nbn someone already said fiber ho...  \n",
       "7                           ï¿½c possible today nice  \n",
       "8                     nite twitterville workout ciao  \n",
       "9                 dananner night darlin sweet dreams  "
      ]
     },
     "execution_count": 183,
     "metadata": {},
     "output_type": "execute_result"
    }
   ],
   "source": [
    "dataset.head(10)"
   ]
  },
  {
   "cell_type": "markdown",
   "id": "327acc0c",
   "metadata": {},
   "source": [
    "10 - lemmatizer"
   ]
  },
  {
   "cell_type": "code",
   "execution_count": 184,
   "id": "b8164194",
   "metadata": {},
   "outputs": [],
   "source": [
    "from nltk.stem import WordNetLemmatizer\n",
    "from nltk.tokenize import word_tokenize\n",
    "\n",
    "\n",
    "lemmatizer = WordNetLemmatizer()"
   ]
  },
  {
   "cell_type": "code",
   "execution_count": 185,
   "id": "e1a845ad",
   "metadata": {},
   "outputs": [
    {
     "name": "stderr",
     "output_type": "stream",
     "text": [
      "[nltk_data] Downloading package punkt to\n",
      "[nltk_data]     C:\\Users\\user\\AppData\\Roaming\\nltk_data...\n",
      "[nltk_data]   Package punkt is already up-to-date!\n",
      "[nltk_data] Downloading package wordnet to /root/nltk_data/...\n",
      "[nltk_data]   Package wordnet is already up-to-date!\n",
      "'unzip' is not recognized as an internal or external command,\n",
      "operable program or batch file.\n"
     ]
    }
   ],
   "source": [
    "nltk.download('punkt')\n",
    "nltk.download('wordnet', '/root/nltk_data/')\n",
    "!unzip /root/nltk_data/corpora/wordnet.zip -d /root/nltk_data/corpora/\n",
    "from nltk.stem.wordnet import WordNetLemmatizer\n",
    "from nltk.stem import PorterStemmer"
   ]
  },
  {
   "cell_type": "code",
   "execution_count": 186,
   "id": "cd10cb11",
   "metadata": {},
   "outputs": [
    {
     "name": "stderr",
     "output_type": "stream",
     "text": [
      "[nltk_data] Downloading package wordnet to\n",
      "[nltk_data]     C:\\Users\\user\\AppData\\Roaming\\nltk_data...\n",
      "[nltk_data]   Package wordnet is already up-to-date!\n"
     ]
    },
    {
     "data": {
      "text/plain": [
       "True"
      ]
     },
     "execution_count": 186,
     "metadata": {},
     "output_type": "execute_result"
    }
   ],
   "source": [
    "import nltk\n",
    "from nltk.stem import WordNetLemmatizer\n",
    "nltk.download('wordnet')\n"
   ]
  },
  {
   "cell_type": "code",
   "execution_count": 187,
   "id": "6c99c19e",
   "metadata": {},
   "outputs": [
    {
     "data": {
      "text/html": [
       "<div>\n",
       "<style scoped>\n",
       "    .dataframe tbody tr th:only-of-type {\n",
       "        vertical-align: middle;\n",
       "    }\n",
       "\n",
       "    .dataframe tbody tr th {\n",
       "        vertical-align: top;\n",
       "    }\n",
       "\n",
       "    .dataframe thead th {\n",
       "        text-align: right;\n",
       "    }\n",
       "</style>\n",
       "<table border=\"1\" class=\"dataframe\">\n",
       "  <thead>\n",
       "    <tr style=\"text-align: right;\">\n",
       "      <th></th>\n",
       "      <th>text</th>\n",
       "      <th>Category</th>\n",
       "      <th>text_cleaned</th>\n",
       "    </tr>\n",
       "  </thead>\n",
       "  <tbody>\n",
       "    <tr>\n",
       "      <th>0</th>\n",
       "      <td>just had a real good moment. i missssssssss hi...</td>\n",
       "      <td>Not Depressed</td>\n",
       "      <td>real good moment miss much</td>\n",
       "    </tr>\n",
       "    <tr>\n",
       "      <th>1</th>\n",
       "      <td>is reading manga  http://plurk.com/p/mzp1e</td>\n",
       "      <td>Not Depressed</td>\n",
       "      <td>reading manga</td>\n",
       "    </tr>\n",
       "    <tr>\n",
       "      <th>2</th>\n",
       "      <td>@comeagainjen http://twitpic.com/2y2lx - http:...</td>\n",
       "      <td>Not Depressed</td>\n",
       "      <td>comeagainjen</td>\n",
       "    </tr>\n",
       "    <tr>\n",
       "      <th>3</th>\n",
       "      <td>@lapcat Need to send 'em to my accountant tomo...</td>\n",
       "      <td>Not Depressed</td>\n",
       "      <td>lapcat need send em accountant tomorrow oddly ...</td>\n",
       "    </tr>\n",
       "    <tr>\n",
       "      <th>4</th>\n",
       "      <td>ADD ME ON MYSPACE!!!  myspace.com/LookThunder</td>\n",
       "      <td>Not Depressed</td>\n",
       "      <td>add myspace</td>\n",
       "    </tr>\n",
       "  </tbody>\n",
       "</table>\n",
       "</div>"
      ],
      "text/plain": [
       "                                                text       Category  \\\n",
       "0  just had a real good moment. i missssssssss hi...  Not Depressed   \n",
       "1         is reading manga  http://plurk.com/p/mzp1e  Not Depressed   \n",
       "2  @comeagainjen http://twitpic.com/2y2lx - http:...  Not Depressed   \n",
       "3  @lapcat Need to send 'em to my accountant tomo...  Not Depressed   \n",
       "4      ADD ME ON MYSPACE!!!  myspace.com/LookThunder  Not Depressed   \n",
       "\n",
       "                                        text_cleaned  \n",
       "0                         real good moment miss much  \n",
       "1                                      reading manga  \n",
       "2                                       comeagainjen  \n",
       "3  lapcat need send em accountant tomorrow oddly ...  \n",
       "4                                        add myspace  "
      ]
     },
     "execution_count": 187,
     "metadata": {},
     "output_type": "execute_result"
    }
   ],
   "source": [
    "lemmatizer = nltk.stem.wordnet.WordNetLemmatizer()\n",
    "\n",
    "def lemmatizeRows(text):\n",
    "    return \" \".join([lemmatizer.lemmatize(word) for word in text.split()])\n",
    "\n",
    "dataset['text_cleaned'] = dataset['text_cleaned'].apply(lemmatizeRows)\n",
    "\n",
    "dataset.head()"
   ]
  },
  {
   "cell_type": "markdown",
   "id": "95a290ed",
   "metadata": {},
   "source": [
    "11 - Stemming"
   ]
  },
  {
   "cell_type": "code",
   "execution_count": 188,
   "id": "83b168ae",
   "metadata": {},
   "outputs": [
    {
     "data": {
      "text/html": [
       "<div>\n",
       "<style scoped>\n",
       "    .dataframe tbody tr th:only-of-type {\n",
       "        vertical-align: middle;\n",
       "    }\n",
       "\n",
       "    .dataframe tbody tr th {\n",
       "        vertical-align: top;\n",
       "    }\n",
       "\n",
       "    .dataframe thead th {\n",
       "        text-align: right;\n",
       "    }\n",
       "</style>\n",
       "<table border=\"1\" class=\"dataframe\">\n",
       "  <thead>\n",
       "    <tr style=\"text-align: right;\">\n",
       "      <th></th>\n",
       "      <th>text</th>\n",
       "      <th>Category</th>\n",
       "      <th>text_cleaned</th>\n",
       "    </tr>\n",
       "  </thead>\n",
       "  <tbody>\n",
       "    <tr>\n",
       "      <th>0</th>\n",
       "      <td>just had a real good moment. i missssssssss hi...</td>\n",
       "      <td>Not Depressed</td>\n",
       "      <td>real good moment miss much</td>\n",
       "    </tr>\n",
       "    <tr>\n",
       "      <th>1</th>\n",
       "      <td>is reading manga  http://plurk.com/p/mzp1e</td>\n",
       "      <td>Not Depressed</td>\n",
       "      <td>read manga</td>\n",
       "    </tr>\n",
       "    <tr>\n",
       "      <th>2</th>\n",
       "      <td>@comeagainjen http://twitpic.com/2y2lx - http:...</td>\n",
       "      <td>Not Depressed</td>\n",
       "      <td>comeagainjen</td>\n",
       "    </tr>\n",
       "    <tr>\n",
       "      <th>3</th>\n",
       "      <td>@lapcat Need to send 'em to my accountant tomo...</td>\n",
       "      <td>Not Depressed</td>\n",
       "      <td>lapcat need send em account tomorrow oddli eve...</td>\n",
       "    </tr>\n",
       "    <tr>\n",
       "      <th>4</th>\n",
       "      <td>ADD ME ON MYSPACE!!!  myspace.com/LookThunder</td>\n",
       "      <td>Not Depressed</td>\n",
       "      <td>add myspac</td>\n",
       "    </tr>\n",
       "  </tbody>\n",
       "</table>\n",
       "</div>"
      ],
      "text/plain": [
       "                                                text       Category  \\\n",
       "0  just had a real good moment. i missssssssss hi...  Not Depressed   \n",
       "1         is reading manga  http://plurk.com/p/mzp1e  Not Depressed   \n",
       "2  @comeagainjen http://twitpic.com/2y2lx - http:...  Not Depressed   \n",
       "3  @lapcat Need to send 'em to my accountant tomo...  Not Depressed   \n",
       "4      ADD ME ON MYSPACE!!!  myspace.com/LookThunder  Not Depressed   \n",
       "\n",
       "                                        text_cleaned  \n",
       "0                         real good moment miss much  \n",
       "1                                         read manga  \n",
       "2                                       comeagainjen  \n",
       "3  lapcat need send em account tomorrow oddli eve...  \n",
       "4                                         add myspac  "
      ]
     },
     "execution_count": 188,
     "metadata": {},
     "output_type": "execute_result"
    }
   ],
   "source": [
    "stemmer = PorterStemmer()\n",
    "\n",
    "def stemRows(text):\n",
    "    return \" \".join([stemmer.stem(word) for word in text.split()])\n",
    "\n",
    "dataset['text_cleaned'] = dataset['text_cleaned'].apply(stemRows)\n",
    "\n",
    "dataset.head()"
   ]
  },
  {
   "cell_type": "code",
   "execution_count": 189,
   "id": "54508ea0",
   "metadata": {},
   "outputs": [
    {
     "data": {
      "text/plain": [
       "text            0\n",
       "Category        0\n",
       "text_cleaned    0\n",
       "dtype: int64"
      ]
     },
     "execution_count": 189,
     "metadata": {},
     "output_type": "execute_result"
    }
   ],
   "source": [
    "dataset.isnull().sum()"
   ]
  },
  {
   "cell_type": "code",
   "execution_count": 190,
   "id": "5905752a",
   "metadata": {},
   "outputs": [
    {
     "data": {
      "text/plain": [
       "array([[0., 0., 0., ..., 0., 0., 0.],\n",
       "       [0., 0., 0., ..., 0., 0., 0.],\n",
       "       [0., 0., 0., ..., 0., 0., 0.],\n",
       "       ...,\n",
       "       [0., 0., 0., ..., 0., 0., 0.],\n",
       "       [0., 0., 0., ..., 0., 0., 0.],\n",
       "       [0., 0., 0., ..., 0., 0., 0.]])"
      ]
     },
     "execution_count": 190,
     "metadata": {},
     "output_type": "execute_result"
    }
   ],
   "source": [
    "from sklearn.feature_extraction.text import TfidfVectorizer\n",
    "\n",
    "Vectorizer = TfidfVectorizer()\n",
    "\n",
    "dataVectorized = Vectorizer.fit_transform(dataset['text_cleaned'])\n",
    "\n",
    "dataVectorized.toarray()"
   ]
  },
  {
   "cell_type": "code",
   "execution_count": 191,
   "id": "5594aebe",
   "metadata": {},
   "outputs": [
    {
     "data": {
      "text/plain": [
       "(10282, 17420)"
      ]
     },
     "execution_count": 191,
     "metadata": {},
     "output_type": "execute_result"
    }
   ],
   "source": [
    "dataVectorized.toarray().shape\n"
   ]
  },
  {
   "cell_type": "markdown",
   "id": "d473faf9",
   "metadata": {},
   "source": [
    "# Build a Naive Bayes mode"
   ]
  },
  {
   "cell_type": "code",
   "execution_count": 192,
   "id": "d6bfd9cf",
   "metadata": {},
   "outputs": [],
   "source": [
    "import pandas as pd\n",
    "from sklearn.model_selection import train_test_split\n",
    "from sklearn.feature_extraction.text import CountVectorizer\n",
    "from sklearn.naive_bayes import MultinomialNB\n",
    "from sklearn.metrics import accuracy_score, classification_report, confusion_matrix\n",
    "\n",
    "\n",
    "X =dataVectorized\n",
    "y = dataset['Category']\n",
    "\n",
    "X_train, X_test, y_train, y_test = train_test_split(X, y, test_size=0.3, random_state=42)\n",
    "\n",
    "\n",
    "\n",
    "\n"
   ]
  },
  {
   "cell_type": "code",
   "execution_count": 193,
   "id": "577f2873",
   "metadata": {},
   "outputs": [],
   "source": [
    "\n",
    "naive_bayes_model = MultinomialNB()\n",
    "\n",
    "naive_bayes_model.fit(X_train, y_train)\n",
    "\n",
    "y_pred = naive_bayes_model.predict(X_test)\n",
    "\n"
   ]
  },
  {
   "cell_type": "code",
   "execution_count": 194,
   "id": "d3fd9ef5",
   "metadata": {},
   "outputs": [
    {
     "name": "stdout",
     "output_type": "stream",
     "text": [
      "Accuracy: 90.18%\n",
      "Confusion Matrix:\n",
      " [[ 371  298]\n",
      " [   5 2411]]\n",
      "Classification Report:\n",
      "                precision    recall  f1-score   support\n",
      "\n",
      "    Depressed       0.99      0.55      0.71       669\n",
      "Not Depressed       0.89      1.00      0.94      2416\n",
      "\n",
      "     accuracy                           0.90      3085\n",
      "    macro avg       0.94      0.78      0.83      3085\n",
      " weighted avg       0.91      0.90      0.89      3085\n",
      "\n"
     ]
    }
   ],
   "source": [
    "# Evaluate the model\n",
    "accuracy = accuracy_score(y_test, y_pred)\n",
    "conf_matrix = confusion_matrix(y_test, y_pred)\n",
    "classification_rep = classification_report(y_test, y_pred)\n",
    "\n",
    "print(f\"Accuracy: {accuracy:.2%}\")\n",
    "print(\"Confusion Matrix:\\n\", conf_matrix)\n",
    "print(\"Classification Report:\\n\", classification_rep)"
   ]
  },
  {
   "cell_type": "code",
   "execution_count": null,
   "id": "c868ec40",
   "metadata": {},
   "outputs": [],
   "source": []
  },
  {
   "cell_type": "code",
   "execution_count": null,
   "id": "e8ea623a",
   "metadata": {},
   "outputs": [],
   "source": []
  }
 ],
 "metadata": {
  "kernelspec": {
   "display_name": "Python 3 (ipykernel)",
   "language": "python",
   "name": "python3"
  },
  "language_info": {
   "codemirror_mode": {
    "name": "ipython",
    "version": 3
   },
   "file_extension": ".py",
   "mimetype": "text/x-python",
   "name": "python",
   "nbconvert_exporter": "python",
   "pygments_lexer": "ipython3",
   "version": "3.11.5"
  }
 },
 "nbformat": 4,
 "nbformat_minor": 5
}
